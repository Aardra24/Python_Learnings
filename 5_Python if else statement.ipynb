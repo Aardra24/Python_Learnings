{
 "cells": [
  {
   "cell_type": "markdown",
   "id": "6e23fd00-8751-41c3-86f9-d2dae0892179",
   "metadata": {},
   "source": [
    "## Python if Statement"
   ]
  },
  {
   "cell_type": "code",
   "execution_count": 18,
   "id": "0ae6503e-fe21-4976-b579-dffd180c2ac2",
   "metadata": {},
   "outputs": [
    {
     "name": "stdin",
     "output_type": "stream",
     "text": [
      "Enter a number:  -5\n"
     ]
    },
    {
     "name": "stdout",
     "output_type": "stream",
     "text": [
      "The statement always executes\n"
     ]
    }
   ],
   "source": [
    "num = int(input(\"Enter a number: \"))\n",
    "if num > 0:\n",
    "    print(\"The number is positive\")\n",
    "print(\"The statement always executes\")"
   ]
  },
  {
   "cell_type": "markdown",
   "id": "2944a3bd-f46a-468d-b31b-69edceec06c4",
   "metadata": {},
   "source": [
    "This is because the value of the number is less than 0. Hence, **the condition evaluates to False. And, the body of the if statement is skipped.**"
   ]
  },
  {
   "cell_type": "markdown",
   "id": "b3dab4ea-a700-4247-8cf3-f4ff59053b80",
   "metadata": {},
   "source": [
    "## Python if...else Statement"
   ]
  },
  {
   "cell_type": "code",
   "execution_count": 27,
   "id": "cbb53e92-da6b-4017-97ba-f62e2e2a76d3",
   "metadata": {},
   "outputs": [
    {
     "name": "stdin",
     "output_type": "stream",
     "text": [
      "Enter a number:  -5\n"
     ]
    },
    {
     "name": "stdout",
     "output_type": "stream",
     "text": [
      "The number is negative\n",
      "This statement always excecutes\n"
     ]
    }
   ],
   "source": [
    "num= int(input(\"Enter a number: \"))\n",
    "if num > 0:\n",
    "    print(\"The number is positive\")\n",
    "else:\n",
    "    print(\"The number is negative\")\n",
    "print('This statement always excecutes')"
   ]
  },
  {
   "cell_type": "markdown",
   "id": "d56c11fb-9423-4816-af27-ba2aa8c5b004",
   "metadata": {},
   "source": [
    "## Python if…elif…else Statement"
   ]
  },
  {
   "cell_type": "markdown",
   "id": "080a41d0-1199-4cd7-bb0d-e20c1b0f2ca4",
   "metadata": {},
   "source": [
    "The if...else statement is used to execute a block of code among two alternatives.\n",
    "\n",
    "**However, if we need to make a choice between more than two alternatives, we use the if...elif...else statement**"
   ]
  },
  {
   "cell_type": "code",
   "execution_count": 36,
   "id": "d2cfdf6a-e0f0-4993-bc8c-6cddced9f187",
   "metadata": {},
   "outputs": [
    {
     "name": "stdin",
     "output_type": "stream",
     "text": [
      "Enter a number:  0\n"
     ]
    },
    {
     "name": "stdout",
     "output_type": "stream",
     "text": [
      "Zero\n",
      "This statement is always executed\n"
     ]
    }
   ],
   "source": [
    "num = int(input(\"Enter a number: \"))\n",
    "if num > 0:\n",
    "    print(\"The number is positive\")\n",
    "elif num < 0:\n",
    "    print(\"The number is negative\")\n",
    "else:\n",
    "    print(\"Zero\")\n",
    "print(\"This statement is always executed\")"
   ]
  },
  {
   "cell_type": "markdown",
   "id": "e4cb0336-c41d-4cc5-913e-4392b337c83f",
   "metadata": {},
   "source": [
    "## Python Nested if Statements"
   ]
  },
  {
   "cell_type": "code",
   "execution_count": 41,
   "id": "ff027627-8329-4998-bbee-5f29ea1d4e35",
   "metadata": {},
   "outputs": [
    {
     "name": "stdin",
     "output_type": "stream",
     "text": [
      "Enter a number:  5\n"
     ]
    },
    {
     "name": "stdout",
     "output_type": "stream",
     "text": [
      "Number is Positive\n"
     ]
    }
   ],
   "source": [
    "num = int(input(\"Enter a number: \"))\n",
    "if num >= 0:\n",
    "    if num == 0:\n",
    "        print(\"Number is Zero\")\n",
    "    else:\n",
    "        print(\"Number is Positive\")\n",
    "else:\n",
    "    print(\"Number is Negative\")"
   ]
  },
  {
   "cell_type": "markdown",
   "id": "676ad63d-34b7-4ee5-8ced-b3b6ed519d1b",
   "metadata": {},
   "source": [
    "**Suppose we need to assign different grades to students based on their scores.**\n",
    "\n",
    "- **If a student scores above 90, assign grade A**\n",
    "- **If a student scores above 75, assign grade B**\n",
    "- **If a student scores above 65, assign grade C**"
   ]
  },
  {
   "cell_type": "code",
   "execution_count": 69,
   "id": "b1d0fffd-b005-4636-ab75-6b9b1feff5d6",
   "metadata": {},
   "outputs": [
    {
     "name": "stdin",
     "output_type": "stream",
     "text": [
      "Enter a number:  11\n"
     ]
    },
    {
     "name": "stdout",
     "output_type": "stream",
     "text": [
      "C Grade\n"
     ]
    }
   ],
   "source": [
    "num = int(input(\"Enter a number: \"))\n",
    "if num > 90:\n",
    "    print(\"A Grade\")\n",
    "elif num > 75:\n",
    "    print(\"B Grade\")\n",
    "    \n",
    "else:\n",
    "    print(\"C Grade\")\n",
    "    "
   ]
  },
  {
   "cell_type": "code",
   "execution_count": null,
   "id": "e6d2e1bc-1aba-4eaf-970f-746c19ab53c0",
   "metadata": {},
   "outputs": [],
   "source": []
  }
 ],
 "metadata": {
  "kernelspec": {
   "display_name": "Python 3 (ipykernel)",
   "language": "python",
   "name": "python3"
  },
  "language_info": {
   "codemirror_mode": {
    "name": "ipython",
    "version": 3
   },
   "file_extension": ".py",
   "mimetype": "text/x-python",
   "name": "python",
   "nbconvert_exporter": "python",
   "pygments_lexer": "ipython3",
   "version": "3.12.4"
  }
 },
 "nbformat": 4,
 "nbformat_minor": 5
}
