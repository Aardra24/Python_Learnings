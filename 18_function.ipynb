{
 "cells": [
  {
   "cell_type": "markdown",
   "id": "b99748a0-7c59-4008-99ed-e3e0bf50e43d",
   "metadata": {},
   "source": [
    "## Python Functions\n",
    "\n",
    "A function is a block of code that performs a specific task.\n",
    "\n",
    "Suppose we need to create a program to make a circle and color it. We can create two functions to solve this problem:\n",
    "\n",
    "1. function to create a circle\n",
    "2. function to color the shape"
   ]
  },
  {
   "cell_type": "code",
   "execution_count": 123,
   "id": "2a1ecf7d-9db1-4a80-b260-28651e929185",
   "metadata": {},
   "outputs": [
    {
     "name": "stdout",
     "output_type": "stream",
     "text": [
      "Hello Sir\n"
     ]
    }
   ],
   "source": [
    "def greet(name):\n",
    "    print(\"Hello\",name)\n",
    "greet(\"Sir\")"
   ]
  },
  {
   "cell_type": "code",
   "execution_count": 124,
   "id": "4f2d6c8e-98cd-43ca-9b05-11339e0699b5",
   "metadata": {},
   "outputs": [
    {
     "name": "stdout",
     "output_type": "stream",
     "text": [
      "20\n"
     ]
    }
   ],
   "source": [
    "def add_numbers(num1,num2):\n",
    "    sum = num1 + num2\n",
    "    print(sum)\n",
    "add_numbers(5,15)"
   ]
  },
  {
   "cell_type": "markdown",
   "id": "e02f495a-12e1-45b5-b71f-4b1fadd571df",
   "metadata": {},
   "source": [
    "## Function Argument with Default Values\n"
   ]
  },
  {
   "cell_type": "code",
   "execution_count": 152,
   "id": "700f8c9f-1dd7-48a3-84b6-2464646bf0ef",
   "metadata": {},
   "outputs": [
    {
     "ename": "SyntaxError",
     "evalue": "parameter without a default follows parameter with a default (572258942.py, line 1)",
     "output_type": "error",
     "traceback": [
      "\u001b[1;36m  Cell \u001b[1;32mIn[152], line 1\u001b[1;36m\u001b[0m\n\u001b[1;33m    def add_numbers(num1 = 5,num2= 10,num3):\u001b[0m\n\u001b[1;37m                                      ^\u001b[0m\n\u001b[1;31mSyntaxError\u001b[0m\u001b[1;31m:\u001b[0m parameter without a default follows parameter with a default\n"
     ]
    }
   ],
   "source": [
    "def add_numbers(num1 = 5,num2= 10,num3):\n",
    "    sum = num1 + num2\n",
    "    print(num3)\n",
    "    print(sum)\n",
    "    \n",
    "# add_numbers(num2 = 6)\n",
    "add_numbers(6)\n",
    "# add_numbers(2, 6)"
   ]
  },
  {
   "cell_type": "markdown",
   "id": "fa522047-8444-4ea5-9621-fc4fc58ebe61",
   "metadata": {},
   "source": [
    "## Python Keyword Argument"
   ]
  },
  {
   "cell_type": "code",
   "execution_count": 128,
   "id": "73de4949-87af-46aa-bcdb-497a7b2f3a74",
   "metadata": {},
   "outputs": [
    {
     "name": "stdout",
     "output_type": "stream",
     "text": [
      "First_name: Aardra\n",
      "Last_name: Reji\n"
     ]
    }
   ],
   "source": [
    "def display(First_name,Last_name):\n",
    "    print(\"First_name:\",First_name)\n",
    "    print(\"Last_name:\",Last_name)\n",
    "display(First_name = \"Aardra\",Last_name= \"Reji\")"
   ]
  },
  {
   "cell_type": "markdown",
   "id": "9253fc04-5b4f-43bb-a282-4e0538c17584",
   "metadata": {},
   "source": [
    "## Python Function With Arbitrary Arguments"
   ]
  },
  {
   "cell_type": "markdown",
   "id": "9c989d96-b22b-4076-9bd1-cc7a0f997362",
   "metadata": {},
   "source": [
    "## Introduction to *args and **kwargs in Python\n",
    "\n",
    "**In Python, we can pass a variable number of arguments to a function using special symbols. There are two special symbols:**\n",
    "\n",
    "1. *args (Non Keyword Arguments)\n",
    "2. **kwargs (Keyword Arguments)"
   ]
  },
  {
   "cell_type": "code",
   "execution_count": 131,
   "id": "25919d88-9e55-41d5-a63b-b2352d5ce4bc",
   "metadata": {},
   "outputs": [
    {
     "name": "stdout",
     "output_type": "stream",
     "text": [
      "Sum: 539\n"
     ]
    }
   ],
   "source": [
    "def sum(*num):\n",
    "    sum = 0\n",
    "    for i in num:\n",
    "        sum = sum + i\n",
    "    print(\"Sum:\",sum)\n",
    "\n",
    "sum(5,8,526)\n",
    "    "
   ]
  },
  {
   "cell_type": "code",
   "execution_count": 132,
   "id": "6e293b82-ee75-4913-a099-3ca954e1b0db",
   "metadata": {},
   "outputs": [
    {
     "name": "stdout",
     "output_type": "stream",
     "text": [
      "data type: <class 'dict'>\n",
      "Firstname is Sita\n",
      "Lastname is Sharma\n",
      "Age is 22\n",
      "Phone is 1234567890\n",
      "data type: <class 'dict'>\n",
      "Firstname is John\n",
      "Lastname is Wood\n",
      "Email is johnwood@nomail.com\n",
      "Country is Wakanda\n",
      "Age is 25\n",
      "Phone is 9876543210\n"
     ]
    }
   ],
   "source": [
    "def profile(**data):\n",
    "    print(\"data type:\",type(data))\n",
    "    for key,value in data.items():\n",
    "        print(\"{} is {}\".format(key,value))\n",
    "\n",
    "profile(Firstname=\"Sita\", Lastname=\"Sharma\", Age=22, Phone=1234567890)\n",
    "profile(Firstname=\"John\", Lastname=\"Wood\", Email=\"johnwood@nomail.com\", Country=\"Wakanda\", Age=25, Phone=9876543210)"
   ]
  },
  {
   "cell_type": "markdown",
   "id": "3b6ef275-5bec-4c08-a26c-953e59f797ea",
   "metadata": {},
   "source": [
    "## Python Recursive Function"
   ]
  },
  {
   "cell_type": "markdown",
   "id": "9fc21e14-09c7-46fd-a313-5a4a27ac2598",
   "metadata": {},
   "source": [
    "**In Python, we know that a function can call other functions. It is even possible for the function to call itself. These types of construct are termed as recursive functions.**"
   ]
  },
  {
   "cell_type": "code",
   "execution_count": 135,
   "id": "b16bfc61-696a-4b89-8726-f796a782b6cb",
   "metadata": {},
   "outputs": [
    {
     "name": "stdout",
     "output_type": "stream",
     "text": [
      "The factorial of 5 is 120\n"
     ]
    }
   ],
   "source": [
    "def factorial(x):\n",
    "\n",
    "    if x == 1:\n",
    "        return 1\n",
    "    else:\n",
    "        return (x * factorial(x-1))\n",
    "\n",
    "num = 5\n",
    "print(\"The factorial of\", num, \"is\", factorial(num))"
   ]
  },
  {
   "cell_type": "markdown",
   "id": "24a1a98e-3473-4de5-9141-a22c9da8c91e",
   "metadata": {},
   "source": [
    "In the above example, factorial() is a recursive function as it calls itself.\n",
    "\n",
    "When we call this function with a positive integer, it will recursively call itself by decreasing the number.\n",
    "\n",
    "Each function multiplies the number with the factorial of the number below it until it is equal to one. This recursive call can be explained in the following steps.\n",
    "\n",
    "factorial(3)          # 1st call with 3 \\\n",
    "3 * factorial(2)      # 2nd call with 2 \\\n",
    "3 * 2 * factorial(1)  # 3rd call with 1 \\\n",
    "3 * 2 * 1             # return from 3rd call as number=1 \\\n",
    "3 * 2                 # return from 2nd call \\\n",
    "6                     # return from 1st call "
   ]
  },
  {
   "cell_type": "markdown",
   "id": "2359ddab-ae46-4a86-b553-d936e98ee94c",
   "metadata": {},
   "source": [
    "## Python Program to Display Fibonacci Sequence Using Recursion"
   ]
  },
  {
   "cell_type": "code",
   "execution_count": 138,
   "id": "ff2345e2-d1b0-41c5-94c0-a20f951ade68",
   "metadata": {},
   "outputs": [
    {
     "name": "stdin",
     "output_type": "stream",
     "text": [
      "Enter number of sequence:  5\n"
     ]
    },
    {
     "name": "stdout",
     "output_type": "stream",
     "text": [
      "fibonacci sequence:\n",
      "1\n",
      "1\n",
      "2\n",
      "3\n",
      "5\n"
     ]
    }
   ],
   "source": [
    "def fibonacci(n):\n",
    "    if n <= 1:\n",
    "        return 1\n",
    "    else:\n",
    "        return(fibonacci(n-1)+fibonacci(n-2))\n",
    "n = int(input(\"Enter number of sequence: \"))\n",
    "if n < 1:\n",
    "    print(\"Please enter a positive number and try again!\")\n",
    "else:\n",
    "    print(\"fibonacci sequence:\")\n",
    "    for i in range(n):\n",
    "        print(fibonacci(i))\n"
   ]
  },
  {
   "cell_type": "code",
   "execution_count": null,
   "id": "faabd0f0-7aeb-445c-af4a-e7b811e8a2eb",
   "metadata": {},
   "outputs": [],
   "source": []
  }
 ],
 "metadata": {
  "kernelspec": {
   "display_name": "Python 3 (ipykernel)",
   "language": "python",
   "name": "python3"
  },
  "language_info": {
   "codemirror_mode": {
    "name": "ipython",
    "version": 3
   },
   "file_extension": ".py",
   "mimetype": "text/x-python",
   "name": "python",
   "nbconvert_exporter": "python",
   "pygments_lexer": "ipython3",
   "version": "3.12.4"
  }
 },
 "nbformat": 4,
 "nbformat_minor": 5
}
