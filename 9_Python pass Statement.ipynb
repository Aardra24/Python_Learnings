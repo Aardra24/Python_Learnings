{
 "cells": [
  {
   "cell_type": "markdown",
   "id": "c30d3463-d2b0-4c8d-a268-319b5e0a4a71",
   "metadata": {},
   "source": [
    "**pass statement is a null statement which can be used as a placeholder for future code.**\r\n",
    "\r\n",
    "Suppose we have a loop or a function that is not implemented yet, but we want to implement it in the future. In such cases, we can use the pass statement."
   ]
  },
  {
   "cell_type": "markdown",
   "id": "878f935e-ae77-48c7-8753-389bc478b58d",
   "metadata": {},
   "source": [
    "n = int(input(\"Enter a number: \"))\n",
    "if n>10:\n",
    "    pass\n",
    "print(\"Hello\")"
   ]
  },
  {
   "cell_type": "markdown",
   "id": "923c91d4-47cd-4b40-8fbc-626b3e60bb9f",
   "metadata": {},
   "source": [
    "Suppose we didn't use pass or just put a comment as:"
   ]
  },
  {
   "cell_type": "code",
   "execution_count": 7,
   "id": "7ed8d41a-d83c-47e2-b468-e1de32801115",
   "metadata": {},
   "outputs": [
    {
     "ename": "IndentationError",
     "evalue": "expected an indented block after 'if' statement on line 2 (2843623075.py, line 4)",
     "output_type": "error",
     "traceback": [
      "\u001b[1;36m  Cell \u001b[1;32mIn[7], line 4\u001b[1;36m\u001b[0m\n\u001b[1;33m    print(\"Hello\")\u001b[0m\n\u001b[1;37m    ^\u001b[0m\n\u001b[1;31mIndentationError\u001b[0m\u001b[1;31m:\u001b[0m expected an indented block after 'if' statement on line 2\n"
     ]
    }
   ],
   "source": [
    "n = int(input(\"Enter a number: \"))\n",
    "if n>10:\n",
    "    # Code later\n",
    "print(\"Hello\")"
   ]
  },
  {
   "cell_type": "markdown",
   "id": "4bdf714b-f348-46cf-9ec8-7e20a8edeaa4",
   "metadata": {},
   "source": [
    "**Note:** The difference between a comment and a pass statement in Python is that while the interpreter ignores a comment entirely, pass is not ignored."
   ]
  },
  {
   "cell_type": "markdown",
   "id": "41732c6e-af2d-4796-88ce-c61c8edab80e",
   "metadata": {},
   "source": [
    "## Use of pass Statement inside Function or Class"
   ]
  },
  {
   "cell_type": "code",
   "execution_count": null,
   "id": "c8191019-70cb-450d-94d1-11ad3a855aa1",
   "metadata": {},
   "outputs": [],
   "source": [
    "def some"
   ]
  }
 ],
 "metadata": {
  "kernelspec": {
   "display_name": "Python 3 (ipykernel)",
   "language": "python",
   "name": "python3"
  },
  "language_info": {
   "codemirror_mode": {
    "name": "ipython",
    "version": 3
   },
   "file_extension": ".py",
   "mimetype": "text/x-python",
   "name": "python",
   "nbconvert_exporter": "python",
   "pygments_lexer": "ipython3",
   "version": "3.12.4"
  }
 },
 "nbformat": 4,
 "nbformat_minor": 5
}
