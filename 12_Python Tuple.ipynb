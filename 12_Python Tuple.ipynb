{
 "cells": [
  {
   "cell_type": "markdown",
   "id": "69ba9dae-f3cc-44ef-a6c3-3758a4d09e4e",
   "metadata": {},
   "source": [
    "**Tuple Characteristics**\n",
    "  \n",
    "Tuples are:\n",
    "\n",
    "Ordered - They maintain the order of elements.\\\n",
    "Immutable - They cannot be changed after creation.\\\n",
    "Allow duplicates - They can contain duplicate values.\n",
    "\n"
   ]
  },
  {
   "cell_type": "markdown",
   "id": "3adeed30-cf60-4809-bae7-aca885e8b5a3",
   "metadata": {},
   "source": [
    "**We create a tuple by placing items inside parentheses ().**"
   ]
  },
  {
   "cell_type": "code",
   "execution_count": 7,
   "id": "2471fdb0-7c9f-4465-8520-8a2b55d60120",
   "metadata": {},
   "outputs": [
    {
     "name": "stdout",
     "output_type": "stream",
     "text": [
      "(91, 2, 8, 5)\n"
     ]
    }
   ],
   "source": [
    "number = (91,2,8,5)\n",
    "print(number)"
   ]
  },
  {
   "cell_type": "markdown",
   "id": "ddf6c7d8-9f8a-44cf-a589-614b956fb4dd",
   "metadata": {},
   "source": [
    "## Access Items Using Index"
   ]
  },
  {
   "cell_type": "code",
   "execution_count": 12,
   "id": "a9e8adca-7f15-4ab1-be61-1c37a616c9c2",
   "metadata": {},
   "outputs": [
    {
     "name": "stdout",
     "output_type": "stream",
     "text": [
      "5\n"
     ]
    }
   ],
   "source": [
    "num = (3,8,5,8)\n",
    "print(num[2])"
   ]
  },
  {
   "cell_type": "markdown",
   "id": "8f62b07b-ad12-4448-9e80-b7be14f574b7",
   "metadata": {},
   "source": [
    "## Tuple Cannot be Modified"
   ]
  },
  {
   "cell_type": "code",
   "execution_count": 15,
   "id": "b87efa07-8790-4d6d-a74d-88cad6b6e0a0",
   "metadata": {},
   "outputs": [
    {
     "ename": "TypeError",
     "evalue": "'tuple' object does not support item assignment",
     "output_type": "error",
     "traceback": [
      "\u001b[1;31m---------------------------------------------------------------------------\u001b[0m",
      "\u001b[1;31mTypeError\u001b[0m                                 Traceback (most recent call last)",
      "Cell \u001b[1;32mIn[15], line 2\u001b[0m\n\u001b[0;32m      1\u001b[0m num \u001b[38;5;241m=\u001b[39m (\u001b[38;5;241m3\u001b[39m,\u001b[38;5;241m8\u001b[39m,\u001b[38;5;241m5\u001b[39m,\u001b[38;5;241m8\u001b[39m)\n\u001b[1;32m----> 2\u001b[0m num[\u001b[38;5;241m0\u001b[39m] \u001b[38;5;241m=\u001b[39m \u001b[38;5;241m5\u001b[39m\n\u001b[0;32m      3\u001b[0m \u001b[38;5;28mprint\u001b[39m(num)\n",
      "\u001b[1;31mTypeError\u001b[0m: 'tuple' object does not support item assignment"
     ]
    }
   ],
   "source": [
    "num = (3,8,5,8)\n",
    "num[0] = 5\n",
    "print(num)"
   ]
  },
  {
   "cell_type": "markdown",
   "id": "649fe1f3-9a96-4bb9-bed8-e8d1e399669e",
   "metadata": {},
   "source": [
    "## Python Tuple Length"
   ]
  },
  {
   "cell_type": "code",
   "execution_count": 19,
   "id": "c0721b64-7ef9-4a9d-b6f3-e58f8e373d9d",
   "metadata": {},
   "outputs": [
    {
     "name": "stdout",
     "output_type": "stream",
     "text": [
      "Length of Tuple:  4\n"
     ]
    }
   ],
   "source": [
    "num = (2,3,5,5)\n",
    "print(\"Length of Tuple: \",len(num))"
   ]
  },
  {
   "cell_type": "markdown",
   "id": "8258fa63-4bb0-41f0-a789-e8cdd623235b",
   "metadata": {},
   "source": [
    "## Iterate Through a Tuple"
   ]
  },
  {
   "cell_type": "code",
   "execution_count": 27,
   "id": "42c91888-60ed-41ff-aa46-ae7496ce6d72",
   "metadata": {},
   "outputs": [
    {
     "name": "stdout",
     "output_type": "stream",
     "text": [
      "Aardra\n",
      "Ananya\n"
     ]
    }
   ],
   "source": [
    "names = ('Aardra','Ananya')\n",
    "for names in names:\n",
    "    print(names)"
   ]
  },
  {
   "cell_type": "markdown",
   "id": "c9510452-347c-41d2-a3ba-c39280fb9120",
   "metadata": {},
   "source": [
    "## Check if an Item Exists in the Tuple"
   ]
  },
  {
   "cell_type": "code",
   "execution_count": 36,
   "id": "f214ef12-2c36-40c4-97d8-4d3e7add1ab4",
   "metadata": {},
   "outputs": [
    {
     "name": "stdout",
     "output_type": "stream",
     "text": [
      "True\n"
     ]
    }
   ],
   "source": [
    "tuple = (5,6,8)\n",
    "print(5 in tuple)"
   ]
  },
  {
   "cell_type": "markdown",
   "id": "effedcad-5e04-476a-a7ef-b70cb3123da3",
   "metadata": {},
   "source": [
    "## Delete Tuples\n",
    "\n",
    "\n",
    "We cannot delete individual items of a tuple. However, we can delete the tuple itself using the del statement. \n",
    "\n"
   ]
  },
  {
   "cell_type": "code",
   "execution_count": 47,
   "id": "c46fc4f6-9a6e-4d76-b3f9-79a072a7f991",
   "metadata": {},
   "outputs": [
    {
     "name": "stdout",
     "output_type": "stream",
     "text": [
      "<class 'tuple'>\n"
     ]
    }
   ],
   "source": [
    "tuple = (5,6,8)\n",
    "del(tuple)\n",
    "print(tuple)"
   ]
  },
  {
   "cell_type": "markdown",
   "id": "a8c6ce6c-f99e-4c6a-95b9-caac8ece540a",
   "metadata": {},
   "source": [
    "## Create a Python Tuple With One Item"
   ]
  },
  {
   "cell_type": "code",
   "execution_count": 53,
   "id": "8fd23908-0086-4866-bf67-7be309312175",
   "metadata": {},
   "outputs": [
    {
     "name": "stdout",
     "output_type": "stream",
     "text": [
      "hello <class 'str'>\n"
     ]
    }
   ],
   "source": [
    "tuple = (\"hello\")\n",
    "print(tuple,type(tuple))"
   ]
  },
  {
   "cell_type": "markdown",
   "id": "48d22471-62f9-4947-a33d-9af2658b1566",
   "metadata": {},
   "source": [
    "**But this would not create a tuple; instead, it would be considered a string.**"
   ]
  },
  {
   "cell_type": "markdown",
   "id": "d04eefb3-e9e6-4ecc-94ba-c0ae27192912",
   "metadata": {},
   "source": [
    "**To solve this, we need to include a trailing comma after the item.**"
   ]
  },
  {
   "cell_type": "code",
   "execution_count": 56,
   "id": "b1a338b9-dbc4-4ad2-b851-b324b0aa5f4a",
   "metadata": {},
   "outputs": [
    {
     "name": "stdout",
     "output_type": "stream",
     "text": [
      "('hello',) <class 'tuple'>\n"
     ]
    }
   ],
   "source": [
    "tuple = (\"hello\",)\n",
    "print(tuple,type(tuple))"
   ]
  }
 ],
 "metadata": {
  "kernelspec": {
   "display_name": "Python 3 (ipykernel)",
   "language": "python",
   "name": "python3"
  },
  "language_info": {
   "codemirror_mode": {
    "name": "ipython",
    "version": 3
   },
   "file_extension": ".py",
   "mimetype": "text/x-python",
   "name": "python",
   "nbconvert_exporter": "python",
   "pygments_lexer": "ipython3",
   "version": "3.12.4"
  }
 },
 "nbformat": 4,
 "nbformat_minor": 5
}
