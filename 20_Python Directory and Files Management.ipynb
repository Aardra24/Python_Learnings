{
 "cells": [
  {
   "cell_type": "markdown",
   "id": "42753866-fb9e-4c18-a6ba-6f044b3a9acb",
   "metadata": {},
   "source": [
    "## Python Directory and Files Management"
   ]
  },
  {
   "cell_type": "markdown",
   "id": "e73bb029-7721-4897-9481-6d5f676077bd",
   "metadata": {},
   "source": [
    "**A directory is a collection of files and subdirectories. A directory inside a directory is known as a subdirectory.**"
   ]
  },
  {
   "cell_type": "markdown",
   "id": "6e0bf53e-622f-475a-947f-22c871cfc852",
   "metadata": {},
   "source": [
    "## Get Current Directory in Python\n",
    "\n",
    "We can get the present working directory using the getcwd() method of the os module."
   ]
  },
  {
   "cell_type": "code",
   "execution_count": 73,
   "id": "345609ec-b259-4275-b15e-0562dcc4588f",
   "metadata": {},
   "outputs": [
    {
     "name": "stdout",
     "output_type": "stream",
     "text": [
      "C:\\Users\\aardr\\Desktop\\Python_Learnings\n"
     ]
    }
   ],
   "source": [
    "import os\n",
    "print(os.getcwd())"
   ]
  },
  {
   "cell_type": "markdown",
   "id": "7301eafd-1d6c-4a98-bc64-9ac58f3478e3",
   "metadata": {},
   "source": [
    "## Changing Directory in Python\n",
    "\n",
    "In Python, we can change the current working directory by using the chdir() method.\n",
    "\n",
    "The new path that we want to change into must be supplied as a string to this method. And we can use both the forward-slash / or the backward-slash \\ to separate the path elements."
   ]
  },
  {
   "cell_type": "code",
   "execution_count": 75,
   "id": "0a53de6c-eef8-4be8-a0ed-5fa4ef6896d8",
   "metadata": {},
   "outputs": [
    {
     "name": "stdout",
     "output_type": "stream",
     "text": [
      "C:\\Users\\aardr\\Desktop\\Python_Learnings\n"
     ]
    }
   ],
   "source": [
    "import os\n",
    "os.chdir('C:\\\\Users\\\\aardr\\\\Desktop\\\\Python_Learnings')\n",
    "print(os.getcwd())"
   ]
  },
  {
   "cell_type": "markdown",
   "id": "7a3633c8-633f-41ec-b643-9fb048901656",
   "metadata": {},
   "source": [
    "## List Directories and Files in Python\n",
    "\n",
    "All files and sub-directories inside a directory can be retrieved using the listdir() method."
   ]
  },
  {
   "cell_type": "code",
   "execution_count": 77,
   "id": "0f24063e-a2ff-428f-bec4-cc5b074a4605",
   "metadata": {},
   "outputs": [
    {
     "data": {
      "text/plain": [
       "['.git',\n",
       " '10_Python Numbers, Type Conversion and Mathematics.ipynb',\n",
       " '11_Python List.ipynb',\n",
       " '12_Python Tuple.ipynb',\n",
       " '13_Built_in.ipynb',\n",
       " '13_python math.ipynb',\n",
       " '15_String.ipynb',\n",
       " '16_Set.ipynb',\n",
       " '17_Dictionary.ipynb',\n",
       " '18_function.ipynb',\n",
       " '1_answers.ipynb',\n",
       " '1_Coding.ipynb',\n",
       " '1_Python Variables and Literals.ipynb',\n",
       " '2_Python type conversion.ipynb',\n",
       " '3_Python Basic Input and Output.ipynb',\n",
       " '4_Python Operators.ipynb',\n",
       " '5_Python if else statement.ipynb',\n",
       " '6_Python for Loop.ipynb',\n",
       " '7_Python while Loop.ipynb',\n",
       " '8_Python break and continue.ipynb',\n",
       " '9_Python pass Statement.ipynb',\n",
       " 'Git-2.45.2-64-bit.exe',\n",
       " 'GitHubDesktopSetup-x64.exe',\n",
       " 'Music-Recommendation-main.zip',\n",
       " 'Not_0092024_1912024.pdf',\n",
       " 'Not_0092024_1992024.pdf',\n",
       " 'test2']"
      ]
     },
     "execution_count": 77,
     "metadata": {},
     "output_type": "execute_result"
    }
   ],
   "source": [
    "os.listdir()"
   ]
  },
  {
   "cell_type": "markdown",
   "id": "81d6ff44-d0ec-46c9-a195-f744c22255be",
   "metadata": {},
   "source": [
    "## Making a New Directory in Python"
   ]
  },
  {
   "cell_type": "markdown",
   "id": "9a0d6118-3561-4a25-b49b-806e7adc308d",
   "metadata": {},
   "source": [
    "In Python, we can make a new directory using the mkdir() method.\n",
    "\n",
    "This method takes in the path of the new directory. If the full path is not specified, the new directory is created in the current working directory."
   ]
  },
  {
   "cell_type": "code",
   "execution_count": 80,
   "id": "7704f72e-0cf4-4176-a1bf-890bb6732d4b",
   "metadata": {},
   "outputs": [
    {
     "data": {
      "text/plain": [
       "['test']"
      ]
     },
     "execution_count": 80,
     "metadata": {},
     "output_type": "execute_result"
    }
   ],
   "source": [
    "import os\n",
    "os.mkdir('test')\n",
    "path = 'C:\\\\Users\\\\aardr\\\\Downloads'\n",
    "os.listdir()\n",
    "['test']"
   ]
  },
  {
   "cell_type": "code",
   "execution_count": 81,
   "id": "0afa7d24-e04a-441c-bbae-886ee4c57f53",
   "metadata": {},
   "outputs": [
    {
     "data": {
      "text/plain": [
       "['.git',\n",
       " '10_Python Numbers, Type Conversion and Mathematics.ipynb',\n",
       " '11_Python List.ipynb',\n",
       " '12_Python Tuple.ipynb',\n",
       " '13_Built_in.ipynb',\n",
       " '13_python math.ipynb',\n",
       " '15_String.ipynb',\n",
       " '16_Set.ipynb',\n",
       " '17_Dictionary.ipynb',\n",
       " '18_function.ipynb',\n",
       " '1_answers.ipynb',\n",
       " '1_Coding.ipynb',\n",
       " '1_Python Variables and Literals.ipynb',\n",
       " '2_Python type conversion.ipynb',\n",
       " '3_Python Basic Input and Output.ipynb',\n",
       " '4_Python Operators.ipynb',\n",
       " '5_Python if else statement.ipynb',\n",
       " '6_Python for Loop.ipynb',\n",
       " '7_Python while Loop.ipynb',\n",
       " '8_Python break and continue.ipynb',\n",
       " '9_Python pass Statement.ipynb',\n",
       " 'Git-2.45.2-64-bit.exe',\n",
       " 'GitHubDesktopSetup-x64.exe',\n",
       " 'Music-Recommendation-main.zip',\n",
       " 'Not_0092024_1912024.pdf',\n",
       " 'Not_0092024_1992024.pdf',\n",
       " 'test',\n",
       " 'test2']"
      ]
     },
     "execution_count": 81,
     "metadata": {},
     "output_type": "execute_result"
    }
   ],
   "source": [
    "os.listdir()"
   ]
  },
  {
   "cell_type": "markdown",
   "id": "b03b9aff-29ae-4cb9-bf65-02e0a9da2933",
   "metadata": {},
   "source": [
    "## Renaming a Directory or a File\n",
    "\n",
    "The rename() method can rename a directory or a file.\n",
    "\n",
    "For renaming any directory or file, rename() takes in two basic arguments:\n",
    "\n",
    "1. the old name as the first argument\n",
    "2. the new name as the second argument."
   ]
  },
  {
   "cell_type": "code",
   "execution_count": 87,
   "id": "359e133b-331f-4966-bb08-7cdfe222cbfc",
   "metadata": {},
   "outputs": [
    {
     "data": {
      "text/plain": [
       "['new']"
      ]
     },
     "execution_count": 87,
     "metadata": {},
     "output_type": "execute_result"
    }
   ],
   "source": [
    "import os\n",
    "os.listdir()\n",
    "['test']\n",
    "os.rename('test','new')\n",
    "os.listdir()\n",
    "['new']"
   ]
  },
  {
   "cell_type": "code",
   "execution_count": null,
   "id": "26539781-4598-4bc9-ba6a-70c7c5d563b3",
   "metadata": {},
   "outputs": [],
   "source": [
    "os.listdir()"
   ]
  },
  {
   "cell_type": "markdown",
   "id": "bb2948ab-f32b-4aec-b000-27378778d3de",
   "metadata": {},
   "source": [
    "## Removing Directory or File in Python\n",
    "\n",
    "In Python, we can use the remove() method or the rmdir() method to remove a file or directory.\n",
    "\n",
    "First let's use remove() to delete a file,"
   ]
  },
  {
   "cell_type": "code",
   "execution_count": 91,
   "id": "3907bba8-f3f6-408b-b78a-57c9cebbcb5c",
   "metadata": {},
   "outputs": [],
   "source": [
    "os.rmdir('new')"
   ]
  },
  {
   "cell_type": "markdown",
   "id": "1a8c6b2f-53ad-406b-98bb-1e3d538362ef",
   "metadata": {},
   "source": [
    "In order to remove a non-empty directory, we can use the rmtree() method inside the shutil module. For example,\n",
    "\n",
    "import shutil\n",
    "\n",
    "delete \"mydir\" directory and all of its contents\n",
    "\n",
    "shutil.rmtree(\"mydir\")\n",
    "\n",
    "It's important to note that these functions permanently delete the files or directories, so we need to careful when using them.\n",
    "\n"
   ]
  }
 ],
 "metadata": {
  "kernelspec": {
   "display_name": "Python 3 (ipykernel)",
   "language": "python",
   "name": "python3"
  },
  "language_info": {
   "codemirror_mode": {
    "name": "ipython",
    "version": 3
   },
   "file_extension": ".py",
   "mimetype": "text/x-python",
   "name": "python",
   "nbconvert_exporter": "python",
   "pygments_lexer": "ipython3",
   "version": "3.12.4"
  }
 },
 "nbformat": 4,
 "nbformat_minor": 5
}
