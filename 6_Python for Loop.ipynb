{
 "cells": [
  {
   "cell_type": "markdown",
   "id": "b8a5e905-6211-4784-a0b9-6f78c3626adb",
   "metadata": {},
   "source": [
    "**In Python, for loop is used to iterate over sequences such as lists, strings, tuples, etc.**"
   ]
  },
  {
   "cell_type": "markdown",
   "id": "aaa94211-29b7-4da4-a71e-19c1a1592c3e",
   "metadata": {},
   "source": [
    "In Python, the range() function returns a sequence of numbers."
   ]
  },
  {
   "cell_type": "code",
   "execution_count": 1,
   "id": "c1805d2d-2486-421a-adae-a01e1aef531d",
   "metadata": {},
   "outputs": [
    {
     "name": "stdout",
     "output_type": "stream",
     "text": [
      "0\n",
      "1\n",
      "2\n",
      "3\n",
      "4\n",
      "5\n"
     ]
    }
   ],
   "source": [
    "for i in range(6):\n",
    "    print(i)"
   ]
  },
  {
   "cell_type": "code",
   "execution_count": 7,
   "id": "820f35be-aaf6-4003-b6f4-2f943e7cd179",
   "metadata": {},
   "outputs": [
    {
     "name": "stdout",
     "output_type": "stream",
     "text": [
      "apple\n",
      "banana\n",
      "orange\n"
     ]
    }
   ],
   "source": [
    "Fruits = ['apple', 'banana', 'orange']\n",
    "for i in Fruits:\n",
    "    print(i)"
   ]
  },
  {
   "cell_type": "code",
   "execution_count": 9,
   "id": "9eeff71d-69b8-46de-a8bf-ab9804f7af18",
   "metadata": {},
   "outputs": [
    {
     "name": "stdout",
     "output_type": "stream",
     "text": [
      "N\n",
      "a\n",
      "v\n",
      "a\n",
      "l\n",
      "t\n"
     ]
    }
   ],
   "source": [
    "Company = 'Navalt'\n",
    "for i in Company:\n",
    "    print(i)"
   ]
  }
 ],
 "metadata": {
  "kernelspec": {
   "display_name": "Python 3 (ipykernel)",
   "language": "python",
   "name": "python3"
  },
  "language_info": {
   "codemirror_mode": {
    "name": "ipython",
    "version": 3
   },
   "file_extension": ".py",
   "mimetype": "text/x-python",
   "name": "python",
   "nbconvert_exporter": "python",
   "pygments_lexer": "ipython3",
   "version": "3.12.4"
  }
 },
 "nbformat": 4,
 "nbformat_minor": 5
}
