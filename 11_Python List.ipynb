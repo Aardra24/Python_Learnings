{
 "cells": [
  {
   "cell_type": "markdown",
   "id": "b3da5cf2-433b-4aac-8de2-596375a94f30",
   "metadata": {},
   "source": [
    "**List Characteristics** \n",
    "\n",
    "Lists are:\n",
    "\n",
    "1. Ordered - They maintain the order of elements.\n",
    "2. Mutable - Items can be changed after creation.\n",
    "3. Allow duplicates - They can contain duplicate values."
   ]
  },
  {
   "cell_type": "code",
   "execution_count": 16,
   "id": "754bad16-b7ca-42b4-9017-7eb013cbdaed",
   "metadata": {},
   "outputs": [
    {
     "name": "stdout",
     "output_type": "stream",
     "text": [
      "[22, 32, 18]\n",
      "[18, 32, 18]\n"
     ]
    }
   ],
   "source": [
    "ages=[22,32,18]\n",
    "print(ages)\n",
    "ages[0]=ages[2]\n",
    "print(ages)"
   ]
  },
  {
   "cell_type": "markdown",
   "id": "e3a30bed-ba54-4052-a024-99d500bf0e24",
   "metadata": {},
   "source": [
    "## Access Elements Using Index"
   ]
  },
  {
   "cell_type": "code",
   "execution_count": 19,
   "id": "aad66706-1e9e-4d7a-9625-ef80cbf7ed83",
   "metadata": {},
   "outputs": [
    {
     "name": "stdout",
     "output_type": "stream",
     "text": [
      "ananya\n"
     ]
    }
   ],
   "source": [
    "list1 = ['aardra','ananya']\n",
    "print(list1[1])"
   ]
  },
  {
   "cell_type": "markdown",
   "id": "2f6f4e95-3d3b-4f45-825d-69c054845ede",
   "metadata": {},
   "source": [
    "## Python List Methods"
   ]
  },
  {
   "cell_type": "markdown",
   "id": "a14a2608-b030-40b2-b4a5-604c373e50b4",
   "metadata": {},
   "source": [
    "append()\t- Adds an item to the end of the list \\\n",
    "extend()\t- Adds items of lists and other iterables to the end of the list \\\n",
    "insert()\t- Inserts an item at the specified index \\\n",
    "remove()\t- Removes item present at the given index \\\n",
    "pop()\t   -  Returns and removes item present at the given index \\\n",
    "clear()\t     - Removes all items from the list \\\n",
    "index()\t    - Returns the index of the first matched item \\\n",
    "count()\t   -  Returns the count of the specified item in the list \\\n",
    "sort()\t    - Sorts the list in ascending or descending order \\\n",
    "reverse()\t- Reverses the item of the list \\\n",
    "copy()\t   -  Returns the shallow copy of the list "
   ]
  },
  {
   "cell_type": "markdown",
   "id": "4191ea6a-47ce-41a1-88f1-4af1296ca235",
   "metadata": {},
   "source": [
    "## append()"
   ]
  },
  {
   "cell_type": "markdown",
   "id": "42d4dc56-2bff-41ce-a298-2e688c5eb723",
   "metadata": {},
   "source": [
    "Adds an item to the end of the list"
   ]
  },
  {
   "cell_type": "code",
   "execution_count": 92,
   "id": "ce905f11-d010-447f-95e2-97a1b9b42dee",
   "metadata": {},
   "outputs": [
    {
     "name": "stdout",
     "output_type": "stream",
     "text": [
      "['apple', 'orange', 'pineapple', 'cherry']\n"
     ]
    }
   ],
   "source": [
    "fruits=['apple','orange','pineapple']\n",
    "fruits.append('cherry')\n",
    "print(fruits)"
   ]
  },
  {
   "cell_type": "markdown",
   "id": "ae70f5ad-0723-4984-8bd2-fc25d6ff97c1",
   "metadata": {},
   "source": [
    "## extend()"
   ]
  },
  {
   "cell_type": "markdown",
   "id": "a1586c66-802f-4dc5-885b-83a7a9bbe703",
   "metadata": {},
   "source": [
    "Adds items of lists and other iterables to the end of the list"
   ]
  },
  {
   "cell_type": "code",
   "execution_count": 106,
   "id": "28c0127e-8a51-4ba7-9dbd-243cbb7f3347",
   "metadata": {},
   "outputs": [
    {
     "name": "stdout",
     "output_type": "stream",
     "text": [
      "['cherry', 'pineapple', 'apple', 'orange', 'pineapple']\n"
     ]
    }
   ],
   "source": [
    "fruits1=['apple','orange','pineapple']\n",
    "fruits2=['cherry','pineapple']\n",
    "fruits2.extend(fruits1)\n",
    "print(fruits2)"
   ]
  },
  {
   "cell_type": "markdown",
   "id": "1e1066c1-7458-45a5-8639-005924cd134d",
   "metadata": {},
   "source": [
    "## insert()"
   ]
  },
  {
   "cell_type": "code",
   "execution_count": 111,
   "id": "c89bda49-450c-4f77-aefb-882adbe44394",
   "metadata": {},
   "outputs": [
    {
     "name": "stdout",
     "output_type": "stream",
     "text": [
      "['apple', 'orange', 'cherry', 'pineapple']\n"
     ]
    }
   ],
   "source": [
    "fruits=['apple','orange','pineapple']\n",
    "fruits.insert(2,'cherry')\n",
    "print(fruits)"
   ]
  },
  {
   "cell_type": "markdown",
   "id": "e102c7f3-f085-4912-a925-9fba48c590e6",
   "metadata": {},
   "source": [
    "## remove()"
   ]
  },
  {
   "cell_type": "code",
   "execution_count": 124,
   "id": "55aff136-cd16-4093-8d39-fc3621677880",
   "metadata": {},
   "outputs": [
    {
     "name": "stdout",
     "output_type": "stream",
     "text": [
      "['apple', 'pineapple']\n"
     ]
    }
   ],
   "source": [
    "fruits=['apple','orange','pineapple']\n",
    "fruits.remove('orange')\n",
    "print(fruits)"
   ]
  },
  {
   "cell_type": "markdown",
   "id": "c57afc9a-97ec-4e54-bf0e-e25b2283397f",
   "metadata": {},
   "source": [
    "## pop()"
   ]
  },
  {
   "cell_type": "markdown",
   "id": "f2899a39-5cab-4501-af0d-92c02700e02a",
   "metadata": {},
   "source": [
    "**Syntax: list.pop(index)**"
   ]
  },
  {
   "cell_type": "code",
   "execution_count": 128,
   "id": "3d4883da-9ec3-42ba-b549-2787b49a4a31",
   "metadata": {},
   "outputs": [
    {
     "name": "stdout",
     "output_type": "stream",
     "text": [
      "[2, 3, 9]\n"
     ]
    }
   ],
   "source": [
    "list=[2,3,5,9]\n",
    "list.pop(2)\n",
    "print(list)"
   ]
  },
  {
   "cell_type": "markdown",
   "id": "3a8fb74a-82cb-4ba5-9190-05c0b47a6507",
   "metadata": {},
   "source": [
    "## clear()"
   ]
  },
  {
   "cell_type": "code",
   "execution_count": 131,
   "id": "08a1105e-978d-4185-9a94-7fad4de1a144",
   "metadata": {},
   "outputs": [
    {
     "name": "stdout",
     "output_type": "stream",
     "text": [
      "[]\n"
     ]
    }
   ],
   "source": [
    "list=[1,8,9,3]\n",
    "list.clear()\n",
    "print(list)"
   ]
  },
  {
   "cell_type": "markdown",
   "id": "7ca1e67a-440d-45ee-98bb-a9b232c020a8",
   "metadata": {},
   "source": [
    "## index()"
   ]
  },
  {
   "cell_type": "code",
   "execution_count": 134,
   "id": "d2a5657e-6d0d-4609-81e3-709ff040b669",
   "metadata": {},
   "outputs": [
    {
     "name": "stdout",
     "output_type": "stream",
     "text": [
      "1\n"
     ]
    }
   ],
   "source": [
    "list=[5,7,3]\n",
    "index= list.index(7)\n",
    "print(index)"
   ]
  },
  {
   "cell_type": "markdown",
   "id": "c6d63e3e-bd59-4f2d-81bb-077d7570990f",
   "metadata": {},
   "source": [
    "## count()"
   ]
  },
  {
   "cell_type": "code",
   "execution_count": 138,
   "id": "cb5ef92e-c883-4bc9-b89c-1bcb40db045d",
   "metadata": {},
   "outputs": [
    {
     "name": "stdout",
     "output_type": "stream",
     "text": [
      "2\n"
     ]
    }
   ],
   "source": [
    "list=[3,5,3,5,2,2,2,1,2]\n",
    "print(list.count(5))"
   ]
  },
  {
   "cell_type": "markdown",
   "id": "9acd23a3-69e9-4689-b138-858e2eb6122a",
   "metadata": {},
   "source": [
    "## sort() and reverse()"
   ]
  },
  {
   "cell_type": "code",
   "execution_count": 152,
   "id": "7039b308-e8c0-4f3e-ac72-a9032cad26bd",
   "metadata": {},
   "outputs": [
    {
     "name": "stdout",
     "output_type": "stream",
     "text": [
      "[28, 55, 62, 75, 99]\n",
      "[99, 75, 62, 55, 28]\n"
     ]
    }
   ],
   "source": [
    "num = [99,55,75,28,62]\n",
    "num.sort()\n",
    "print(num)\n",
    "num.reverse()\n",
    "print(num)\n"
   ]
  },
  {
   "cell_type": "markdown",
   "id": "ac03e0bf-28aa-4ac4-bd0e-e239ebb0630a",
   "metadata": {},
   "source": [
    "## copy()"
   ]
  },
  {
   "cell_type": "code",
   "execution_count": 158,
   "id": "a4ebe339-81c8-4abe-9262-677ef0f55837",
   "metadata": {},
   "outputs": [
    {
     "name": "stdout",
     "output_type": "stream",
     "text": [
      "[2, 3, 4]\n"
     ]
    }
   ],
   "source": [
    "num1 = [2,3,4]\n",
    "num2 = num1.copy()\n",
    "print(num2)"
   ]
  },
  {
   "cell_type": "markdown",
   "id": "4e9a019f-91c7-44bd-8b44-8c7b511dd465",
   "metadata": {},
   "source": [
    "## Del"
   ]
  },
  {
   "cell_type": "code",
   "execution_count": null,
   "id": "2952be01-8a5f-4a3d-b247-b94838a07999",
   "metadata": {},
   "outputs": [],
   "source": [
    "age = [22,18,13,1"
   ]
  },
  {
   "cell_type": "markdown",
   "id": "68f66d5b-77e3-46cc-93c1-575621e6919b",
   "metadata": {},
   "source": [
    "## Access Elements Using Index"
   ]
  },
  {
   "cell_type": "code",
   "execution_count": 162,
   "id": "6f747b4f-f630-4a42-937f-27882f90e2b5",
   "metadata": {},
   "outputs": [
    {
     "name": "stdout",
     "output_type": "stream",
     "text": [
      "88\n"
     ]
    }
   ],
   "source": [
    "num = [2,3,88,5,1,5]\n",
    "print(num[2])"
   ]
  },
  {
   "cell_type": "markdown",
   "id": "8219ad46-6f19-418e-b5fe-c4b8cc93d380",
   "metadata": {},
   "source": [
    "## Change List Items"
   ]
  },
  {
   "cell_type": "code",
   "execution_count": 168,
   "id": "ae5287d8-81ff-49e0-ae79-ded6a07d6591",
   "metadata": {},
   "outputs": [
    {
     "name": "stdout",
     "output_type": "stream",
     "text": [
      "[2, 2, 5, 5, 2, 5, 3]\n"
     ]
    }
   ],
   "source": [
    "list=[2,2,3,5,2,5,3]\n",
    "list[2]= 5\n",
    "print(list)"
   ]
  },
  {
   "cell_type": "markdown",
   "id": "3692bd5a-fe71-4bd2-9cac-dab06259f6e4",
   "metadata": {},
   "source": [
    "## Python List Length\n"
   ]
  },
  {
   "cell_type": "code",
   "execution_count": 171,
   "id": "94877233-0859-4c0c-a2ed-a8e2b77c631f",
   "metadata": {},
   "outputs": [
    {
     "name": "stdout",
     "output_type": "stream",
     "text": [
      "5\n"
     ]
    }
   ],
   "source": [
    "list = [4,5,55,3,3]\n",
    "print(len(list))"
   ]
  },
  {
   "cell_type": "markdown",
   "id": "3204d7cf-9ce5-4a07-9a00-4b1163745de0",
   "metadata": {},
   "source": [
    "## Iterating Through a List"
   ]
  },
  {
   "cell_type": "code",
   "execution_count": 182,
   "id": "4ea42553-45a5-427c-b4be-a93c3e31486f",
   "metadata": {},
   "outputs": [
    {
     "name": "stdout",
     "output_type": "stream",
     "text": [
      "apple\n",
      "plum\n",
      "cherry\n"
     ]
    }
   ],
   "source": [
    "fruits=['apple','plum','cherry']\n",
    "for fruits in fruits:\n",
    "    print(fruits)"
   ]
  },
  {
   "cell_type": "code",
   "execution_count": null,
   "id": "5964c775-90e2-47a7-85f8-854da8b052ab",
   "metadata": {},
   "outputs": [],
   "source": []
  }
 ],
 "metadata": {
  "kernelspec": {
   "display_name": "Python 3 (ipykernel)",
   "language": "python",
   "name": "python3"
  },
  "language_info": {
   "codemirror_mode": {
    "name": "ipython",
    "version": 3
   },
   "file_extension": ".py",
   "mimetype": "text/x-python",
   "name": "python",
   "nbconvert_exporter": "python",
   "pygments_lexer": "ipython3",
   "version": "3.12.4"
  }
 },
 "nbformat": 4,
 "nbformat_minor": 5
}
