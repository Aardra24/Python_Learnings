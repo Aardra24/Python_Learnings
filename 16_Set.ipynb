{
 "cells": [
  {
   "cell_type": "markdown",
   "id": "c4d8d9b9-8196-442d-aea5-cd14f3ae532a",
   "metadata": {},
   "source": [
    "## Python Sets"
   ]
  },
  {
   "cell_type": "markdown",
   "id": "70134174-e400-49bb-b9fe-a18eedcd38fc",
   "metadata": {},
   "source": [
    "**A set is a collection which is unordered, unchangeable, and unindexed.**\n",
    "\n",
    "**Note:** Set items are unchangeable, but you can remove items and add new items."
   ]
  },
  {
   "cell_type": "markdown",
   "id": "fd79be49-4fa2-4f6e-aae9-482c0b1c541d",
   "metadata": {},
   "source": [
    "## **Set Methods**"
   ]
  },
  {
   "cell_type": "markdown",
   "id": "27bf9a02-bf5f-4a57-be92-20b004f45e59",
   "metadata": {},
   "source": [
    "## add()\t \t\n",
    "\n",
    "**Adds an element to the set**"
   ]
  },
  {
   "cell_type": "code",
   "execution_count": 2,
   "id": "54da802c-869f-4d4a-bff0-2454f281ead5",
   "metadata": {},
   "outputs": [
    {
     "name": "stdout",
     "output_type": "stream",
     "text": [
      "{'orange', 'banana', 'apple', 'cherry'}\n"
     ]
    }
   ],
   "source": [
    "fruits = {\"apple\", \"banana\", \"cherry\"}\n",
    "\n",
    "fruits.add(\"orange\")\n",
    "\n",
    "print(fruits)"
   ]
  },
  {
   "cell_type": "markdown",
   "id": "b400d6a7-0415-46a6-abb7-1fc2d345300b",
   "metadata": {},
   "source": [
    "## clear()\t \t\n",
    "\n",
    "**Removes all the elements from the set**"
   ]
  },
  {
   "cell_type": "code",
   "execution_count": 4,
   "id": "813ccbd8-b957-4a61-b26d-bcc69abe1338",
   "metadata": {},
   "outputs": [
    {
     "name": "stdout",
     "output_type": "stream",
     "text": [
      "set()\n"
     ]
    }
   ],
   "source": [
    "fruits = {\"apple\", \"banana\", \"cherry\"}\n",
    "\n",
    "fruits.clear()\n",
    "\n",
    "print(fruits)"
   ]
  },
  {
   "cell_type": "markdown",
   "id": "5407f053-7791-46f4-9e31-011097ab3e5b",
   "metadata": {},
   "source": [
    "## copy()\t \n",
    "\n",
    "**Returns a copy of the set**"
   ]
  },
  {
   "cell_type": "code",
   "execution_count": 6,
   "id": "05af1538-bf46-4503-9b07-1544a9225e10",
   "metadata": {},
   "outputs": [
    {
     "name": "stdout",
     "output_type": "stream",
     "text": [
      "{'banana', 'apple', 'cherry'}\n"
     ]
    }
   ],
   "source": [
    "fruits = {\"apple\", \"banana\", \"cherry\"}\n",
    "\n",
    "x = fruits.copy()\n",
    "\n",
    "print(x)"
   ]
  },
  {
   "cell_type": "markdown",
   "id": "cbe29813-d3f6-4960-a0b1-ff0521192ec3",
   "metadata": {},
   "source": [
    "## difference()\t\n",
    "\n",
    "Symbol **-**\t\n",
    "\n",
    "**Returns a set containing the difference between two or more**"
   ]
  },
  {
   "cell_type": "code",
   "execution_count": 8,
   "id": "4e73f72b-1131-4211-9ace-3ff0582fc389",
   "metadata": {},
   "outputs": [
    {
     "name": "stdout",
     "output_type": "stream",
     "text": [
      "{'banana', 'cherry'}\n"
     ]
    }
   ],
   "source": [
    "x = {\"apple\", \"banana\", \"cherry\"}\n",
    "y = {\"google\", \"microsoft\", \"apple\"}\n",
    "\n",
    "z = x.difference(y)\n",
    "\n",
    "print(z)"
   ]
  },
  {
   "cell_type": "code",
   "execution_count": 10,
   "id": "ee89367a-91a7-4daf-9cc9-5221f9bf93db",
   "metadata": {},
   "outputs": [
    {
     "name": "stdout",
     "output_type": "stream",
     "text": [
      "{'banana', 'cherry'}\n"
     ]
    }
   ],
   "source": [
    "a = {\"apple\", \"banana\", \"cherry\"}\n",
    "b = {\"google\", \"microsoft\", \"apple\"}\n",
    "\n",
    "myset = a - b\n",
    "\n",
    "print(myset)"
   ]
  },
  {
   "cell_type": "code",
   "execution_count": 12,
   "id": "80d15441-cfc3-4429-a7e4-fa23abdf0b13",
   "metadata": {},
   "outputs": [
    {
     "name": "stdout",
     "output_type": "stream",
     "text": [
      "{'banana'}\n"
     ]
    }
   ],
   "source": [
    "a = {\"apple\", \"banana\", \"cherry\"}\n",
    "b = {\"google\", \"microsoft\", \"apple\"}\n",
    "c = {\"cherry\", \"micra\", \"bluebird\"}\n",
    "\n",
    "myset = a.difference(b, c)\n",
    "\n",
    "print(myset)"
   ]
  },
  {
   "cell_type": "code",
   "execution_count": 14,
   "id": "585a6711-bcc1-4032-b0d1-1099d3007540",
   "metadata": {},
   "outputs": [
    {
     "name": "stdout",
     "output_type": "stream",
     "text": [
      "{'banana'}\n"
     ]
    }
   ],
   "source": [
    "a = {\"apple\", \"banana\", \"cherry\"}\n",
    "b = {\"google\", \"microsoft\", \"apple\"}\n",
    "c = {\"cherry\", \"micra\", \"bluebird\"}\n",
    "\n",
    "myset = a - b - c\n",
    "\n",
    "print(myset)"
   ]
  },
  {
   "cell_type": "markdown",
   "id": "745fa51c-84f8-456f-971b-d617405209a8",
   "metadata": {},
   "source": [
    "## difference_update()\t\n",
    "\n",
    "**-=**\t\n",
    "\n",
    "**Removes the items in this set that are also included in another, specified set**"
   ]
  },
  {
   "cell_type": "code",
   "execution_count": 16,
   "id": "2553b598-d0c2-4172-b58b-0e1fef5d3346",
   "metadata": {},
   "outputs": [
    {
     "name": "stdout",
     "output_type": "stream",
     "text": [
      "{'banana', 'cherry'}\n"
     ]
    }
   ],
   "source": [
    "x = {\"apple\", \"banana\", \"cherry\"}\n",
    "y = {\"google\", \"microsoft\", \"apple\"}\n",
    "\n",
    "x.difference_update(y)\n",
    "\n",
    "print(x)"
   ]
  },
  {
   "cell_type": "code",
   "execution_count": 18,
   "id": "b8fcaf2f-b616-443d-b4e4-043975b2e161",
   "metadata": {},
   "outputs": [
    {
     "name": "stdout",
     "output_type": "stream",
     "text": [
      "{'banana', 'cherry'}\n"
     ]
    }
   ],
   "source": [
    "a = {\"apple\", \"banana\", \"cherry\"}\n",
    "b = {\"google\", \"microsoft\", \"apple\"}\n",
    "\n",
    "a -= b\n",
    "\n",
    "print(a)"
   ]
  },
  {
   "cell_type": "markdown",
   "id": "cfa3e5d9-8a2c-41ea-b05b-901ec5fab32f",
   "metadata": {},
   "source": [
    "## discard()\n",
    "\n",
    "**Remove the specified item**"
   ]
  },
  {
   "cell_type": "code",
   "execution_count": 20,
   "id": "c5fa0cad-d778-4f55-a647-ef1def265c16",
   "metadata": {},
   "outputs": [
    {
     "name": "stdout",
     "output_type": "stream",
     "text": [
      "{'apple', 'cherry'}\n"
     ]
    }
   ],
   "source": [
    "fruits = {\"apple\", \"banana\", \"cherry\"}\n",
    "\n",
    "fruits.discard(\"banana\")\n",
    "\n",
    "print(fruits)"
   ]
  },
  {
   "cell_type": "markdown",
   "id": "873a9c28-9301-4a1c-825b-75ae317e1f98",
   "metadata": {},
   "source": [
    "## intersection()\t\n",
    "\n",
    "**&**\n",
    "\n",
    "**Returns a set, that is the intersection of two other sets**"
   ]
  },
  {
   "cell_type": "code",
   "execution_count": 22,
   "id": "09b735c2-ce28-41af-aba5-394797da1a93",
   "metadata": {},
   "outputs": [
    {
     "name": "stdout",
     "output_type": "stream",
     "text": [
      "{'apple'}\n"
     ]
    }
   ],
   "source": [
    "x = {\"apple\", \"banana\", \"cherry\"}\n",
    "y = {\"google\", \"microsoft\", \"apple\"}\n",
    "\n",
    "z = x.intersection(y)\n",
    "\n",
    "print(z)"
   ]
  },
  {
   "cell_type": "code",
   "execution_count": 24,
   "id": "209e58bb-90c9-4107-a0e1-3bf91ce87167",
   "metadata": {},
   "outputs": [
    {
     "name": "stdout",
     "output_type": "stream",
     "text": [
      "{'apple'}\n"
     ]
    }
   ],
   "source": [
    "x = {\"apple\", \"banana\", \"cherry\"}\n",
    "y = {\"google\", \"microsoft\", \"apple\"}\n",
    "\n",
    "z = x & y\n",
    "\n",
    "print(z)"
   ]
  },
  {
   "cell_type": "code",
   "execution_count": 26,
   "id": "bde5b8ee-2b1a-4d7f-9ea0-f2e486a5da75",
   "metadata": {},
   "outputs": [
    {
     "name": "stdout",
     "output_type": "stream",
     "text": [
      "{'c'}\n"
     ]
    }
   ],
   "source": [
    "x = {\"a\", \"b\", \"c\"}\n",
    "y = {\"c\", \"d\", \"e\"}\n",
    "z = {\"f\", \"g\", \"c\"}\n",
    "\n",
    "result = x.intersection(y, z)\n",
    "\n",
    "print(result)"
   ]
  },
  {
   "cell_type": "code",
   "execution_count": 28,
   "id": "fd9feb02-1c6a-47b2-8bb1-d7ccc378c4ca",
   "metadata": {},
   "outputs": [
    {
     "name": "stdout",
     "output_type": "stream",
     "text": [
      "{'c'}\n"
     ]
    }
   ],
   "source": [
    "x = {\"a\", \"b\", \"c\"}\n",
    "y = {\"c\", \"d\", \"e\"}\n",
    "z = {\"f\", \"g\", \"c\"}\n",
    "\n",
    "result = x & y & z\n",
    "\n",
    "print(result)"
   ]
  },
  {
   "cell_type": "markdown",
   "id": "5e109d84-a0ab-42d8-aece-dbf140a14029",
   "metadata": {},
   "source": [
    "## intersection_update()\t\n",
    "\n",
    "**&=**\n",
    "\n",
    "**Removes the items in this set that are not present in other, specified set(s)**"
   ]
  },
  {
   "cell_type": "code",
   "execution_count": 30,
   "id": "832f3e9a-8e94-40d7-970a-b336836e7825",
   "metadata": {},
   "outputs": [
    {
     "name": "stdout",
     "output_type": "stream",
     "text": [
      "{'apple'}\n"
     ]
    }
   ],
   "source": [
    "x = {\"apple\", \"banana\", \"cherry\"}\n",
    "y = {\"google\", \"microsoft\", \"apple\"}\n",
    "\n",
    "x.intersection_update(y)\n",
    "\n",
    "print(x)"
   ]
  },
  {
   "cell_type": "code",
   "execution_count": 32,
   "id": "6f3bb30c-131c-4f64-ab5f-0c909fa5bc2a",
   "metadata": {},
   "outputs": [
    {
     "name": "stdout",
     "output_type": "stream",
     "text": [
      "{'apple'}\n"
     ]
    }
   ],
   "source": [
    "x = {\"apple\", \"banana\", \"cherry\"}\n",
    "y = {\"google\", \"microsoft\", \"apple\"}\n",
    "\n",
    "x &= y\n",
    "\n",
    "print(x)"
   ]
  },
  {
   "cell_type": "code",
   "execution_count": 34,
   "id": "d710b25d-6d3a-47ad-bdcc-d30c3351b48e",
   "metadata": {},
   "outputs": [
    {
     "name": "stdout",
     "output_type": "stream",
     "text": [
      "{'c'}\n"
     ]
    }
   ],
   "source": [
    "x = {\"a\", \"b\", \"c\"}\n",
    "y = {\"c\", \"d\", \"e\"}\n",
    "z = {\"f\", \"g\", \"c\"}\n",
    "\n",
    "x.intersection_update(y, z)\n",
    "\n",
    "print(x)"
   ]
  },
  {
   "cell_type": "code",
   "execution_count": 36,
   "id": "f3d4e129-d49a-4caa-9701-b2a625dbca0f",
   "metadata": {},
   "outputs": [
    {
     "name": "stdout",
     "output_type": "stream",
     "text": [
      "{'c'}\n"
     ]
    }
   ],
   "source": [
    "x = {\"a\", \"b\", \"c\"}\n",
    "y = {\"c\", \"d\", \"e\"}\n",
    "z = {\"f\", \"g\", \"c\"}\n",
    "\n",
    "x &= y & z\n",
    "\n",
    "print(result)"
   ]
  },
  {
   "cell_type": "markdown",
   "id": "80e904fc-82fd-4d1e-ba27-037b9dc5d1c9",
   "metadata": {},
   "source": [
    "## isdisjoint()\t \t\n",
    "\n",
    "**Returns whether two sets have a intersection or not**"
   ]
  },
  {
   "cell_type": "code",
   "execution_count": 38,
   "id": "26a594f4-4cb8-4f53-a463-af74b003453b",
   "metadata": {},
   "outputs": [
    {
     "name": "stdout",
     "output_type": "stream",
     "text": [
      "True\n"
     ]
    }
   ],
   "source": [
    "x = {\"apple\", \"banana\", \"cherry\"}\n",
    "y = {\"google\", \"microsoft\", \"facebook\"}\n",
    "\n",
    "z = x.isdisjoint(y)\n",
    "\n",
    "print(z)"
   ]
  },
  {
   "cell_type": "markdown",
   "id": "7a686a1d-76bd-4a24-97ae-9c7d6bf0a62b",
   "metadata": {},
   "source": [
    "## issubset()\t\n",
    "\n",
    "    <=\tReturns whether another set contains this set or not\n",
    " \t<\tReturns whether all items in this set is present in other, specified set(s)"
   ]
  },
  {
   "cell_type": "code",
   "execution_count": 44,
   "id": "92f71b9d-45f4-493c-8f00-eaa1a937f8fa",
   "metadata": {},
   "outputs": [
    {
     "name": "stdout",
     "output_type": "stream",
     "text": [
      "True\n"
     ]
    }
   ],
   "source": [
    "x = {\"apple\", \"banana\", \"cherry\"}\n",
    "y = {\"apple\", \"banana\", \"facebook\",'cherry'}\n",
    "\n",
    "z = x.issubset(y)\n",
    "\n",
    "print(z)"
   ]
  },
  {
   "cell_type": "code",
   "execution_count": 50,
   "id": "6b5ae924-6e82-487a-a93c-2ab37fc2038e",
   "metadata": {},
   "outputs": [
    {
     "name": "stdout",
     "output_type": "stream",
     "text": [
      "True\n"
     ]
    }
   ],
   "source": [
    "x = {\"apple\", \"banana\", \"cherry\"}\n",
    "y = {\"apple\", \"banana\", \"facebook\",'cherry'}\n",
    "\n",
    "z=  x <= y\n",
    "\n",
    "print(z)"
   ]
  },
  {
   "cell_type": "code",
   "execution_count": 54,
   "id": "5c21fe22-411b-4414-987f-c769eddd5fa7",
   "metadata": {},
   "outputs": [
    {
     "name": "stdout",
     "output_type": "stream",
     "text": [
      "True\n"
     ]
    }
   ],
   "source": [
    "x = {\"apple\", \"banana\", \"cherry\"}\n",
    "y = {\"apple\", \"cherry\", \"facebook\",'banana'}\n",
    "\n",
    "z=  x < y\n",
    "\n",
    "print(z)"
   ]
  },
  {
   "cell_type": "markdown",
   "id": "688c157d-fad8-4aab-8d72-db0362b7740f",
   "metadata": {},
   "source": [
    "## issuperset()\t\n",
    "\n",
    "\n",
    "    >=\tReturns whether this set contains another set or not\n",
    " \t>\tReturns whether all items in other, specified set(s) is present in this set"
   ]
  },
  {
   "cell_type": "code",
   "execution_count": 22,
   "id": "01a76661-138f-4a4a-824d-48e1a2f872d4",
   "metadata": {},
   "outputs": [
    {
     "name": "stdout",
     "output_type": "stream",
     "text": [
      "True\n"
     ]
    }
   ],
   "source": [
    "x = {\"apple\",\"orange\",\"pineapple\"}\n",
    "y= {\"apple\",\"cherry\",\"mango\",\"pineapple\",\"orange\"}\n",
    "z = y.issuperset(x)\n",
    "print(z)"
   ]
  },
  {
   "cell_type": "markdown",
   "id": "c66fbfa3-0fae-4723-bbc1-b3873bee72d0",
   "metadata": {},
   "source": [
    "## pop()\t \t\n",
    "\n",
    "**Removes an element from the set**"
   ]
  },
  {
   "cell_type": "code",
   "execution_count": 30,
   "id": "d8b7dbbd-39a9-420c-bb18-84cf7db4bdf9",
   "metadata": {},
   "outputs": [
    {
     "name": "stdout",
     "output_type": "stream",
     "text": [
      "{'apple', 'orange'}\n"
     ]
    }
   ],
   "source": [
    "x = {\"apple\",\"orange\",\"pineapple\"}\n",
    "x.pop()\n",
    "print(x)"
   ]
  },
  {
   "cell_type": "markdown",
   "id": "9407dd4d-2020-4cb6-a01b-3d335faffb1f",
   "metadata": {},
   "source": [
    "## remove()\t \t\n",
    "\n",
    "**Removes the specified element**"
   ]
  },
  {
   "cell_type": "code",
   "execution_count": 34,
   "id": "7e19ede7-b281-4afa-8bcd-f01321cc16c5",
   "metadata": {},
   "outputs": [
    {
     "name": "stdout",
     "output_type": "stream",
     "text": [
      "{'pineapple', 'orange'}\n"
     ]
    }
   ],
   "source": [
    "x = {\"apple\",\"orange\",\"pineapple\"}\n",
    "x.remove(\"apple\")\n",
    "print(x)"
   ]
  },
  {
   "cell_type": "markdown",
   "id": "4f09f712-2da3-4ca8-b80d-e61fd4409fae",
   "metadata": {},
   "source": [
    "## symmetric_difference()\t\n",
    "\n",
    "    ^\tReturns a set with the symmetric differences of two sets"
   ]
  },
  {
   "cell_type": "code",
   "execution_count": 36,
   "id": "67067083-b2ab-4ccc-91f7-929597d7d157",
   "metadata": {},
   "outputs": [
    {
     "name": "stdout",
     "output_type": "stream",
     "text": [
      "{'cherry', 'mango'}\n"
     ]
    }
   ],
   "source": [
    "x = {\"apple\",\"orange\",\"pineapple\"}\n",
    "y= {\"apple\",\"cherry\",\"mango\",\"pineapple\",\"orange\"}\n",
    "z = x^y\n",
    "print(z)"
   ]
  },
  {
   "cell_type": "markdown",
   "id": "493b333a-4bd4-49d7-987f-7f0d6e444a6b",
   "metadata": {},
   "source": [
    "## symmetric_difference_update()\t\n",
    "\n",
    "    ^=\tInserts the symmetric differences from this set and another"
   ]
  },
  {
   "cell_type": "code",
   "execution_count": 48,
   "id": "18fd3dfa-0ea9-42e8-82d1-3e980b11d66c",
   "metadata": {},
   "outputs": [
    {
     "name": "stdout",
     "output_type": "stream",
     "text": [
      "{'cherry', 'mango'}\n",
      "{'pineapple', 'cherry', 'apple', 'mango', 'orange'}\n"
     ]
    }
   ],
   "source": [
    "x = {\"apple\",\"orange\",\"pineapple\"}\n",
    "y= {\"apple\",\"cherry\",\"mango\",\"pineapple\",\"orange\"}\n",
    "x.symmetric_difference_update(y)\n",
    "print(x)\n",
    "print(y)"
   ]
  },
  {
   "cell_type": "markdown",
   "id": "f54fb808-c22c-403b-8767-a6f5eeb3c5b3",
   "metadata": {},
   "source": [
    "## union()\t\n",
    "\n",
    "    |\tReturn a set containing the union of sets"
   ]
  },
  {
   "cell_type": "code",
   "execution_count": 50,
   "id": "768e79c3-1a46-4341-909b-ff598120e04f",
   "metadata": {},
   "outputs": [
    {
     "name": "stdout",
     "output_type": "stream",
     "text": [
      "{'cherry', 'pineapple', 'apple', 'mango', 'orange'}\n"
     ]
    }
   ],
   "source": [
    "x = {\"apple\",\"orange\",\"pineapple\"}\n",
    "y= {\"apple\",\"cherry\",\"mango\",\"pineapple\",\"orange\"}\n",
    "z = x | y\n",
    "print(z)"
   ]
  },
  {
   "cell_type": "markdown",
   "id": "5f6729ba-d449-453d-87c6-8b8cc88f4808",
   "metadata": {},
   "source": [
    "## update()\t\n",
    "\n",
    "    |=\tUpdate the set with the union of this set and others"
   ]
  },
  {
   "cell_type": "code",
   "execution_count": 58,
   "id": "5ee0f35d-1183-4c8c-9acd-9e2f150639d9",
   "metadata": {},
   "outputs": [
    {
     "name": "stdout",
     "output_type": "stream",
     "text": [
      "{'cherry', 'pineapple', 'apple', 'mango', 'orange'}\n",
      "{'pineapple', 'cherry', 'apple', 'mango', 'orange'}\n"
     ]
    }
   ],
   "source": [
    "x = {\"apple\",\"orange\",\"pineapple\"}\n",
    "y= {\"apple\",\"cherry\",\"mango\",\"pineapple\",\"orange\"}\n",
    "x.update(y)\n",
    "print(x)\n",
    "print(y)"
   ]
  },
  {
   "cell_type": "markdown",
   "id": "89a9a17b-db51-4811-b4cb-7a2779685636",
   "metadata": {},
   "source": [
    "## Duplicate Items in a Set"
   ]
  },
  {
   "cell_type": "code",
   "execution_count": 66,
   "id": "568fbca8-05cc-4284-9c80-156bd0e67d99",
   "metadata": {},
   "outputs": [
    {
     "name": "stdout",
     "output_type": "stream",
     "text": [
      "{1, 2, 20, 5, 6, 86, 8}\n"
     ]
    }
   ],
   "source": [
    "numbers = {1,5,8,5,5,86,2,6,6,1,20}\n",
    "print(numbers)"
   ]
  },
  {
   "cell_type": "code",
   "execution_count": null,
   "id": "0105f8d6-ee86-4808-a61e-79cbeb4b8f81",
   "metadata": {},
   "outputs": [],
   "source": []
  }
 ],
 "metadata": {
  "kernelspec": {
   "display_name": "Python 3 (ipykernel)",
   "language": "python",
   "name": "python3"
  },
  "language_info": {
   "codemirror_mode": {
    "name": "ipython",
    "version": 3
   },
   "file_extension": ".py",
   "mimetype": "text/x-python",
   "name": "python",
   "nbconvert_exporter": "python",
   "pygments_lexer": "ipython3",
   "version": "3.12.4"
  }
 },
 "nbformat": 4,
 "nbformat_minor": 5
}
