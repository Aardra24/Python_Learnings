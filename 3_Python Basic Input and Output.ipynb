{
 "cells": [
  {
   "cell_type": "markdown",
   "id": "1db0fcae-b0b0-4901-aaf9-462dcb67e2b1",
   "metadata": {},
   "source": [
    "# Python Basic Input and Output"
   ]
  },
  {
   "cell_type": "code",
   "execution_count": 23,
   "id": "6fec824d-afb9-486c-aa38-ae3ca188dadb",
   "metadata": {},
   "outputs": [
    {
     "name": "stdout",
     "output_type": "stream",
     "text": [
      "   *  \n",
      " *   * \n",
      "*  *  *\n"
     ]
    }
   ],
   "source": [
    "print(\"   *  \")\n",
    "print(\" *   * \")\n",
    "print(\"*  *  *\")"
   ]
  },
  {
   "cell_type": "raw",
   "id": "4151546b-9926-46de-abb2-4140f25d70b9",
   "metadata": {},
   "source": [
    "Syntax of print()\n",
    "\n",
    "syntax of the print function accepts 5 parameters\n",
    "\n",
    "print(object= separator= end= file= flush=)\n",
    "\n",
    "Here,\n",
    "\n",
    "object - value(s) to be printed\n",
    "sep (optional) - allows us to separate multiple objects inside print().\n",
    "end (optional) - allows us to add add specific values like new line \"\\n\", tab \"\\t\"\n",
    "file (optional) - where the values are printed. It's default value is sys.stdout (screen)\n",
    "flush (optional) - boolean specifying if the output is flushed or buffered. Default: False "
   ]
  },
  {
   "cell_type": "markdown",
   "id": "6c3188b0-dc1a-4f55-ad46-797b65c1d3a3",
   "metadata": {},
   "source": [
    "### Python print statement"
   ]
  },
  {
   "cell_type": "code",
   "execution_count": 28,
   "id": "89ce9020-48a1-4aa2-b636-64f13d193098",
   "metadata": {},
   "outputs": [
    {
     "name": "stdout",
     "output_type": "stream",
     "text": [
      "Hi\n",
      "My name is Aardra\n"
     ]
    }
   ],
   "source": [
    "print(\"Hi\")\n",
    "print('My name is Aardra')"
   ]
  },
  {
   "cell_type": "markdown",
   "id": "9772714e-a694-4467-86a0-7ce9eed81226",
   "metadata": {},
   "source": [
    "### Python print() with end Parameter"
   ]
  },
  {
   "cell_type": "code",
   "execution_count": 32,
   "id": "78568e89-8430-4701-bccf-7adeedebd82d",
   "metadata": {},
   "outputs": [
    {
     "name": "stdout",
     "output_type": "stream",
     "text": [
      "Hi I am Aardra\n"
     ]
    }
   ],
   "source": [
    "print('Hi', end= ' ' )\n",
    "print ('I am Aardra')"
   ]
  },
  {
   "cell_type": "markdown",
   "id": "f729275f-21d5-4ed9-a114-50d8ecc8a947",
   "metadata": {},
   "source": [
    "### Python print() with sep Parameter"
   ]
  },
  {
   "cell_type": "code",
   "execution_count": 40,
   "id": "90831fc9-4486-4820-b796-172fa8fa964d",
   "metadata": {},
   "outputs": [
    {
     "name": "stdout",
     "output_type": "stream",
     "text": [
      "Name:Aardra:Age:22\n"
     ]
    }
   ],
   "source": [
    "print('Name', 'Aardra', 'Age', 22, sep=':')"
   ]
  },
  {
   "cell_type": "markdown",
   "id": "3c3a38a3-5e38-497c-85ed-86bbdd72b366",
   "metadata": {},
   "source": [
    "### Print Python Variables and Literals"
   ]
  },
  {
   "cell_type": "code",
   "execution_count": 43,
   "id": "e1b01397-c5f4-4d0a-be18-6f315070362f",
   "metadata": {},
   "outputs": [
    {
     "name": "stdout",
     "output_type": "stream",
     "text": [
      "5\n",
      "11\n",
      "AArdra\n"
     ]
    }
   ],
   "source": [
    "num = 11\n",
    "name  ='AArdra'\n",
    "print(5)\n",
    "print(num)\n",
    "print(name)"
   ]
  },
  {
   "cell_type": "markdown",
   "id": "808336d0-a07f-49f1-9ccf-64aa548c36d4",
   "metadata": {},
   "source": [
    "### Print Concatenated Strings"
   ]
  },
  {
   "cell_type": "code",
   "execution_count": 48,
   "id": "d8b24233-2cc7-452c-97ca-cf39f0d411cb",
   "metadata": {},
   "outputs": [
    {
     "name": "stdout",
     "output_type": "stream",
     "text": [
      " I am Aardra R\n"
     ]
    }
   ],
   "source": [
    "print(\" I am \"  + \"Aardra R\")"
   ]
  },
  {
   "cell_type": "markdown",
   "id": "c9bd48ad-9850-4fb0-bde1-983c972db62e",
   "metadata": {},
   "source": [
    "### Output Formatting"
   ]
  },
  {
   "cell_type": "code",
   "execution_count": 57,
   "id": "4dd5af2f-ef85-4736-972b-a24afabb1241",
   "metadata": {},
   "outputs": [
    {
     "name": "stdout",
     "output_type": "stream",
     "text": [
      "The value of x is 11 and y is 5\n"
     ]
    }
   ],
   "source": [
    "x = 11\n",
    "y = 5\n",
    "print('The value of x is {} and y is {}'. format(x,y))\n",
    "\n",
    "#Here, the curly braces {} are used as placeholders. We can specify the order in which they are printed by using numbers (tuple index)."
   ]
  },
  {
   "cell_type": "markdown",
   "id": "b7586d69-ced5-42dd-b39a-93014dae477c",
   "metadata": {},
   "source": [
    "### Python User Input"
   ]
  },
  {
   "cell_type": "code",
   "execution_count": 82,
   "id": "dbe2714c-8eac-4a34-ac9f-8d559c4186d7",
   "metadata": {},
   "outputs": [
    {
     "name": "stdin",
     "output_type": "stream",
     "text": [
      "Enter a number:  5\n"
     ]
    },
    {
     "name": "stdout",
     "output_type": "stream",
     "text": [
      "The entered number is: 5\n",
      "Data type of num is: <class 'str'>\n"
     ]
    }
   ],
   "source": [
    "num = input('Enter a number: ')\n",
    "print(\"The entered number is:\", num)\n",
    "print(\"Data type of num is:\", type(num))"
   ]
  },
  {
   "cell_type": "code",
   "execution_count": 84,
   "id": "7f40b75a-d4bf-4cca-b253-ca7e7b3fdb46",
   "metadata": {},
   "outputs": [
    {
     "name": "stdin",
     "output_type": "stream",
     "text": [
      "Enter a number:  5\n"
     ]
    },
    {
     "name": "stdout",
     "output_type": "stream",
     "text": [
      "The entered number is: 5\n",
      "Data type of num is: <class 'int'>\n"
     ]
    }
   ],
   "source": [
    "#To convert user input into a number we can use int() or float() functions as:\n",
    "num =  int(input(\"Enter a number: \"))\n",
    "print(\"The entered number is:\", num)\n",
    "print(\"Data type of num is:\", type(num))"
   ]
  },
  {
   "cell_type": "code",
   "execution_count": null,
   "id": "b8e03aba-59d3-4917-903e-c7342bcaae35",
   "metadata": {},
   "outputs": [],
   "source": []
  }
 ],
 "metadata": {
  "kernelspec": {
   "display_name": "Python 3 (ipykernel)",
   "language": "python",
   "name": "python3"
  },
  "language_info": {
   "codemirror_mode": {
    "name": "ipython",
    "version": 3
   },
   "file_extension": ".py",
   "mimetype": "text/x-python",
   "name": "python",
   "nbconvert_exporter": "python",
   "pygments_lexer": "ipython3",
   "version": "3.12.4"
  }
 },
 "nbformat": 4,
 "nbformat_minor": 5
}
