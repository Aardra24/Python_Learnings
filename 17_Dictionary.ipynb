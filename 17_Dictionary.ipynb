{
 "cells": [
  {
   "cell_type": "markdown",
   "id": "3e3dd2ab-6412-40ea-a575-d4cea32031f4",
   "metadata": {},
   "source": [
    "## Dictionary"
   ]
  },
  {
   "cell_type": "markdown",
   "id": "e6360f03-2dc0-4e8a-a725-184134837296",
   "metadata": {},
   "source": [
    "**A Python dictionary is a collection of items, similar to lists and tuples. However, unlike lists and tuples, each item in a dictionary is a key-value pair (consisting of a key and a value).**"
   ]
  },
  {
   "cell_type": "code",
   "execution_count": 10,
   "id": "99575ae1-9cc2-4a6d-8c2f-605154753d68",
   "metadata": {},
   "outputs": [
    {
     "name": "stdout",
     "output_type": "stream",
     "text": [
      "{'Aardra': 'Reji', 'Arya': 'Nandha', 'Sree': 'Badhra'}\n",
      "<class 'dict'>\n"
     ]
    }
   ],
   "source": [
    "name = {'Aardra':'Reji','Arya':'Nandha','Sree':'Badhra'}\n",
    "print(name)\n",
    "print(type(name))"
   ]
  },
  {
   "cell_type": "markdown",
   "id": "1be5bd6e-d1f1-4480-b43e-986a3d55e738",
   "metadata": {},
   "source": [
    "## clear()\t\n",
    "\n",
    "**Removes all the elements from the dictionary**"
   ]
  },
  {
   "cell_type": "code",
   "execution_count": 12,
   "id": "ccbf766b-a3ad-4f6d-bb0a-13bec6d17499",
   "metadata": {},
   "outputs": [
    {
     "name": "stdout",
     "output_type": "stream",
     "text": [
      "{}\n"
     ]
    }
   ],
   "source": [
    "name = {'Aardra':'Reji','Arya':'Nandha','Sree':'Badhra'}\n",
    "name.clear()\n",
    "print(name)"
   ]
  },
  {
   "cell_type": "markdown",
   "id": "edcd710a-58e5-4430-998c-b0247df9b1c6",
   "metadata": {},
   "source": [
    "## copy()\t\n",
    "\n",
    "**Returns a copy of the dictionary**"
   ]
  },
  {
   "cell_type": "code",
   "execution_count": 18,
   "id": "d167c13e-bff6-4fec-a124-d871ffbe68be",
   "metadata": {},
   "outputs": [
    {
     "name": "stdout",
     "output_type": "stream",
     "text": [
      "{'Aardra': 'Reji', 'Arya': 'Nandha', 'Sree': 'Badhra'}\n"
     ]
    }
   ],
   "source": [
    "name = {'Aardra':'Reji','Arya':'Nandha','Sree':'Badhra'}\n",
    "nm = name.copy()\n",
    "print(nm)"
   ]
  },
  {
   "cell_type": "markdown",
   "id": "9b9ce882-2aea-4816-81ee-970cf3adab4e",
   "metadata": {},
   "source": [
    "## fromkeys()\t\n",
    "\n",
    "**Returns a dictionary with the specified keys and value**\n",
    "\n",
    "**Syntax : dict.fromkeys(keys, value)**"
   ]
  },
  {
   "cell_type": "code",
   "execution_count": 36,
   "id": "6fd1dbba-5afa-468a-b25a-281572d1d37c",
   "metadata": {},
   "outputs": [
    {
     "name": "stdout",
     "output_type": "stream",
     "text": [
      "{'Aardra': 1, 'Ammu': 1, 'Ananya': 1}\n"
     ]
    }
   ],
   "source": [
    "name = {'Aardra','Ananya','Ammu'}\n",
    "value = 1\n",
    "dictionary = dict.fromkeys(name,value)\n",
    "print(dictionary)"
   ]
  },
  {
   "cell_type": "code",
   "execution_count": 38,
   "id": "d910ef1e-b207-4e19-9892-ce01bf056a7c",
   "metadata": {},
   "outputs": [
    {
     "name": "stdout",
     "output_type": "stream",
     "text": [
      "{'Aardra': None, 'Ammu': None, 'Ananya': None}\n"
     ]
    }
   ],
   "source": [
    "name = {'Aardra','Ananya','Ammu'}\n",
    "dictionary = dict.fromkeys(name)\n",
    "print(dictionary)"
   ]
  },
  {
   "cell_type": "markdown",
   "id": "d0d7f5b4-2bc8-489b-a30c-74b46da8bf6f",
   "metadata": {},
   "source": [
    "## get()\t\n",
    "\n",
    "**Returns the value of the specified key**"
   ]
  },
  {
   "cell_type": "code",
   "execution_count": 40,
   "id": "fb4f22b5-2271-485c-bf07-f388ed8ebdb9",
   "metadata": {},
   "outputs": [
    {
     "name": "stdout",
     "output_type": "stream",
     "text": [
      "Reji\n"
     ]
    }
   ],
   "source": [
    "name = {'Aardra':'Reji','Arya':'Nandha','Sree':'Badhra'}\n",
    "result = name.get('Aardra')\n",
    "print(result)"
   ]
  },
  {
   "cell_type": "code",
   "execution_count": 42,
   "id": "344a8e43-475b-45d6-9d1b-6e6b7f35d299",
   "metadata": {},
   "outputs": [
    {
     "name": "stdout",
     "output_type": "stream",
     "text": [
      "1\n"
     ]
    }
   ],
   "source": [
    "name = {'Aardra','Ananya','Ammu'}\n",
    "value = 1\n",
    "dictionary = dict.fromkeys(name,value)\n",
    "y = dictionary.get('Ammu')\n",
    "print(y)"
   ]
  },
  {
   "cell_type": "markdown",
   "id": "261c0c2e-47f1-4595-ac63-875cac1aec97",
   "metadata": {},
   "source": [
    "## items()\t\n",
    "\n",
    "**Returns a list containing a tuple for each key value pair**"
   ]
  },
  {
   "cell_type": "code",
   "execution_count": 44,
   "id": "5f505cbe-3af1-4b87-9b23-fa6465a5a518",
   "metadata": {},
   "outputs": [
    {
     "name": "stdout",
     "output_type": "stream",
     "text": [
      "dict_items([('Aardra', 'Reji'), ('Arya', 'Nandha'), ('Sree', 'Badhra')])\n"
     ]
    }
   ],
   "source": [
    "name = {'Aardra':'Reji','Arya':'Nandha','Sree':'Badhra'}\n",
    "x = name.items()\n",
    "print(x)"
   ]
  },
  {
   "cell_type": "markdown",
   "id": "bae60e4f-db96-4274-8fd7-cdf9568b225e",
   "metadata": {},
   "source": [
    "## keys()\t\n",
    "\n",
    "**Returns a list containing the dictionary's keys**"
   ]
  },
  {
   "cell_type": "code",
   "execution_count": 51,
   "id": "12efd038-f867-4581-8c6b-0fb7200a1529",
   "metadata": {},
   "outputs": [
    {
     "name": "stdout",
     "output_type": "stream",
     "text": [
      "dict_keys(['Aardra', 'Arya', 'Sree'])\n"
     ]
    }
   ],
   "source": [
    "name = {'Aardra':'Reji','Arya':'Nandha','Sree':'Badhra'}\n",
    "y= name.keys()\n",
    "print(y)"
   ]
  },
  {
   "cell_type": "markdown",
   "id": "de8a13a3-85f4-4ad6-b3ad-d671dff4c270",
   "metadata": {},
   "source": [
    "## pop()\t\n",
    "\n",
    "**Removes the element with the specified key**"
   ]
  },
  {
   "cell_type": "code",
   "execution_count": 61,
   "id": "5e0e6e55-af0e-4d23-b3a7-c2e0d15fe1c8",
   "metadata": {},
   "outputs": [
    {
     "name": "stdout",
     "output_type": "stream",
     "text": [
      "{'Arya': 'Nandha', 'Sree': 'Badhra'}\n"
     ]
    }
   ],
   "source": [
    "name = {'Aardra':'Reji','Arya':'Nandha','Sree':'Badhra'}\n",
    "name.pop('Aardra')\n",
    "print(name)"
   ]
  },
  {
   "cell_type": "markdown",
   "id": "2a7bcc9b-3fc4-4bf6-900a-e1289abe0294",
   "metadata": {},
   "source": [
    "## popitem()\t\n",
    "\n",
    "**Removes the last inserted key-value pair**"
   ]
  },
  {
   "cell_type": "code",
   "execution_count": 63,
   "id": "dbb9bf29-456f-45dc-856f-4ef407f39c2e",
   "metadata": {},
   "outputs": [
    {
     "name": "stdout",
     "output_type": "stream",
     "text": [
      "{'Aardra': 'Reji', 'Arya': 'Nandha'}\n"
     ]
    }
   ],
   "source": [
    "name = {'Aardra':'Reji','Arya':'Nandha','Sree':'Badhra'}\n",
    "name.popitem()\n",
    "print(name)"
   ]
  },
  {
   "cell_type": "markdown",
   "id": "6500ee50-1315-4fda-92d4-31c995fc22ff",
   "metadata": {},
   "source": [
    "## setdefault()\n",
    "\n",
    "**Returns the value of the specified key. If the key does not exist: insert the key, with the specified value**"
   ]
  },
  {
   "cell_type": "code",
   "execution_count": 67,
   "id": "907ad644-a537-4868-b4c1-5833760ba867",
   "metadata": {},
   "outputs": [
    {
     "name": "stdout",
     "output_type": "stream",
     "text": [
      "Nandha\n",
      "{'Aardra': 'Reji', 'Arya': 'Nandha', 'Sree': 'Badhra'}\n"
     ]
    }
   ],
   "source": [
    "name = {'Aardra':'Reji','Arya':'Nandha','Sree':'Badhra'}\n",
    "y = name.setdefault(\"Arya\",\"R\")\n",
    "print(y)\n",
    "print(name)"
   ]
  },
  {
   "cell_type": "code",
   "execution_count": 69,
   "id": "7c709ce7-1c30-4672-a3e7-3feea03cd9de",
   "metadata": {},
   "outputs": [
    {
     "name": "stdout",
     "output_type": "stream",
     "text": [
      "{'Aardra': 'Reji', 'Arya': 'Nandha', 'Sree': 'Badhra', 'Akshara': 'Lakshmi'}\n"
     ]
    }
   ],
   "source": [
    "name = {'Aardra':'Reji','Arya':'Nandha','Sree':'Badhra'}\n",
    "y = name.setdefault(\"Akshara\",\"Lakshmi\")\n",
    "print(name)"
   ]
  },
  {
   "cell_type": "markdown",
   "id": "e6487166-26ed-4057-a8b7-966aa651b017",
   "metadata": {},
   "source": [
    "## update()\t\n",
    "\n",
    "**Updates the dictionary with the specified key-value pairs**"
   ]
  },
  {
   "cell_type": "code",
   "execution_count": 75,
   "id": "cb7e408d-020d-4fd1-98f0-9a4f78b33a6e",
   "metadata": {},
   "outputs": [
    {
     "name": "stdout",
     "output_type": "stream",
     "text": [
      "{'Aardra': 'Reji', 'Arya': 'Nandha', 'Sree': 'Badhra', 'Akshara': 'Lakshmi'}\n"
     ]
    }
   ],
   "source": [
    "name = {'Aardra':'Reji','Arya':'Nandha','Sree':'Badhra'}\n",
    "name.update({\"Akshara\":\"Lakshmi\"})\n",
    "print(name)"
   ]
  },
  {
   "cell_type": "markdown",
   "id": "06d81f1f-7ead-402a-b8c0-63b2fdfdd516",
   "metadata": {},
   "source": [
    "## values()\t\n",
    "\n",
    "**Returns a list of all the values in the dictionary**"
   ]
  },
  {
   "cell_type": "code",
   "execution_count": 77,
   "id": "e02e8304-275e-49a8-bd4f-fbe913623e7f",
   "metadata": {},
   "outputs": [
    {
     "name": "stdout",
     "output_type": "stream",
     "text": [
      "dict_values(['Reji', 'Nandha', 'Badhra'])\n"
     ]
    }
   ],
   "source": [
    "name = {'Aardra':'Reji','Arya':'Nandha','Sree':'Badhra'}\n",
    "print(name.values())"
   ]
  }
 ],
 "metadata": {
  "kernelspec": {
   "display_name": "Python 3 (ipykernel)",
   "language": "python",
   "name": "python3"
  },
  "language_info": {
   "codemirror_mode": {
    "name": "ipython",
    "version": 3
   },
   "file_extension": ".py",
   "mimetype": "text/x-python",
   "name": "python",
   "nbconvert_exporter": "python",
   "pygments_lexer": "ipython3",
   "version": "3.12.4"
  }
 },
 "nbformat": 4,
 "nbformat_minor": 5
}
