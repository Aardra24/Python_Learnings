{
 "cells": [
  {
   "cell_type": "markdown",
   "id": "4de7ce35-1248-4b30-b41d-e7f29483898c",
   "metadata": {},
   "source": [
    "## Break"
   ]
  },
  {
   "cell_type": "markdown",
   "id": "d2b5cdfd-d741-4cce-939b-65d31cf66b9b",
   "metadata": {},
   "source": [
    "**break exits the loop entirely**"
   ]
  },
  {
   "cell_type": "code",
   "execution_count": 13,
   "id": "0a397cad-1bbc-4719-ab93-b253ca37cc8e",
   "metadata": {},
   "outputs": [
    {
     "name": "stdout",
     "output_type": "stream",
     "text": [
      "0\n",
      "1\n",
      "2\n"
     ]
    }
   ],
   "source": [
    "for i in range(5):\n",
    "    if i == 3:\n",
    "        break\n",
    "    print(i)"
   ]
  },
  {
   "cell_type": "markdown",
   "id": "f2fbd5e8-ed5b-4726-b2c6-2a536aa93fca",
   "metadata": {},
   "source": []
  },
  {
   "cell_type": "markdown",
   "id": "9e7beefc-db90-4380-95d2-3a0c573815d2",
   "metadata": {},
   "source": [
    "## Continue"
   ]
  },
  {
   "cell_type": "markdown",
   "id": "4de556b7-8e6b-4332-ac8b-f29de4375443",
   "metadata": {},
   "source": [
    "**continue skips the current iteration and proceeds to the next one**"
   ]
  },
  {
   "cell_type": "code",
   "execution_count": 18,
   "id": "132a262e-68a5-456d-a05c-df6102614d20",
   "metadata": {},
   "outputs": [
    {
     "name": "stdout",
     "output_type": "stream",
     "text": [
      "0\n",
      "1\n",
      "2\n",
      "4\n"
     ]
    }
   ],
   "source": [
    "for i in range(5):\n",
    "    if i == 3:\n",
    "        continue\n",
    "    print(i)"
   ]
  },
  {
   "cell_type": "markdown",
   "id": "00d45550-8545-43b5-bc99-5b108d22643a",
   "metadata": {},
   "source": [
    "**skips the current iteration when i is equal to 3, and continues the next iteration. Hence, the output has all the values except 3.**"
   ]
  },
  {
   "cell_type": "code",
   "execution_count": null,
   "id": "7a3f27fe-2ac2-4ec8-a0c6-3d98867aaccd",
   "metadata": {},
   "outputs": [],
   "source": []
  }
 ],
 "metadata": {
  "kernelspec": {
   "display_name": "Python 3 (ipykernel)",
   "language": "python",
   "name": "python3"
  },
  "language_info": {
   "codemirror_mode": {
    "name": "ipython",
    "version": 3
   },
   "file_extension": ".py",
   "mimetype": "text/x-python",
   "name": "python",
   "nbconvert_exporter": "python",
   "pygments_lexer": "ipython3",
   "version": "3.12.4"
  }
 },
 "nbformat": 4,
 "nbformat_minor": 5
}
