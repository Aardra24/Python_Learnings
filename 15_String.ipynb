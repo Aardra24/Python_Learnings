{
 "cells": [
  {
   "cell_type": "markdown",
   "id": "429f066e-29b6-46d2-a1cc-2a510a4372d7",
   "metadata": {},
   "source": [
    "## Python Strings"
   ]
  },
  {
   "cell_type": "markdown",
   "id": "2fa04c0c-55f6-45fd-99cb-4bac34e2b992",
   "metadata": {},
   "source": [
    "**String is a sequence of characters. For example, \"hello\" is a string containing a sequence of characters 'h', 'e', 'l', 'l', and 'o'.**"
   ]
  },
  {
   "cell_type": "code",
   "execution_count": 6,
   "id": "c8f2850e-412c-4afe-9921-3896419ecaff",
   "metadata": {},
   "outputs": [
    {
     "name": "stdout",
     "output_type": "stream",
     "text": [
      "Hey\n"
     ]
    }
   ],
   "source": [
    "string1 = \"Hey\"\n",
    "print(string1)"
   ]
  },
  {
   "cell_type": "markdown",
   "id": "7f6d0bfc-3282-49f7-b596-873770559863",
   "metadata": {},
   "source": [
    "## Access String Characters in Python"
   ]
  },
  {
   "cell_type": "markdown",
   "id": "20edc489-618e-470e-895f-01639564d0f8",
   "metadata": {},
   "source": [
    "**We can access the characters in a string in three ways**\n",
    "\n",
    "1. **Indexing**\n",
    "2. **Negative Indexing**\n",
    "3. **Slicing**"
   ]
  },
  {
   "cell_type": "code",
   "execution_count": 10,
   "id": "01155506-80e5-4d00-b217-bd4ac4af100e",
   "metadata": {},
   "outputs": [
    {
     "name": "stdout",
     "output_type": "stream",
     "text": [
      "r\n",
      "a\n",
      "ar\n"
     ]
    }
   ],
   "source": [
    "name = 'Aardra'\n",
    "print(name[2])\n",
    "print(name[-1])\n",
    "print(name[1:3])"
   ]
  },
  {
   "cell_type": "markdown",
   "id": "dbf909fd-5ae1-4ba8-ac97-05d4275d0932",
   "metadata": {},
   "source": [
    "**Note:** If we try to access an index out of the range or use numbers other than an integer, we will get errors."
   ]
  },
  {
   "cell_type": "markdown",
   "id": "64f5a570-6991-43e9-8fe0-1295ffff06dc",
   "metadata": {},
   "source": [
    "## Python Strings are Immutable"
   ]
  },
  {
   "cell_type": "markdown",
   "id": "8252a655-199a-4f07-acd4-22b4e62d9f81",
   "metadata": {},
   "source": [
    "**In Python, strings are immutable. That means the characters of a string cannot be changed.**"
   ]
  },
  {
   "cell_type": "code",
   "execution_count": 16,
   "id": "919ec172-832d-4bcb-942f-361c170b10d2",
   "metadata": {},
   "outputs": [
    {
     "ename": "TypeError",
     "evalue": "'str' object does not support item assignment",
     "output_type": "error",
     "traceback": [
      "\u001b[1;31m---------------------------------------------------------------------------\u001b[0m",
      "\u001b[1;31mTypeError\u001b[0m                                 Traceback (most recent call last)",
      "Cell \u001b[1;32mIn[16], line 2\u001b[0m\n\u001b[0;32m      1\u001b[0m cat \u001b[38;5;241m=\u001b[39m \u001b[38;5;124m'\u001b[39m\u001b[38;5;124mjulie\u001b[39m\u001b[38;5;124m'\u001b[39m\n\u001b[1;32m----> 2\u001b[0m cat[\u001b[38;5;241m1\u001b[39m] \u001b[38;5;241m=\u001b[39m \u001b[38;5;124m'\u001b[39m\u001b[38;5;124mo\u001b[39m\u001b[38;5;124m'\u001b[39m\n\u001b[0;32m      3\u001b[0m \u001b[38;5;28mprint\u001b[39m(cat)\n",
      "\u001b[1;31mTypeError\u001b[0m: 'str' object does not support item assignment"
     ]
    }
   ],
   "source": [
    "cat = 'julie'\n",
    "cat[1] = 'o'\n",
    "print(cat)"
   ]
  },
  {
   "cell_type": "markdown",
   "id": "1517f5a8-dd20-47aa-99ac-6547189ab87e",
   "metadata": {},
   "source": [
    "**However, we can assign the variable name to a new string.**"
   ]
  },
  {
   "cell_type": "code",
   "execution_count": 22,
   "id": "73785cfd-8a8a-43fc-a40c-092dfe993b03",
   "metadata": {},
   "outputs": [
    {
     "name": "stdout",
     "output_type": "stream",
     "text": [
      "cutee\n",
      "julie\n"
     ]
    }
   ],
   "source": [
    "cat = 'kitty'\n",
    "cat = 'cutee'\n",
    "print(cat)\n",
    "cat = 'julie'\n",
    "dog = cat\n",
    "print(dog)"
   ]
  },
  {
   "cell_type": "markdown",
   "id": "36506500-ad70-4739-a8b3-01d6529943d5",
   "metadata": {},
   "source": [
    "## Python Multiline String."
   ]
  },
  {
   "cell_type": "markdown",
   "id": "e9b86c28-cda3-4444-985d-76d39779bf03",
   "metadata": {},
   "source": [
    "**We can also create a multiline string in Python. For this, we use triple double quotes \"\"\" or triple single quotes '''.**"
   ]
  },
  {
   "cell_type": "code",
   "execution_count": 34,
   "id": "9dd2559b-7b4f-447e-bcab-19766b0e10c6",
   "metadata": {},
   "outputs": [
    {
     "name": "stdout",
     "output_type": "stream",
     "text": [
      " \n",
      "let her go\n",
      "let her go\n",
      "let her go\n",
      "\n"
     ]
    }
   ],
   "source": [
    "word = ''' \n",
    "let her go\n",
    "let her go\n",
    "let her go\n",
    "'''\n",
    "print(word)"
   ]
  },
  {
   "cell_type": "markdown",
   "id": "bdd19541-5b8f-4826-a280-b52168c530c6",
   "metadata": {},
   "source": [
    "## Python String Operations"
   ]
  },
  {
   "cell_type": "markdown",
   "id": "a2b3f981-28bd-441d-9006-cdfd45cfb816",
   "metadata": {},
   "source": [
    "1. **Compare**"
   ]
  },
  {
   "cell_type": "code",
   "execution_count": 38,
   "id": "8de1bbc7-3869-4ec8-b04b-24a5092d9894",
   "metadata": {},
   "outputs": [
    {
     "name": "stdout",
     "output_type": "stream",
     "text": [
      "False\n"
     ]
    }
   ],
   "source": [
    "a = 'hey'\n",
    "b = 'hello'\n",
    "print(a==b)"
   ]
  },
  {
   "cell_type": "markdown",
   "id": "316167d8-86f8-4046-a1c4-219ac7f1dd2f",
   "metadata": {},
   "source": [
    "2. **Joint**"
   ]
  },
  {
   "cell_type": "code",
   "execution_count": 43,
   "id": "97aea695-61d4-4f84-b255-b12252b22b75",
   "metadata": {},
   "outputs": [
    {
     "name": "stdout",
     "output_type": "stream",
     "text": [
      "Python is awesome\n"
     ]
    }
   ],
   "source": [
    "a = 'Python '\n",
    "b = 'is awesome'\n",
    "print(a+b)"
   ]
  },
  {
   "cell_type": "markdown",
   "id": "67d88b98-392b-42b4-8d25-7f8824aa21a3",
   "metadata": {},
   "source": [
    "## Iterate Through a Python String"
   ]
  },
  {
   "cell_type": "code",
   "execution_count": 46,
   "id": "7c1ebc56-318d-405b-9a34-5020f47d18c0",
   "metadata": {},
   "outputs": [
    {
     "name": "stdout",
     "output_type": "stream",
     "text": [
      "p\n",
      "y\n",
      "t\n",
      "h\n",
      "o\n",
      "n\n"
     ]
    }
   ],
   "source": [
    "language = 'python'\n",
    "for i in language:\n",
    "    print(i)"
   ]
  },
  {
   "cell_type": "markdown",
   "id": "722b4bcf-ffff-43e3-ae21-c5d0913b53dc",
   "metadata": {},
   "source": [
    "**Python String length**"
   ]
  },
  {
   "cell_type": "code",
   "execution_count": 49,
   "id": "32076e34-e3fe-46f3-9991-f4d59f97f764",
   "metadata": {},
   "outputs": [
    {
     "name": "stdout",
     "output_type": "stream",
     "text": [
      "6\n"
     ]
    }
   ],
   "source": [
    "print(len(language))"
   ]
  },
  {
   "cell_type": "markdown",
   "id": "0fb29c04-bd61-489a-9115-815c5a019a95",
   "metadata": {},
   "source": [
    "**Membership Test**"
   ]
  },
  {
   "cell_type": "code",
   "execution_count": 53,
   "id": "54756d08-9c65-401b-906d-9a418ef4cc5a",
   "metadata": {},
   "outputs": [
    {
     "name": "stdout",
     "output_type": "stream",
     "text": [
      "True\n"
     ]
    }
   ],
   "source": [
    "print('y' in language)"
   ]
  },
  {
   "cell_type": "markdown",
   "id": "a9140653-8288-44ec-ac5e-acb423458ca8",
   "metadata": {},
   "source": [
    "## Methods"
   ]
  },
  {
   "cell_type": "markdown",
   "id": "386b21a4-1184-4034-87c6-e125b366c164",
   "metadata": {},
   "source": [
    "## upper()"
   ]
  },
  {
   "cell_type": "code",
   "execution_count": 58,
   "id": "8a1a10ca-93d0-4e8b-9fea-37150adf5df4",
   "metadata": {},
   "outputs": [],
   "source": [
    "String = ('Halo Everyone My name is Aardra R')"
   ]
  },
  {
   "cell_type": "code",
   "execution_count": 62,
   "id": "b954eafc-75cc-4b8f-ba33-3a434d54db30",
   "metadata": {},
   "outputs": [
    {
     "name": "stdout",
     "output_type": "stream",
     "text": [
      "HALO EVERYONE MY NAME IS AARDRA R\n"
     ]
    }
   ],
   "source": [
    "print(String.upper())"
   ]
  },
  {
   "cell_type": "markdown",
   "id": "35405091-9294-449b-8956-55865ccac5ec",
   "metadata": {},
   "source": [
    "## lower()"
   ]
  },
  {
   "cell_type": "code",
   "execution_count": 64,
   "id": "0153e5eb-25ca-4ff2-9c00-89086c26f0e7",
   "metadata": {},
   "outputs": [
    {
     "name": "stdout",
     "output_type": "stream",
     "text": [
      "halo everyone my name is aardra r\n"
     ]
    }
   ],
   "source": [
    "print(String.lower())"
   ]
  },
  {
   "cell_type": "markdown",
   "id": "9fc2b297-c998-4aaa-a047-8e875b45ce54",
   "metadata": {},
   "source": [
    "## partition()"
   ]
  },
  {
   "cell_type": "code",
   "execution_count": 70,
   "id": "a68b49b9-909e-4de2-9e49-754159c9ffd5",
   "metadata": {},
   "outputs": [
    {
     "name": "stdout",
     "output_type": "stream",
     "text": [
      "('Halo Everyone ', 'My', ' name is Aardra R')\n"
     ]
    }
   ],
   "source": [
    "print(String.partition('My'))"
   ]
  },
  {
   "cell_type": "markdown",
   "id": "a5cef338-0b54-4722-8298-b85e63ba7f51",
   "metadata": {},
   "source": [
    "## replace()"
   ]
  },
  {
   "cell_type": "code",
   "execution_count": 81,
   "id": "a82f83f0-6dc5-4501-bd0c-ea47fdfb14fe",
   "metadata": {},
   "outputs": [
    {
     "name": "stdout",
     "output_type": "stream",
     "text": [
      "rot roll\n"
     ]
    }
   ],
   "source": [
    "a = 'bat ball'\n",
    "re_a = a.replace('ba', 'ro')\n",
    "print(re_a)"
   ]
  },
  {
   "cell_type": "markdown",
   "id": "df9c31c2-fa53-4499-9f51-d3fa1f10941f",
   "metadata": {},
   "source": [
    "## find()"
   ]
  },
  {
   "cell_type": "markdown",
   "id": "0e3502e7-b43a-4fe8-92f5-5893b89d2a56",
   "metadata": {},
   "source": [
    "**The find() method returns the index of first occurrence of the substring (if found). If not found, it returns -1.**"
   ]
  },
  {
   "cell_type": "code",
   "execution_count": 117,
   "id": "c9d6e3e6-21c4-43b2-ac27-0912156dc1a0",
   "metadata": {},
   "outputs": [
    {
     "name": "stdout",
     "output_type": "stream",
     "text": [
      "7\n"
     ]
    }
   ],
   "source": [
    "string = 'Hy my name is  Aardra R'\n",
    "print(string.find('a'))"
   ]
  },
  {
   "cell_type": "code",
   "execution_count": 101,
   "id": "7e17ef2f-82bc-4413-ad32-f90fb9f85b35",
   "metadata": {},
   "outputs": [
    {
     "name": "stdout",
     "output_type": "stream",
     "text": [
      "contain substring \n"
     ]
    }
   ],
   "source": [
    "if string.find('is')!= -1:\n",
    "    print(\"contain substring \")\n",
    "else:\n",
    "    print(\"dont contain substring\")"
   ]
  },
  {
   "cell_type": "markdown",
   "id": "103a2850-32c7-4eee-bc64-005583c25bce",
   "metadata": {},
   "source": [
    "## capitalize()"
   ]
  },
  {
   "cell_type": "markdown",
   "id": "0dde25ba-b8f1-4800-b918-fadef8eb45da",
   "metadata": {},
   "source": [
    "**Converts the first character to upper case**"
   ]
  },
  {
   "cell_type": "code",
   "execution_count": 121,
   "id": "d3177949-afa0-4cd5-87d3-d78f6687d394",
   "metadata": {},
   "outputs": [
    {
     "name": "stdout",
     "output_type": "stream",
     "text": [
      "Hy my name is  aardra r\n"
     ]
    }
   ],
   "source": [
    "print(string.capitalize())"
   ]
  },
  {
   "cell_type": "markdown",
   "id": "25b636f4-c458-44a2-adf1-07223b8cf597",
   "metadata": {},
   "source": [
    "## casefold()"
   ]
  },
  {
   "cell_type": "code",
   "execution_count": 124,
   "id": "d9874aac-50ca-4c25-a9f0-a86a0134e168",
   "metadata": {},
   "outputs": [
    {
     "name": "stdout",
     "output_type": "stream",
     "text": [
      "hy my name is  aardra r\n"
     ]
    }
   ],
   "source": [
    "print(string.casefold())"
   ]
  },
  {
   "cell_type": "markdown",
   "id": "0cb85890-ead2-455b-9a42-da7ce5937869",
   "metadata": {},
   "source": [
    "## centre()"
   ]
  },
  {
   "cell_type": "code",
   "execution_count": 135,
   "id": "59de43f7-c228-46a7-997d-bfe1e8f6c0de",
   "metadata": {},
   "outputs": [
    {
     "name": "stdout",
     "output_type": "stream",
     "text": [
      "***Hy my name is  Aardra R****\n"
     ]
    }
   ],
   "source": [
    "print(string.center(30,'*'))"
   ]
  },
  {
   "cell_type": "markdown",
   "id": "b80b4bb5-e5ad-4b8f-90f8-561c60b6f458",
   "metadata": {},
   "source": [
    "## count()"
   ]
  },
  {
   "cell_type": "code",
   "execution_count": 138,
   "id": "5bb4927f-a40b-43df-8d6b-e88c8852622e",
   "metadata": {},
   "outputs": [
    {
     "name": "stdout",
     "output_type": "stream",
     "text": [
      "3\n"
     ]
    }
   ],
   "source": [
    "print(string.count('a'))"
   ]
  },
  {
   "cell_type": "markdown",
   "id": "c15b1326-c649-419a-875c-8cfb9a952e9f",
   "metadata": {},
   "source": [
    "## encode()"
   ]
  },
  {
   "cell_type": "markdown",
   "id": "4b98bc73-7aac-49ef-aaf9-849a41bbfd40",
   "metadata": {},
   "source": [
    "**The encode() method encodes the string, using the specified encoding. If no encoding is specified, UTF-8 will be used.**\n",
    "\n",
    "**Syntax**\n",
    "\n",
    "string.encode(encoding=encoding, errors=errors)"
   ]
  },
  {
   "cell_type": "markdown",
   "id": "d9ed4d28-2877-4838-8dde-9ee37dd9ac2a",
   "metadata": {},
   "source": [
    "**A String specifying the error method. Legal values are:**\n",
    "\n",
    "'backslashreplace'\t- uses a backslash instead of the character that could not be encoded \\\n",
    "'ignore'\t- ignores the characters that cannot be encoded \\\n",
    "'namereplace'\t- replaces the character with a text explaining the character \\\n",
    "'strict'\t- Default, raises an error on failure \\\n",
    "'replace'\t- replaces the character with a questionmark \\\n",
    "'xmlcharrefreplace'\t- replaces the character with an xml character "
   ]
  },
  {
   "cell_type": "code",
   "execution_count": 159,
   "id": "958aa192-ad0d-4d6b-9ae5-20a504c56eaa",
   "metadata": {},
   "outputs": [
    {
     "name": "stdout",
     "output_type": "stream",
     "text": [
      "b'My name is A\\\\xe5rdr\\\\xe5'\n",
      "b'My name is Ardr'\n",
      "b'My name is A\\\\N{LATIN SMALL LETTER A WITH RING ABOVE}rdr\\\\N{LATIN SMALL LETTER A WITH RING ABOVE}'\n",
      "b'My name is A?rdr?'\n",
      "b'My name is A&#229;rdr&#229;'\n"
     ]
    }
   ],
   "source": [
    "txt = \"My name is Aårdrå\"\n",
    "print(txt.encode(encoding=\"ascii\",errors=\"backslashreplace\"))\n",
    "print(txt.encode(encoding=\"ascii\",errors=\"ignore\"))\n",
    "print(txt.encode(encoding=\"ascii\",errors=\"namereplace\"))\n",
    "print(txt.encode(encoding=\"ascii\",errors=\"replace\"))\n",
    "print(txt.encode(encoding=\"ascii\",errors=\"xmlcharrefreplace\"))"
   ]
  },
  {
   "cell_type": "markdown",
   "id": "f9c7be09-28f0-4a39-a61d-e4652c06c528",
   "metadata": {},
   "source": [
    "## format()"
   ]
  },
  {
   "cell_type": "code",
   "execution_count": 239,
   "id": "095c0330-3301-4c6d-a17f-4edf5f9f7d93",
   "metadata": {},
   "outputs": [
    {
     "name": "stdout",
     "output_type": "stream",
     "text": [
      "For only 49.00 dollars!\n"
     ]
    }
   ],
   "source": [
    "amnt = \"For only {price:.2f} dollars!\"\n",
    "print(amnt.format(price = 49))"
   ]
  },
  {
   "cell_type": "markdown",
   "id": "08780fbb-6014-45c2-a6e5-51d4de2ed78e",
   "metadata": {},
   "source": [
    "## isidentifier()"
   ]
  },
  {
   "cell_type": "code",
   "execution_count": 250,
   "id": "6e04bdb5-1a81-4ef9-b559-84c214eeee11",
   "metadata": {},
   "outputs": [
    {
     "name": "stdout",
     "output_type": "stream",
     "text": [
      "False\n"
     ]
    }
   ],
   "source": [
    "y = '2aardr_5'\n",
    "print(y.isidentifier())"
   ]
  },
  {
   "cell_type": "markdown",
   "id": "78031f89-1c16-4c45-83c8-7dd81df64036",
   "metadata": {},
   "source": [
    "## isdigit()"
   ]
  },
  {
   "cell_type": "code",
   "execution_count": 259,
   "id": "b291f2ab-28cd-4591-9ac4-0dc912335434",
   "metadata": {},
   "outputs": [
    {
     "name": "stdout",
     "output_type": "stream",
     "text": [
      "True\n"
     ]
    }
   ],
   "source": [
    "y = '0'\n",
    "print(y.isdigit())"
   ]
  },
  {
   "cell_type": "markdown",
   "id": "ecda56b8-ea23-4202-8471-39997f90ed99",
   "metadata": {},
   "source": [
    "## isalpha()"
   ]
  },
  {
   "cell_type": "code",
   "execution_count": 274,
   "id": "c6dc5d43-0849-40f8-9162-2b7fed77bb2a",
   "metadata": {},
   "outputs": [
    {
     "name": "stdout",
     "output_type": "stream",
     "text": [
      "True\n"
     ]
    }
   ],
   "source": [
    "r = 'a'\n",
    "print(r.isalpha())"
   ]
  },
  {
   "cell_type": "markdown",
   "id": "c2d12043-ec34-44fa-a5af-c9dfb8a2fdf9",
   "metadata": {},
   "source": [
    "## islower()"
   ]
  },
  {
   "cell_type": "code",
   "execution_count": 277,
   "id": "98ee7d1d-0332-4a36-a74d-8f045efaada6",
   "metadata": {},
   "outputs": [
    {
     "name": "stdout",
     "output_type": "stream",
     "text": [
      "False\n"
     ]
    }
   ],
   "source": [
    "a ='ahana is very kIND'\n",
    "print(a.islower())"
   ]
  },
  {
   "cell_type": "markdown",
   "id": "06f4aadf-587d-4fae-a627-50b3cba56d97",
   "metadata": {},
   "source": [
    "## isspace()"
   ]
  },
  {
   "cell_type": "code",
   "execution_count": 281,
   "id": "c8184d73-6df2-4383-8a04-2f32d1df2d7b",
   "metadata": {},
   "outputs": [
    {
     "name": "stdout",
     "output_type": "stream",
     "text": [
      "True\n"
     ]
    }
   ],
   "source": [
    "txt = \"   \"\n",
    "x = txt.isspace()\n",
    "print(x)"
   ]
  },
  {
   "cell_type": "markdown",
   "id": "b6343fb6-31fd-436a-9d63-ab51cc2730e5",
   "metadata": {},
   "source": [
    "## Join()"
   ]
  },
  {
   "cell_type": "code",
   "execution_count": 287,
   "id": "98dcaf90-77fd-45b4-971b-29d00138c2ee",
   "metadata": {},
   "outputs": [
    {
     "name": "stdout",
     "output_type": "stream",
     "text": [
      "Aardra:Arya:Sree\n"
     ]
    }
   ],
   "source": [
    "myTup = (\"Aardra\", \"Arya\", \"Sree\")\n",
    "\n",
    "x = \":\".join(myTup)\n",
    "\n",
    "print(x)"
   ]
  },
  {
   "cell_type": "markdown",
   "id": "6b6e768d-2cc5-41fb-bb4a-6cf5cab90fa6",
   "metadata": {},
   "source": [
    "## endswith()"
   ]
  },
  {
   "cell_type": "code",
   "execution_count": 302,
   "id": "72b5701a-5016-40b5-9735-bdc424049da4",
   "metadata": {},
   "outputs": [
    {
     "name": "stdout",
     "output_type": "stream",
     "text": [
      "True\n"
     ]
    }
   ],
   "source": [
    "txt = \"Hello, welcome to my world.\"\n",
    "print(txt.endswith('.'))"
   ]
  }
 ],
 "metadata": {
  "kernelspec": {
   "display_name": "Python 3 (ipykernel)",
   "language": "python",
   "name": "python3"
  },
  "language_info": {
   "codemirror_mode": {
    "name": "ipython",
    "version": 3
   },
   "file_extension": ".py",
   "mimetype": "text/x-python",
   "name": "python",
   "nbconvert_exporter": "python",
   "pygments_lexer": "ipython3",
   "version": "3.12.4"
  }
 },
 "nbformat": 4,
 "nbformat_minor": 5
}
