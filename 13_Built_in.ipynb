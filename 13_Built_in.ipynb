{
 "cells": [
  {
   "cell_type": "code",
   "execution_count": 2,
   "id": "29f09a8d-a79d-4cde-bc74-ee42f40073f2",
   "metadata": {},
   "outputs": [
    {
     "name": "stdout",
     "output_type": "stream",
     "text": [
      "['ArithmeticError', 'AssertionError', 'AttributeError', 'BaseException', 'BaseExceptionGroup', 'BlockingIOError', 'BrokenPipeError', 'BufferError', 'BytesWarning', 'ChildProcessError', 'ConnectionAbortedError', 'ConnectionError', 'ConnectionRefusedError', 'ConnectionResetError', 'DeprecationWarning', 'EOFError', 'Ellipsis', 'EncodingWarning', 'EnvironmentError', 'Exception', 'ExceptionGroup', 'False', 'FileExistsError', 'FileNotFoundError', 'FloatingPointError', 'FutureWarning', 'GeneratorExit', 'IOError', 'ImportError', 'ImportWarning', 'IndentationError', 'IndexError', 'InterruptedError', 'IsADirectoryError', 'KeyError', 'KeyboardInterrupt', 'LookupError', 'MemoryError', 'ModuleNotFoundError', 'NameError', 'None', 'NotADirectoryError', 'NotImplemented', 'NotImplementedError', 'OSError', 'OverflowError', 'PendingDeprecationWarning', 'PermissionError', 'ProcessLookupError', 'RecursionError', 'ReferenceError', 'ResourceWarning', 'RuntimeError', 'RuntimeWarning', 'StopAsyncIteration', 'StopIteration', 'SyntaxError', 'SyntaxWarning', 'SystemError', 'SystemExit', 'TabError', 'TimeoutError', 'True', 'TypeError', 'UnboundLocalError', 'UnicodeDecodeError', 'UnicodeEncodeError', 'UnicodeError', 'UnicodeTranslateError', 'UnicodeWarning', 'UserWarning', 'ValueError', 'Warning', 'WindowsError', 'ZeroDivisionError', '__IPYTHON__', '__build_class__', '__debug__', '__doc__', '__import__', '__loader__', '__name__', '__package__', '__spec__', 'abs', 'aiter', 'all', 'anext', 'any', 'ascii', 'bin', 'bool', 'breakpoint', 'bytearray', 'bytes', 'callable', 'chr', 'classmethod', 'compile', 'complex', 'copyright', 'credits', 'delattr', 'dict', 'dir', 'display', 'divmod', 'enumerate', 'eval', 'exec', 'execfile', 'filter', 'float', 'format', 'frozenset', 'get_ipython', 'getattr', 'globals', 'hasattr', 'hash', 'help', 'hex', 'id', 'input', 'int', 'isinstance', 'issubclass', 'iter', 'len', 'license', 'list', 'locals', 'map', 'max', 'memoryview', 'min', 'next', 'object', 'oct', 'open', 'ord', 'pow', 'print', 'property', 'range', 'repr', 'reversed', 'round', 'runfile', 'set', 'setattr', 'slice', 'sorted', 'staticmethod', 'str', 'sum', 'super', 'tuple', 'type', 'vars', 'zip']\n"
     ]
    }
   ],
   "source": [
    "print(dir(__builtins__))"
   ]
  },
  {
   "cell_type": "markdown",
   "id": "174987af-5494-4a99-a25f-cc16e12d9176",
   "metadata": {},
   "source": [
    "## abs()"
   ]
  },
  {
   "cell_type": "markdown",
   "id": "1c65d276-4930-437f-b062-c8971414cb1d",
   "metadata": {},
   "source": [
    "**return the absolute value of a number**"
   ]
  },
  {
   "cell_type": "code",
   "execution_count": 11,
   "id": "9fe2429c-eadc-4942-ba79-cc69722ac457",
   "metadata": {},
   "outputs": [
    {
     "name": "stdout",
     "output_type": "stream",
     "text": [
      "The absolute value of -5:  5\n"
     ]
    }
   ],
   "source": [
    "print(\"The absolute value of -5: \", abs(-5))"
   ]
  },
  {
   "cell_type": "markdown",
   "id": "ed16b5d1-bc45-4473-b312-c8dcfec7c923",
   "metadata": {},
   "source": [
    "## all()"
   ]
  },
  {
   "cell_type": "markdown",
   "id": "49dbcec1-e62c-4368-a8dd-d85564b1f4a9",
   "metadata": {},
   "source": [
    "**The all() function returns True if all elements in the given iterable are true. If not, it returns False.**"
   ]
  },
  {
   "cell_type": "code",
   "execution_count": 57,
   "id": "746fb3ab-d518-48ff-910f-3c314183e6f1",
   "metadata": {},
   "outputs": [
    {
     "name": "stdout",
     "output_type": "stream",
     "text": [
      "False\n"
     ]
    }
   ],
   "source": [
    "list = [False,True,True]\n",
    "result = all(list)\n",
    "print(result)"
   ]
  },
  {
   "cell_type": "markdown",
   "id": "86c47ebd-470d-4ede-9d4e-d8fad70b14ed",
   "metadata": {},
   "source": [
    "## any()"
   ]
  },
  {
   "cell_type": "markdown",
   "id": "9c60ea53-22d7-4c40-8291-40f94ac7fa8a",
   "metadata": {},
   "source": [
    "**The any() function returns True if any element of an iterable is True. If not, it returns False.**"
   ]
  },
  {
   "cell_type": "code",
   "execution_count": 65,
   "id": "8b06d0e2-7849-48e2-b959-5d2df65eb62c",
   "metadata": {},
   "outputs": [
    {
     "name": "stdout",
     "output_type": "stream",
     "text": [
      "False\n"
     ]
    }
   ],
   "source": [
    "list = [False,False,False]\n",
    "result = any(list)\n",
    "print(result)"
   ]
  },
  {
   "cell_type": "markdown",
   "id": "efb7a731-dab3-4794-9624-57f831cb7ff8",
   "metadata": {},
   "source": [
    "## ascii()"
   ]
  },
  {
   "cell_type": "markdown",
   "id": "0f345c53-0056-4a78-b73b-2c2648906d5b",
   "metadata": {},
   "source": [
    "**The ascii() method replaces a non-printable character with its corresponding ascii value and returns it.**"
   ]
  },
  {
   "cell_type": "code",
   "execution_count": 69,
   "id": "92912dcd-60d9-483f-8d49-c1aa087b72d4",
   "metadata": {},
   "outputs": [
    {
     "name": "stdout",
     "output_type": "stream",
     "text": [
      "'Pyth\\xf6n is interesting'\n"
     ]
    }
   ],
   "source": [
    "text = 'Pythön is interesting'\n",
    "\n",
    "print(ascii(text))"
   ]
  },
  {
   "cell_type": "markdown",
   "id": "240ea3b9-2cda-4e40-8e8a-14c7a7969dd4",
   "metadata": {},
   "source": [
    "## bin()"
   ]
  },
  {
   "cell_type": "markdown",
   "id": "f55bf59b-33f1-4d55-bbcf-4bf6dd45a2a9",
   "metadata": {},
   "source": [
    "**The bin() method converts a specified integer number to its binary representation and returns it.**"
   ]
  },
  {
   "cell_type": "code",
   "execution_count": 75,
   "id": "86d12f3a-3611-417a-b371-d2cd16183792",
   "metadata": {},
   "outputs": [
    {
     "name": "stdout",
     "output_type": "stream",
     "text": [
      "0b1111\n"
     ]
    }
   ],
   "source": [
    "num = 15\n",
    "print(bin(num))"
   ]
  },
  {
   "cell_type": "markdown",
   "id": "e3b54c0c-f3ee-4192-b5dc-cfc6872c9818",
   "metadata": {},
   "source": [
    "## bool()"
   ]
  },
  {
   "cell_type": "markdown",
   "id": "368e912b-bb41-4e5c-88e4-4d296bde5ce6",
   "metadata": {},
   "source": [
    "**The bool() method takes a specified argument and returns its boolean value.**"
   ]
  },
  {
   "cell_type": "code",
   "execution_count": 79,
   "id": "d829bd90-4672-48ae-86ea-620070bfbcc5",
   "metadata": {},
   "outputs": [
    {
     "name": "stdout",
     "output_type": "stream",
     "text": [
      "True\n"
     ]
    }
   ],
   "source": [
    "test = 5\n",
    "print(bool(5))"
   ]
  },
  {
   "cell_type": "markdown",
   "id": "9fb2be92-c5d1-46b6-8d11-7da325755d70",
   "metadata": {},
   "source": [
    "## dir()"
   ]
  },
  {
   "cell_type": "markdown",
   "id": "9a789bb0-dc11-49b1-98e7-cd6f09ea5274",
   "metadata": {},
   "source": [
    "**The dir() function returns all properties and methods of the specified object, without the values. even built-in properties which are default for all object.**"
   ]
  },
  {
   "cell_type": "code",
   "execution_count": 113,
   "id": "c2d6102f-53bf-46ba-96b8-5c746652bd70",
   "metadata": {},
   "outputs": [
    {
     "name": "stdout",
     "output_type": "stream",
     "text": [
      "['Age', 'Country', 'Name', '__class__', '__delattr__', '__dict__', '__dir__', '__doc__', '__eq__', '__format__', '__ge__', '__getattribute__', '__getstate__', '__gt__', '__hash__', '__init__', '__init_subclass__', '__le__', '__lt__', '__module__', '__ne__', '__new__', '__reduce__', '__reduce_ex__', '__repr__', '__setattr__', '__sizeof__', '__str__', '__subclasshook__', '__weakref__']\n"
     ]
    }
   ],
   "source": [
    "class employee:\n",
    "    Name = 'Aardra R'\n",
    "    Age = 22\n",
    "    Country = 'India'\n",
    "print(dir(employee))"
   ]
  },
  {
   "cell_type": "markdown",
   "id": "6a758ae4-30c2-4ef8-8767-1aad50a62e05",
   "metadata": {},
   "source": [
    "## zip()"
   ]
  },
  {
   "cell_type": "markdown",
   "id": "a6986dc6-74fa-464c-b427-71c38bcde362",
   "metadata": {},
   "source": [
    " **iterate over multiple iterables. It takes corresponding elements from all the iterable passed to it and merges them in a tuple.**"
   ]
  },
  {
   "cell_type": "code",
   "execution_count": 32,
   "id": "92d74d69-91b0-4c7c-8631-892f7fae15d5",
   "metadata": {},
   "outputs": [
    {
     "name": "stdout",
     "output_type": "stream",
     "text": [
      "(('Ann', 'Augustine'), ('Rose', 'Mary'), ('Bob', 'Marley'))\n",
      "<class 'list'>\n",
      "(('Ann', 'Augustine'), ('Rose', 'Mary'), ('Bob', 'Marley'))\n"
     ]
    }
   ],
   "source": [
    "a = ('Ann','Rose','Bob')\n",
    "b = ('Augustine','Mary','Marley')\n",
    "print(tuple(zip(a,b)))\n",
    "new_list = [tuple(zip(a,b))]\n",
    "print(type(new_list))\n",
    "for i in new_list:\n",
    "    print(i)"
   ]
  },
  {
   "cell_type": "code",
   "execution_count": 34,
   "id": "886c846d-db02-49ab-ba79-d70b05ffceac",
   "metadata": {},
   "outputs": [
    {
     "name": "stdout",
     "output_type": "stream",
     "text": [
      "Augustine\n",
      "Mary\n",
      "Marley\n"
     ]
    }
   ],
   "source": [
    "for i in tuple(zip(a,b)):\n",
    "\n",
    "    print(i[1])"
   ]
  },
  {
   "cell_type": "markdown",
   "id": "1fc6dd36-f9e8-4437-bf09-176c4a2f7e81",
   "metadata": {},
   "source": [
    "## dict()"
   ]
  },
  {
   "cell_type": "markdown",
   "id": "bbb6f51e-ff71-42ec-8670-245bb39bf84d",
   "metadata": {},
   "source": [
    "**The dict() function creates a dictionary.**\n",
    "\n",
    "**A dictionary is a collection which is unordered, changeable and indexed.**"
   ]
  },
  {
   "cell_type": "code",
   "execution_count": 138,
   "id": "2ed4a881-18b5-4f1f-8332-7365bebe1b18",
   "metadata": {},
   "outputs": [
    {
     "name": "stdout",
     "output_type": "stream",
     "text": [
      "{'Name': 'Aardra R', 'Age': 22, 'Country': 'India'}\n"
     ]
    }
   ],
   "source": [
    "x = dict(Name= 'Aardra R', Age = 22, Country = 'India')\n",
    "print(x)"
   ]
  },
  {
   "cell_type": "markdown",
   "id": "0dac3ae1-94e3-40b7-bcc9-02268bda13ca",
   "metadata": {},
   "source": [
    "## enumerate()"
   ]
  },
  {
   "cell_type": "markdown",
   "id": "a8b48673-070b-46a6-90dd-556a03eeccfe",
   "metadata": {},
   "source": [
    "**The enumerate() function adds a counter to an iterable and returns it as an enumerate object (iterator with index and the value).**"
   ]
  },
  {
   "cell_type": "code",
   "execution_count": 55,
   "id": "192ac2e4-3f71-408b-a175-f982f2c06c53",
   "metadata": {},
   "outputs": [
    {
     "name": "stdout",
     "output_type": "stream",
     "text": [
      "{0: 'Aardra', 1: 'Arya', 2: 'Sree'}\n",
      "[(0, 'Aardra'), (1, 'Arya'), (2, 'Sree')]\n",
      "((0, 'Aardra'), (1, 'Arya'), (2, 'Sree'))\n"
     ]
    }
   ],
   "source": [
    "names = ('Aardra','Arya','Sree')\n",
    "print(dict(enumerate(names)))\n",
    "print(list(enumerate(names)))\n",
    "print(tuple(enumerate(names)))"
   ]
  },
  {
   "cell_type": "markdown",
   "id": "dfa0c34e-e616-4958-a101-9312cbdea7f8",
   "metadata": {},
   "source": [
    "## float()"
   ]
  },
  {
   "cell_type": "markdown",
   "id": "89692723-bb49-4a11-968a-5eff672cee57",
   "metadata": {},
   "source": [
    "**The float() method returns a floating point number from a number or a string.**"
   ]
  },
  {
   "cell_type": "code",
   "execution_count": 61,
   "id": "f42aed35-5ce7-4116-922c-fca29b8ed736",
   "metadata": {},
   "outputs": [
    {
     "name": "stdout",
     "output_type": "stream",
     "text": [
      "1.0\n",
      "3.0\n"
     ]
    }
   ],
   "source": [
    "str = '1'\n",
    "print(float(str))\n",
    "int = 3\n",
    "print(float(int))"
   ]
  },
  {
   "cell_type": "markdown",
   "id": "fea05258-2fd9-4ff4-bc1f-0ba88d95e3f2",
   "metadata": {},
   "source": [
    "## help()"
   ]
  },
  {
   "cell_type": "markdown",
   "id": "18189df3-857e-4c68-88d8-aa18c637c817",
   "metadata": {},
   "source": [
    "**The help() method is used for interactive use. It's recommended to try it in your interpreter when you need help to write Python program and use Python modules.**"
   ]
  },
  {
   "cell_type": "code",
   "execution_count": 70,
   "id": "3a287ef4-2ae2-4739-a086-6fda0456043f",
   "metadata": {},
   "outputs": [
    {
     "name": "stdout",
     "output_type": "stream",
     "text": [
      "Help on built-in function cos in module math:\n",
      "\n",
      "cos(x, /)\n",
      "    Return the cosine of x (measured in radians).\n",
      "\n"
     ]
    }
   ],
   "source": [
    "import math\n",
    "help(math.cos)"
   ]
  },
  {
   "cell_type": "markdown",
   "id": "98b57bb3-8cfc-41e1-b827-c3c7e2e4fa2a",
   "metadata": {},
   "source": [
    "## input()"
   ]
  },
  {
   "cell_type": "markdown",
   "id": "2aa46c5a-332d-4186-870c-00bd607ac57a",
   "metadata": {},
   "source": [
    "**The input() function takes input from the user and returns it.**"
   ]
  },
  {
   "cell_type": "code",
   "execution_count": 76,
   "id": "b18dbbf4-02e1-4488-a351-f45ce9d440cc",
   "metadata": {},
   "outputs": [
    {
     "name": "stdin",
     "output_type": "stream",
     "text": [
      "Enter a name:  Aardra\n"
     ]
    },
    {
     "name": "stdout",
     "output_type": "stream",
     "text": [
      "Aardra\n"
     ]
    }
   ],
   "source": [
    "n = input(\"Enter a name: \")\n",
    "print(n)"
   ]
  },
  {
   "cell_type": "markdown",
   "id": "c284e097-896b-41b7-a1a0-10ff85dc42e8",
   "metadata": {},
   "source": [
    "## int()"
   ]
  },
  {
   "cell_type": "markdown",
   "id": "d6325503-dcd8-496c-b855-e3374a174d07",
   "metadata": {},
   "source": [
    "**The int() function converts a number or a string to its equivalent integer.**"
   ]
  },
  {
   "cell_type": "code",
   "execution_count": 220,
   "id": "2b69d190-3870-4fe8-8dda-ad92b964100b",
   "metadata": {},
   "outputs": [
    {
     "ename": "TypeError",
     "evalue": "'int' object is not callable",
     "output_type": "error",
     "traceback": [
      "\u001b[1;31m---------------------------------------------------------------------------\u001b[0m",
      "\u001b[1;31mTypeError\u001b[0m                                 Traceback (most recent call last)",
      "Cell \u001b[1;32mIn[220], line 2\u001b[0m\n\u001b[0;32m      1\u001b[0m num \u001b[38;5;241m=\u001b[39m \u001b[38;5;241m-\u001b[39m\u001b[38;5;241m2.5\u001b[39m\n\u001b[1;32m----> 2\u001b[0m \u001b[38;5;28mprint\u001b[39m(\u001b[38;5;28mint\u001b[39m(num))\n",
      "\u001b[1;31mTypeError\u001b[0m: 'int' object is not callable"
     ]
    }
   ],
   "source": [
    "num = -2.5\n",
    "print(int(num))\n"
   ]
  },
  {
   "cell_type": "markdown",
   "id": "001cd333-4e25-4cb7-aec0-1685988ccc9f",
   "metadata": {},
   "source": [
    "## isinstance()"
   ]
  },
  {
   "cell_type": "markdown",
   "id": "b91abb07-195e-4553-913f-5209ab1b9765",
   "metadata": {},
   "source": [
    "**The isinstance() function checks if the object (first argument) is an instance or subclass of classinfo class (second argument).**"
   ]
  },
  {
   "cell_type": "code",
   "execution_count": 92,
   "id": "815d3413-97c1-4e42-b677-29079e67b31f",
   "metadata": {},
   "outputs": [
    {
     "name": "stdout",
     "output_type": "stream",
     "text": [
      "False\n"
     ]
    }
   ],
   "source": [
    "num = (2,3,4,55)\n",
    "print(isinstance(num,list))"
   ]
  },
  {
   "cell_type": "markdown",
   "id": "44482cef-9259-4b91-8196-b3f8f6f80d44",
   "metadata": {},
   "source": [
    "## len()"
   ]
  },
  {
   "cell_type": "markdown",
   "id": "b9f7bfbc-4a28-4e18-be0e-693cb510d697",
   "metadata": {},
   "source": [
    "**Length**"
   ]
  },
  {
   "cell_type": "code",
   "execution_count": 96,
   "id": "d02951f4-45b0-40cb-b178-c35f09f1180e",
   "metadata": {},
   "outputs": [
    {
     "name": "stdout",
     "output_type": "stream",
     "text": [
      "6\n"
     ]
    }
   ],
   "source": [
    "print(len('aardra'))"
   ]
  },
  {
   "cell_type": "markdown",
   "id": "d612d988-e1f6-419e-9f89-b5a2e9b5361f",
   "metadata": {},
   "source": [
    "## list()"
   ]
  },
  {
   "cell_type": "markdown",
   "id": "72a68167-0d98-459f-bf2c-d996e1f03267",
   "metadata": {},
   "source": [
    "**The list() constructor converts an iterable (dictionary, tuple, string etc.) to a list and returns it.**"
   ]
  },
  {
   "cell_type": "code",
   "execution_count": 104,
   "id": "a0d27a7e-d4c4-45e4-8ce2-b6fa293a2d92",
   "metadata": {},
   "outputs": [
    {
     "name": "stdout",
     "output_type": "stream",
     "text": [
      "[2, 4]\n"
     ]
    }
   ],
   "source": [
    "num = {2:3,4:3}\n",
    "print(list(num))"
   ]
  },
  {
   "cell_type": "code",
   "execution_count": 102,
   "id": "99cb6f5e-f22e-4202-854d-6e217f7fac24",
   "metadata": {},
   "outputs": [
    {
     "name": "stdout",
     "output_type": "stream",
     "text": [
      "['a', 'e', 'i', 'o', 'u']\n"
     ]
    }
   ],
   "source": [
    "vowel_dictionary = {'a': 1, 'e': 2, 'i': 3, 'o':4, 'u':5}\n",
    "print(list(vowel_dictionary))"
   ]
  },
  {
   "cell_type": "markdown",
   "id": "9cdecf66-82dc-4f13-8fdf-f8b8c8efa54a",
   "metadata": {},
   "source": [
    "## map()"
   ]
  },
  {
   "cell_type": "markdown",
   "id": "43fda6c7-dfd5-4499-890f-4b88132a021a",
   "metadata": {},
   "source": [
    "**The map() function takes two arguments:**\n",
    "\n",
    "function - a function that is applied to each element of an iterable. \\\n",
    "iterables - iterables such as lists, tuples, etc."
   ]
  },
  {
   "cell_type": "code",
   "execution_count": 125,
   "id": "aa2418a2-5b15-4669-b014-2628892fe507",
   "metadata": {},
   "outputs": [
    {
     "name": "stdout",
     "output_type": "stream",
     "text": [
      "{1, 36, 25}\n"
     ]
    }
   ],
   "source": [
    "num = [1,5,6]\n",
    "def square(num):\n",
    "    return num*num\n",
    "x = map(square,num)\n",
    "print(set(x))"
   ]
  },
  {
   "cell_type": "markdown",
   "id": "6b237a6d-82b1-4f31-90d6-2605ec757204",
   "metadata": {},
   "source": [
    "## range()"
   ]
  },
  {
   "cell_type": "markdown",
   "id": "c7298e27-d91f-4709-80fb-8fd8c535cb81",
   "metadata": {},
   "source": [
    "**The Python range() function generates a sequence of numbers.**\n",
    "\n",
    "**By default, the sequence starts at 0, increments by 1, and stops before the specified number.**"
   ]
  },
  {
   "cell_type": "code",
   "execution_count": 142,
   "id": "1e5bb46b-5be4-4b49-b63a-e3b736100895",
   "metadata": {},
   "outputs": [
    {
     "name": "stdout",
     "output_type": "stream",
     "text": [
      "[10, 12, 14]\n",
      "[0, 1, 2]\n",
      "(2, 3, 4, 5, 6, 7, 8, 9, 10, 11, 12, 13, 14, 15, 16, 17, 18, 19, 20, 21, 22, 23, 24, 25, 26, 27, 28, 29)\n"
     ]
    }
   ],
   "source": [
    "num = range(10,15,2)\n",
    "print(list(num))\n",
    "num = range(3)\n",
    "print(list(num))\n",
    "num = range(2,30)\n",
    "print(tuple(num))\n"
   ]
  },
  {
   "cell_type": "markdown",
   "id": "728fc7d7-1342-4572-8861-0de679606eed",
   "metadata": {},
   "source": [
    "## max()"
   ]
  },
  {
   "cell_type": "markdown",
   "id": "ab42085b-8be4-4f7e-a72d-bee1f506304f",
   "metadata": {},
   "source": [
    "**Maximum value**"
   ]
  },
  {
   "cell_type": "code",
   "execution_count": 130,
   "id": "7fc2f9b5-85b6-4148-9815-2537768a34d5",
   "metadata": {},
   "outputs": [
    {
     "name": "stdout",
     "output_type": "stream",
     "text": [
      "zen\n"
     ]
    }
   ],
   "source": [
    "n = 'aardra','zen','cali'\n",
    "print(max(n))"
   ]
  },
  {
   "cell_type": "markdown",
   "id": "c38a1406-4039-4798-a4f0-b63c390f638a",
   "metadata": {},
   "source": [
    "## min()"
   ]
  },
  {
   "cell_type": "markdown",
   "id": "5e35fd21-9286-48ac-a361-373c2ca93284",
   "metadata": {},
   "source": [
    "**Minimum Value**"
   ]
  },
  {
   "cell_type": "code",
   "execution_count": 136,
   "id": "2e894679-d631-490a-b3e6-f39e9de830f2",
   "metadata": {},
   "outputs": [
    {
     "name": "stdout",
     "output_type": "stream",
     "text": [
      "-55\n"
     ]
    }
   ],
   "source": [
    "n = (1, -55 ,995 )\n",
    "print(min(n))"
   ]
  },
  {
   "cell_type": "markdown",
   "id": "5a0da4e3-333d-44a7-acc8-cb2366a795aa",
   "metadata": {},
   "source": [
    "## print()"
   ]
  },
  {
   "cell_type": "markdown",
   "id": "0af5c98a-4c33-4db3-9262-a77d4425ff80",
   "metadata": {},
   "source": [
    "**The print() function prints the given object to the standard output device (screen) or to the text stream file.**"
   ]
  },
  {
   "cell_type": "code",
   "execution_count": 148,
   "id": "67a84415-0619-45ad-90cb-d2a86a4bb240",
   "metadata": {},
   "outputs": [
    {
     "name": "stdout",
     "output_type": "stream",
     "text": [
      "Hi\n"
     ]
    }
   ],
   "source": [
    "print('Hi')"
   ]
  },
  {
   "cell_type": "markdown",
   "id": "20bafe9a-a0da-4413-9fd8-210fa7cbd1d3",
   "metadata": {},
   "source": [
    "## reversed()"
   ]
  },
  {
   "cell_type": "markdown",
   "id": "564ace89-76d6-49a5-a16a-25c47a628060",
   "metadata": {},
   "source": [
    "**The reversed() function returns an iterator object that provides access to the elements of an iterable (list, tuple, string, etc.) in reverse order.**"
   ]
  },
  {
   "cell_type": "code",
   "execution_count": 156,
   "id": "ae0faec1-4a25-4d23-9862-0a04e0defc42",
   "metadata": {},
   "outputs": [
    {
     "name": "stdout",
     "output_type": "stream",
     "text": [
      "[5, 64, 52, 88]\n"
     ]
    }
   ],
   "source": [
    "num = (88,52,64,5)\n",
    "print(list(reversed(num)))"
   ]
  },
  {
   "cell_type": "markdown",
   "id": "d15ed92a-c14a-441c-b665-07902dd50f4a",
   "metadata": {},
   "source": [
    "## round()"
   ]
  },
  {
   "cell_type": "markdown",
   "id": "cfce9e88-ea8c-482e-84a4-49cac6c6a64b",
   "metadata": {},
   "source": [
    "**The round() function rounds a number.**"
   ]
  },
  {
   "cell_type": "code",
   "execution_count": 163,
   "id": "e4b16a3c-d3e0-4edf-bb4c-29a41ef3550a",
   "metadata": {},
   "outputs": [
    {
     "name": "stdout",
     "output_type": "stream",
     "text": [
      "5\n",
      "2.557\n"
     ]
    }
   ],
   "source": [
    "print(round(5.2))\n",
    "print(round(2.55655,3))"
   ]
  },
  {
   "cell_type": "markdown",
   "id": "95bde214-684b-4ae4-8acc-de13abc2a1f8",
   "metadata": {},
   "source": [
    "## Set()"
   ]
  },
  {
   "cell_type": "markdown",
   "id": "c99aef22-4950-463e-a67d-ec0c74dc9abd",
   "metadata": {},
   "source": [
    "**The set() function creates a set in Python.**"
   ]
  },
  {
   "cell_type": "code",
   "execution_count": 169,
   "id": "027f0d99-04b7-4b12-8c8c-636ea145e29e",
   "metadata": {},
   "outputs": [
    {
     "name": "stdout",
     "output_type": "stream",
     "text": [
      "{96, 1, 5}\n"
     ]
    }
   ],
   "source": [
    "n = (1,5,96,5,5,5)\n",
    "print(set(n))"
   ]
  },
  {
   "cell_type": "code",
   "execution_count": 171,
   "id": "93147717-aec6-4bf2-945e-9debc95d18cd",
   "metadata": {},
   "outputs": [
    {
     "name": "stdout",
     "output_type": "stream",
     "text": [
      "set()\n",
      "{'o', 't', 'P', 'n', 'h', 'y'}\n",
      "{'o', 'e', 'a', 'u', 'i'}\n",
      "{'o', 'e', 'a', 'u', 'i'}\n",
      "{0, 1, 2, 3, 4}\n"
     ]
    }
   ],
   "source": [
    "print(set())\n",
    "\n",
    "print(set('Python'))\n",
    "\n",
    "print(set(('a', 'e', 'i', 'o', 'u')))\n",
    "\n",
    "print(set(['a', 'e', 'i', 'o', 'u']))\n",
    "\n",
    "print(set(range(5)))"
   ]
  },
  {
   "cell_type": "markdown",
   "id": "da514267-76bd-4132-9fdd-5d9477643017",
   "metadata": {},
   "source": [
    "## Sorted()"
   ]
  },
  {
   "cell_type": "markdown",
   "id": "b7b35374-d2ad-4fdf-ba19-affae9200f0e",
   "metadata": {},
   "source": [
    "**The sorted() method sorts the elements of the given iterable in ascending order and returns it.**"
   ]
  },
  {
   "cell_type": "code",
   "execution_count": 176,
   "id": "92902eaf-5b23-42ff-9780-e6b4745da388",
   "metadata": {},
   "outputs": [
    {
     "name": "stdout",
     "output_type": "stream",
     "text": [
      "[2, 5, 5, 5, 5, 5, 6, 65]\n"
     ]
    }
   ],
   "source": [
    "num = [5,5,6,2,5,5,65,5]\n",
    "print(sorted(num))"
   ]
  },
  {
   "cell_type": "markdown",
   "id": "6a9fec8c-8c48-4de7-a70b-ed4c6bfaef27",
   "metadata": {},
   "source": [
    "## Sort in Descending Order"
   ]
  },
  {
   "cell_type": "code",
   "execution_count": 183,
   "id": "f80c9299-5dd5-4971-9118-ac7526ec1982",
   "metadata": {},
   "outputs": [
    {
     "name": "stdout",
     "output_type": "stream",
     "text": [
      "[65, 6, 5, 5, 5, 5, 5, 2]\n"
     ]
    }
   ],
   "source": [
    "num = [5,5,6,2,5,5,65,5]\n",
    "print(sorted(num,reverse=True))"
   ]
  },
  {
   "cell_type": "markdown",
   "id": "1c6742fc-30c6-4b5d-b5ee-1677930b2e3c",
   "metadata": {},
   "source": [
    "## Sorting With the Key Function"
   ]
  },
  {
   "cell_type": "code",
   "execution_count": 196,
   "id": "9313ec75-ee0d-4b54-9f8c-dba4a288e7f9",
   "metadata": {},
   "outputs": [
    {
     "name": "stdout",
     "output_type": "stream",
     "text": [
      "['apple', 'orange', 'cherry']\n"
     ]
    }
   ],
   "source": [
    "fruit = ('apple', 'orange', 'cherry')\n",
    "sorted_fruit = sorted(fruit, key=len)\n",
    "print(sorted_fruit)"
   ]
  },
  {
   "cell_type": "markdown",
   "id": "d9c2289a-e348-48e4-8983-6c562c9c35d4",
   "metadata": {},
   "source": [
    "## str()"
   ]
  },
  {
   "cell_type": "markdown",
   "id": "2d4df858-5f67-4b01-a03f-51c0c67d8a8a",
   "metadata": {},
   "source": [
    "**The str() method returns the string representation of a given object.**"
   ]
  },
  {
   "cell_type": "code",
   "execution_count": 204,
   "id": "ee697dcb-8e10-4048-9287-428dad885783",
   "metadata": {},
   "outputs": [
    {
     "ename": "TypeError",
     "evalue": "'str' object is not callable",
     "output_type": "error",
     "traceback": [
      "\u001b[1;31m---------------------------------------------------------------------------\u001b[0m",
      "\u001b[1;31mTypeError\u001b[0m                                 Traceback (most recent call last)",
      "Cell \u001b[1;32mIn[204], line 1\u001b[0m\n\u001b[1;32m----> 1\u001b[0m \u001b[38;5;28mprint\u001b[39m(\u001b[38;5;28mstr\u001b[39m(\u001b[38;5;124m'\u001b[39m\u001b[38;5;124madam\u001b[39m\u001b[38;5;124m'\u001b[39m))\n",
      "\u001b[1;31mTypeError\u001b[0m: 'str' object is not callable"
     ]
    }
   ],
   "source": [
    "print(str('adam'))"
   ]
  },
  {
   "cell_type": "markdown",
   "id": "9099793b-8959-4db2-83b1-50ca836f073c",
   "metadata": {},
   "source": [
    "## sum()"
   ]
  },
  {
   "cell_type": "markdown",
   "id": "ee38eabd-2b59-47f7-912f-361b62d66c9f",
   "metadata": {},
   "source": [
    "**The sum() function adds the items of an iterable and returns the sum.**"
   ]
  },
  {
   "cell_type": "code",
   "execution_count": 207,
   "id": "cc32cbe0-499a-47b1-9c54-44a2cf9c1933",
   "metadata": {},
   "outputs": [
    {
     "name": "stdout",
     "output_type": "stream",
     "text": [
      "23\n"
     ]
    }
   ],
   "source": [
    "n = [1,5,5,2,5,5]\n",
    "total = sum(n)\n",
    "print(total)"
   ]
  },
  {
   "cell_type": "markdown",
   "id": "0df751b8-0369-4312-b288-e5f1915756ff",
   "metadata": {},
   "source": [
    "## type()"
   ]
  },
  {
   "cell_type": "markdown",
   "id": "56fffe46-1fef-45c2-9ed9-2f0e5682ad3c",
   "metadata": {},
   "source": [
    "**The type() function either returns the type of the object or returns a new type object based on the arguments passed.**"
   ]
  },
  {
   "cell_type": "code",
   "execution_count": 216,
   "id": "cd34a7f3-16f6-4fdf-9ac6-f4b0a88d639f",
   "metadata": {},
   "outputs": [
    {
     "name": "stdout",
     "output_type": "stream",
     "text": [
      "<class 'tuple'>\n"
     ]
    }
   ],
   "source": [
    "n = 4,6\n",
    "print(type(n))"
   ]
  },
  {
   "cell_type": "code",
   "execution_count": null,
   "id": "6dca4f32-cef2-4ff9-b5b5-19add43867d2",
   "metadata": {},
   "outputs": [],
   "source": []
  }
 ],
 "metadata": {
  "kernelspec": {
   "display_name": "Python 3 (ipykernel)",
   "language": "python",
   "name": "python3"
  },
  "language_info": {
   "codemirror_mode": {
    "name": "ipython",
    "version": 3
   },
   "file_extension": ".py",
   "mimetype": "text/x-python",
   "name": "python",
   "nbconvert_exporter": "python",
   "pygments_lexer": "ipython3",
   "version": "3.12.4"
  }
 },
 "nbformat": 4,
 "nbformat_minor": 5
}
