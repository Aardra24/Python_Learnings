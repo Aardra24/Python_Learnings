{
 "cells": [
  {
   "cell_type": "markdown",
   "id": "a871f85b-7449-4e29-af80-1025445925a1",
   "metadata": {},
   "source": [
    "## Python CSV: Read and Write CSV Files"
   ]
  },
  {
   "cell_type": "markdown",
   "id": "05a05e07-6576-467e-a16b-27ed20c2eb5d",
   "metadata": {},
   "source": [
    "**The CSV (Comma Separated Values) format is a common and straightforward way to store tabular data. To represent a CSV file, it should have the .csv file extension.**"
   ]
  },
  {
   "cell_type": "markdown",
   "id": "59d8311d-c41d-4f4b-aa6b-bc1aacb9bca1",
   "metadata": {},
   "source": [
    "## Read a CSV Files\n",
    "\n",
    "To write to a CSV file, we need to use the to_csv() function of a DataFrame.\n"
   ]
  },
  {
   "cell_type": "code",
   "execution_count": 4,
   "id": "80584f42-d0f5-4f5c-9ac7-a3fee4627f8d",
   "metadata": {},
   "outputs": [
    {
     "name": "stdout",
     "output_type": "stream",
     "text": [
      "['', 'Name', 'Age']\n",
      "['0', 'Jack', '24']\n",
      "['1', 'Rose', '22']\n"
     ]
    }
   ],
   "source": [
    "import csv\n",
    "\n",
    "with open('person.csv', 'r') as file:\n",
    "       reader = csv.reader(file)\n",
    "       for row in reader:\n",
    "           print(row)"
   ]
  },
  {
   "cell_type": "markdown",
   "id": "b385f6a8-725e-4572-8068-ca7513ba1c26",
   "metadata": {},
   "source": [
    "   - `open('people.csv', 'r')` opens the file for reading.\n",
    "   - `csv.reader(file)` reads the file as rows of data.\n",
    "   - `for row in reader:` loops through each row and prints it.\n"
   ]
  },
  {
   "cell_type": "markdown",
   "id": "6250183d-07a3-4852-87b3-1744fc843405",
   "metadata": {},
   "source": [
    "## Write a CSV File"
   ]
  },
  {
   "cell_type": "code",
   "execution_count": 7,
   "id": "28ed5629-790d-47dd-939b-95c3477717aa",
   "metadata": {},
   "outputs": [],
   "source": [
    "import csv\n",
    "with open('protagonist.csv', 'w', newline='') as file:\n",
    "    writer = csv.writer(file)\n",
    "    writer.writerow([\"SN\", \"Movie\", \"Protagonist\"])\n",
    "    writer.writerow([1, \"Lord of the Rings\", \"Frodo Baggins\"])\n",
    "    writer.writerow([2, \"Harry Potter\", \"Harry Potter\"])"
   ]
  },
  {
   "cell_type": "markdown",
   "id": "00b98961-0b5a-4756-a938-b841c41693b5",
   "metadata": {},
   "source": [
    "\n",
    "   - `open('protagonist.csv', 'w', newline='')` opens the file for writing.\n",
    "   - `csv.writer(file)` creates a writer object to write to the file.\n",
    "   - `writer.writerow(...)` writes each row to the file."
   ]
  },
  {
   "cell_type": "code",
   "execution_count": 9,
   "id": "c61798db-82cc-4d05-989d-24ed446435df",
   "metadata": {},
   "outputs": [
    {
     "name": "stdout",
     "output_type": "stream",
     "text": [
      "['SN', 'Movie', 'Protagonist']\n",
      "['1', 'Lord of the Rings', 'Frodo Baggins']\n",
      "['2', 'Harry Potter', 'Harry Potter']\n"
     ]
    }
   ],
   "source": [
    "import csv\n",
    "\n",
    "with open('protagonist.csv', 'r') as file:\n",
    "       reader = csv.reader(file)\n",
    "       for row in reader:\n",
    "           print(row)"
   ]
  },
  {
   "cell_type": "markdown",
   "id": "6de79e48-22cc-4e2e-b407-3cf885e647c6",
   "metadata": {},
   "source": [
    "# Using Pandas"
   ]
  },
  {
   "cell_type": "markdown",
   "id": "ce353355-75bd-4a32-92da-2948a944ea2f",
   "metadata": {},
   "source": [
    "Pandas is a popular data science library in Python for data manipulation and analysis.\n",
    "\n",
    "If we are working with huge chunks of data, it's better to use pandas to handle CSV files for ease and efficiency.\n",
    "\n",
    "**Note:** Before we can use pandas, we need to install and import it. To learn more, visit Install and Import Pandas."
   ]
  },
  {
   "cell_type": "code",
   "execution_count": 12,
   "id": "50490c44-6e6d-40da-9681-18fbb9c57865",
   "metadata": {},
   "outputs": [
    {
     "name": "stdout",
     "output_type": "stream",
     "text": [
      "Requirement already satisfied: pandas in c:\\users\\aardr\\anaconda3\\lib\\site-packages (2.2.2)\n",
      "Requirement already satisfied: numpy>=1.26.0 in c:\\users\\aardr\\anaconda3\\lib\\site-packages (from pandas) (1.26.4)\n",
      "Requirement already satisfied: python-dateutil>=2.8.2 in c:\\users\\aardr\\anaconda3\\lib\\site-packages (from pandas) (2.9.0.post0)\n",
      "Requirement already satisfied: pytz>=2020.1 in c:\\users\\aardr\\anaconda3\\lib\\site-packages (from pandas) (2024.1)\n",
      "Requirement already satisfied: tzdata>=2022.7 in c:\\users\\aardr\\anaconda3\\lib\\site-packages (from pandas) (2023.3)\n",
      "Requirement already satisfied: six>=1.5 in c:\\users\\aardr\\anaconda3\\lib\\site-packages (from python-dateutil>=2.8.2->pandas) (1.16.0)\n",
      "Note: you may need to restart the kernel to use updated packages.\n"
     ]
    }
   ],
   "source": [
    "pip install pandas"
   ]
  },
  {
   "cell_type": "markdown",
   "id": "ed9f7633-92da-4eb1-b3ce-f1b1f2803ec1",
   "metadata": {},
   "source": [
    "## Read a CSV file with Pandas"
   ]
  },
  {
   "cell_type": "code",
   "execution_count": 14,
   "id": "b3804336-e341-4695-83ff-91b541066faf",
   "metadata": {},
   "outputs": [
    {
     "name": "stdout",
     "output_type": "stream",
     "text": [
      "   Unnamed: 0  Name  Age\n",
      "0           0  Jack   24\n",
      "1           1  Rose   22\n"
     ]
    }
   ],
   "source": [
    "import pandas as pd\n",
    "\n",
    "df = pd.read_csv('person.csv')\n",
    "\n",
    "print(df)\n"
   ]
  },
  {
   "cell_type": "markdown",
   "id": "e5757077-c231-49df-af7a-c4d9efe9891f",
   "metadata": {},
   "source": [
    "\n",
    "   - `pd.read_csv('people.csv')` reads the file and stores it in a DataFrame called `df`.\n",
    "   - `print(df)` shows the DataFrame."
   ]
  },
  {
   "cell_type": "markdown",
   "id": "b1e41308-60de-4581-9db6-aebeee852845",
   "metadata": {},
   "source": [
    "## Write to a CSV Files\n",
    "\n",
    "To write to a CSV file, we need to use the to_csv() function of a DataFrame.\n",
    "\n"
   ]
  },
  {
   "cell_type": "code",
   "execution_count": 17,
   "id": "cb6f99d5-aaf9-4bbb-9a41-ec145e919a69",
   "metadata": {},
   "outputs": [],
   "source": [
    "import pandas as pd\n",
    "\n",
    "df = pd.DataFrame([['Jack', 24], ['Rose', 22]], columns = ['Name', 'Age'])\n",
    "\n",
    "df.to_csv('people.csv')"
   ]
  },
  {
   "cell_type": "markdown",
   "id": "9c720746-afca-475f-a544-ed52d108d88a",
   "metadata": {},
   "source": [
    " - `pd.DataFrame(...)` creates a DataFrame from the data.\n",
    " - `df.to_csv('person.csv', index=False)` writes the DataFrame to `person.csv` without including row indices.\n"
   ]
  },
  {
   "cell_type": "code",
   "execution_count": 19,
   "id": "d7cc990e-5376-4f61-b042-53972431c6cf",
   "metadata": {},
   "outputs": [
    {
     "data": {
      "text/html": [
       "<div>\n",
       "<style scoped>\n",
       "    .dataframe tbody tr th:only-of-type {\n",
       "        vertical-align: middle;\n",
       "    }\n",
       "\n",
       "    .dataframe tbody tr th {\n",
       "        vertical-align: top;\n",
       "    }\n",
       "\n",
       "    .dataframe thead th {\n",
       "        text-align: right;\n",
       "    }\n",
       "</style>\n",
       "<table border=\"1\" class=\"dataframe\">\n",
       "  <thead>\n",
       "    <tr style=\"text-align: right;\">\n",
       "      <th></th>\n",
       "      <th>Unnamed: 0</th>\n",
       "      <th>Name</th>\n",
       "      <th>Age</th>\n",
       "    </tr>\n",
       "  </thead>\n",
       "  <tbody>\n",
       "    <tr>\n",
       "      <th>0</th>\n",
       "      <td>0</td>\n",
       "      <td>Jack</td>\n",
       "      <td>24</td>\n",
       "    </tr>\n",
       "    <tr>\n",
       "      <th>1</th>\n",
       "      <td>1</td>\n",
       "      <td>Rose</td>\n",
       "      <td>22</td>\n",
       "    </tr>\n",
       "  </tbody>\n",
       "</table>\n",
       "</div>"
      ],
      "text/plain": [
       "   Unnamed: 0  Name  Age\n",
       "0           0  Jack   24\n",
       "1           1  Rose   22"
      ]
     },
     "execution_count": 19,
     "metadata": {},
     "output_type": "execute_result"
    }
   ],
   "source": [
    "pd.read_csv(\"people.csv\")"
   ]
  },
  {
   "cell_type": "code",
   "execution_count": 20,
   "id": "da63ce64-a4f1-4214-b74e-b5b32ce03c6c",
   "metadata": {},
   "outputs": [
    {
     "name": "stdout",
     "output_type": "stream",
     "text": [
      "Requirement already satisfied: xlrd in c:\\users\\aardr\\anaconda3\\lib\\site-packages (2.0.1)\n",
      "Note: you may need to restart the kernel to use updated packages.\n"
     ]
    }
   ],
   "source": [
    "pip install xlrd"
   ]
  },
  {
   "cell_type": "code",
   "execution_count": 29,
   "id": "f71bc1c4-e2ee-4575-a7ae-c95d113fb238",
   "metadata": {},
   "outputs": [
    {
     "ename": "FileNotFoundError",
     "evalue": "[Errno 2] No such file or directory: 'Sample_Vessel_Data_1.xlsx'",
     "output_type": "error",
     "traceback": [
      "\u001b[1;31m---------------------------------------------------------------------------\u001b[0m",
      "\u001b[1;31mFileNotFoundError\u001b[0m                         Traceback (most recent call last)",
      "Cell \u001b[1;32mIn[29], line 2\u001b[0m\n\u001b[0;32m      1\u001b[0m \u001b[38;5;28;01mimport\u001b[39;00m \u001b[38;5;21;01mpandas\u001b[39;00m \u001b[38;5;28;01mas\u001b[39;00m \u001b[38;5;21;01mpd\u001b[39;00m\n\u001b[1;32m----> 2\u001b[0m dataframe \u001b[38;5;241m=\u001b[39m pd\u001b[38;5;241m.\u001b[39mread_excel(\u001b[38;5;124m'\u001b[39m\u001b[38;5;124mSample_Vessel_Data_1.xlsx\u001b[39m\u001b[38;5;124m'\u001b[39m)\n",
      "File \u001b[1;32m~\\anaconda3\\Lib\\site-packages\\pandas\\io\\excel\\_base.py:495\u001b[0m, in \u001b[0;36mread_excel\u001b[1;34m(io, sheet_name, header, names, index_col, usecols, dtype, engine, converters, true_values, false_values, skiprows, nrows, na_values, keep_default_na, na_filter, verbose, parse_dates, date_parser, date_format, thousands, decimal, comment, skipfooter, storage_options, dtype_backend, engine_kwargs)\u001b[0m\n\u001b[0;32m    493\u001b[0m \u001b[38;5;28;01mif\u001b[39;00m \u001b[38;5;129;01mnot\u001b[39;00m \u001b[38;5;28misinstance\u001b[39m(io, ExcelFile):\n\u001b[0;32m    494\u001b[0m     should_close \u001b[38;5;241m=\u001b[39m \u001b[38;5;28;01mTrue\u001b[39;00m\n\u001b[1;32m--> 495\u001b[0m     io \u001b[38;5;241m=\u001b[39m ExcelFile(\n\u001b[0;32m    496\u001b[0m         io,\n\u001b[0;32m    497\u001b[0m         storage_options\u001b[38;5;241m=\u001b[39mstorage_options,\n\u001b[0;32m    498\u001b[0m         engine\u001b[38;5;241m=\u001b[39mengine,\n\u001b[0;32m    499\u001b[0m         engine_kwargs\u001b[38;5;241m=\u001b[39mengine_kwargs,\n\u001b[0;32m    500\u001b[0m     )\n\u001b[0;32m    501\u001b[0m \u001b[38;5;28;01melif\u001b[39;00m engine \u001b[38;5;129;01mand\u001b[39;00m engine \u001b[38;5;241m!=\u001b[39m io\u001b[38;5;241m.\u001b[39mengine:\n\u001b[0;32m    502\u001b[0m     \u001b[38;5;28;01mraise\u001b[39;00m \u001b[38;5;167;01mValueError\u001b[39;00m(\n\u001b[0;32m    503\u001b[0m         \u001b[38;5;124m\"\u001b[39m\u001b[38;5;124mEngine should not be specified when passing \u001b[39m\u001b[38;5;124m\"\u001b[39m\n\u001b[0;32m    504\u001b[0m         \u001b[38;5;124m\"\u001b[39m\u001b[38;5;124man ExcelFile - ExcelFile already has the engine set\u001b[39m\u001b[38;5;124m\"\u001b[39m\n\u001b[0;32m    505\u001b[0m     )\n",
      "File \u001b[1;32m~\\anaconda3\\Lib\\site-packages\\pandas\\io\\excel\\_base.py:1550\u001b[0m, in \u001b[0;36mExcelFile.__init__\u001b[1;34m(self, path_or_buffer, engine, storage_options, engine_kwargs)\u001b[0m\n\u001b[0;32m   1548\u001b[0m     ext \u001b[38;5;241m=\u001b[39m \u001b[38;5;124m\"\u001b[39m\u001b[38;5;124mxls\u001b[39m\u001b[38;5;124m\"\u001b[39m\n\u001b[0;32m   1549\u001b[0m \u001b[38;5;28;01melse\u001b[39;00m:\n\u001b[1;32m-> 1550\u001b[0m     ext \u001b[38;5;241m=\u001b[39m inspect_excel_format(\n\u001b[0;32m   1551\u001b[0m         content_or_path\u001b[38;5;241m=\u001b[39mpath_or_buffer, storage_options\u001b[38;5;241m=\u001b[39mstorage_options\n\u001b[0;32m   1552\u001b[0m     )\n\u001b[0;32m   1553\u001b[0m     \u001b[38;5;28;01mif\u001b[39;00m ext \u001b[38;5;129;01mis\u001b[39;00m \u001b[38;5;28;01mNone\u001b[39;00m:\n\u001b[0;32m   1554\u001b[0m         \u001b[38;5;28;01mraise\u001b[39;00m \u001b[38;5;167;01mValueError\u001b[39;00m(\n\u001b[0;32m   1555\u001b[0m             \u001b[38;5;124m\"\u001b[39m\u001b[38;5;124mExcel file format cannot be determined, you must specify \u001b[39m\u001b[38;5;124m\"\u001b[39m\n\u001b[0;32m   1556\u001b[0m             \u001b[38;5;124m\"\u001b[39m\u001b[38;5;124man engine manually.\u001b[39m\u001b[38;5;124m\"\u001b[39m\n\u001b[0;32m   1557\u001b[0m         )\n",
      "File \u001b[1;32m~\\anaconda3\\Lib\\site-packages\\pandas\\io\\excel\\_base.py:1402\u001b[0m, in \u001b[0;36minspect_excel_format\u001b[1;34m(content_or_path, storage_options)\u001b[0m\n\u001b[0;32m   1399\u001b[0m \u001b[38;5;28;01mif\u001b[39;00m \u001b[38;5;28misinstance\u001b[39m(content_or_path, \u001b[38;5;28mbytes\u001b[39m):\n\u001b[0;32m   1400\u001b[0m     content_or_path \u001b[38;5;241m=\u001b[39m BytesIO(content_or_path)\n\u001b[1;32m-> 1402\u001b[0m \u001b[38;5;28;01mwith\u001b[39;00m get_handle(\n\u001b[0;32m   1403\u001b[0m     content_or_path, \u001b[38;5;124m\"\u001b[39m\u001b[38;5;124mrb\u001b[39m\u001b[38;5;124m\"\u001b[39m, storage_options\u001b[38;5;241m=\u001b[39mstorage_options, is_text\u001b[38;5;241m=\u001b[39m\u001b[38;5;28;01mFalse\u001b[39;00m\n\u001b[0;32m   1404\u001b[0m ) \u001b[38;5;28;01mas\u001b[39;00m handle:\n\u001b[0;32m   1405\u001b[0m     stream \u001b[38;5;241m=\u001b[39m handle\u001b[38;5;241m.\u001b[39mhandle\n\u001b[0;32m   1406\u001b[0m     stream\u001b[38;5;241m.\u001b[39mseek(\u001b[38;5;241m0\u001b[39m)\n",
      "File \u001b[1;32m~\\anaconda3\\Lib\\site-packages\\pandas\\io\\common.py:882\u001b[0m, in \u001b[0;36mget_handle\u001b[1;34m(path_or_buf, mode, encoding, compression, memory_map, is_text, errors, storage_options)\u001b[0m\n\u001b[0;32m    873\u001b[0m         handle \u001b[38;5;241m=\u001b[39m \u001b[38;5;28mopen\u001b[39m(\n\u001b[0;32m    874\u001b[0m             handle,\n\u001b[0;32m    875\u001b[0m             ioargs\u001b[38;5;241m.\u001b[39mmode,\n\u001b[1;32m   (...)\u001b[0m\n\u001b[0;32m    878\u001b[0m             newline\u001b[38;5;241m=\u001b[39m\u001b[38;5;124m\"\u001b[39m\u001b[38;5;124m\"\u001b[39m,\n\u001b[0;32m    879\u001b[0m         )\n\u001b[0;32m    880\u001b[0m     \u001b[38;5;28;01melse\u001b[39;00m:\n\u001b[0;32m    881\u001b[0m         \u001b[38;5;66;03m# Binary mode\u001b[39;00m\n\u001b[1;32m--> 882\u001b[0m         handle \u001b[38;5;241m=\u001b[39m \u001b[38;5;28mopen\u001b[39m(handle, ioargs\u001b[38;5;241m.\u001b[39mmode)\n\u001b[0;32m    883\u001b[0m     handles\u001b[38;5;241m.\u001b[39mappend(handle)\n\u001b[0;32m    885\u001b[0m \u001b[38;5;66;03m# Convert BytesIO or file objects passed with an encoding\u001b[39;00m\n",
      "\u001b[1;31mFileNotFoundError\u001b[0m: [Errno 2] No such file or directory: 'Sample_Vessel_Data_1.xlsx'"
     ]
    }
   ],
   "source": [
    "import pandas as pd\n",
    "dataframe = pd.read_excel('Sample_Vessel_Data_1.xlsx')"
   ]
  },
  {
   "cell_type": "code",
   "execution_count": null,
   "id": "1f53a056-eaf3-4ae5-8f05-0d658122e955",
   "metadata": {},
   "outputs": [],
   "source": []
  }
 ],
 "metadata": {
  "kernelspec": {
   "display_name": "Python 3 (ipykernel)",
   "language": "python",
   "name": "python3"
  },
  "language_info": {
   "codemirror_mode": {
    "name": "ipython",
    "version": 3
   },
   "file_extension": ".py",
   "mimetype": "text/x-python",
   "name": "python",
   "nbconvert_exporter": "python",
   "pygments_lexer": "ipython3",
   "version": "3.12.4"
  }
 },
 "nbformat": 4,
 "nbformat_minor": 5
}
