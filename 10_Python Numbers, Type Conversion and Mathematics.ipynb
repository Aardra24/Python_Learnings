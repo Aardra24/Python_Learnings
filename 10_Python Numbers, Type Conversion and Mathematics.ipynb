{
 "cells": [
  {
   "cell_type": "markdown",
   "id": "616ab211-6c2c-40fb-9b01-5115c44def60",
   "metadata": {},
   "source": [
    "The number data types are used to store the numeric values.\n",
    "\n",
    "Python supports integers, floating-point numbers and complex numbers. They are defined as int, float, and complex classes in Python.\n",
    "\n",
    "1. **int -** holds signed integers of non-limited length.\n",
    "2. **float -** holds floating decimal points and it's accurate up to 15 decimal places.\n",
    "3. **complex -** holds complex numbers.\n",
    "\r\n"
   ]
  },
  {
   "cell_type": "code",
   "execution_count": 9,
   "id": "b9216e37-0392-463a-a1b0-4467f36daf12",
   "metadata": {},
   "outputs": [
    {
     "name": "stdout",
     "output_type": "stream",
     "text": [
      "<class 'int'>\n",
      "<class 'float'>\n",
      "<class 'complex'>\n"
     ]
    }
   ],
   "source": [
    "num = 5\n",
    "print(type(num))\n",
    "num = 11.11\n",
    "print(type(num))\n",
    "num = 11j + 5\n",
    "print(type(num))"
   ]
  },
  {
   "cell_type": "markdown",
   "id": "1d6e3028-8a24-4179-909c-13ced12c4382",
   "metadata": {},
   "source": [
    "## Number Systems"
   ]
  },
  {
   "cell_type": "code",
   "execution_count": 24,
   "id": "40085386-5585-462e-8c10-fd6b6529c2da",
   "metadata": {},
   "outputs": [
    {
     "name": "stdout",
     "output_type": "stream",
     "text": [
      "86\n"
     ]
    }
   ],
   "source": [
    "print(0x56)"
   ]
  },
  {
   "cell_type": "markdown",
   "id": "cadfbf57-2eb3-4d3e-a85a-d9cc3e043937",
   "metadata": {},
   "source": [
    "**Hexadecimal\t0x or 0X**\n",
    "- **can use any numericalsafter(0X)**"
   ]
  },
  {
   "cell_type": "code",
   "execution_count": 28,
   "id": "1e3f0e90-b4e4-44aa-b35c-63203c108c23",
   "metadata": {},
   "outputs": [
    {
     "name": "stdout",
     "output_type": "stream",
     "text": [
      "93\n"
     ]
    }
   ],
   "source": [
    "print(0o135)"
   ]
  },
  {
   "cell_type": "markdown",
   "id": "be282a8e-887f-4f65-a33a-796288f1dabd",
   "metadata": {},
   "source": [
    "**Octal\t0o or 0O**\n",
    "- **can use any numerals as well as alphabets**"
   ]
  },
  {
   "cell_type": "code",
   "execution_count": 34,
   "id": "96df0636-6a17-48b0-b8ce-f48a06194060",
   "metadata": {},
   "outputs": [
    {
     "name": "stdout",
     "output_type": "stream",
     "text": [
      "20\n"
     ]
    }
   ],
   "source": [
    "print(0b10100)"
   ]
  },
  {
   "cell_type": "markdown",
   "id": "b4eec7cf-08d1-4ed6-ab23-8cacdd09117d",
   "metadata": {},
   "source": [
    "**Binary\t0b or 0B**\n",
    "- **can use only 0/1**"
   ]
  },
  {
   "cell_type": "markdown",
   "id": "997a2e9f-8bbf-427b-a549-f2e699eb330a",
   "metadata": {},
   "source": [
    "## Type Conversion in Python"
   ]
  },
  {
   "cell_type": "markdown",
   "id": "3f0e7b35-7f53-40ee-a9af-90d58ba184d9",
   "metadata": {},
   "source": [
    "Operations like addition, subtraction convert integers to float implicitly (automatically), if one of the operands is float."
   ]
  },
  {
   "cell_type": "code",
   "execution_count": 47,
   "id": "7844c3d3-1bd8-459c-a2f9-cbba2fcfe526",
   "metadata": {},
   "outputs": [
    {
     "name": "stdout",
     "output_type": "stream",
     "text": [
      "2.2\n"
     ]
    }
   ],
   "source": [
    "print(1+1.2)"
   ]
  },
  {
   "cell_type": "markdown",
   "id": "81eac024-ba6d-43b9-9a09-f09efd2bbd59",
   "metadata": {},
   "source": [
    "**Explicit Type Conversion** \\\r\n",
    "We can also use built-in functions like int(), float() and complex() to convert between types explicitly. These functions can even convert from strings."
   ]
  },
  {
   "cell_type": "code",
   "execution_count": 59,
   "id": "50bec7d8-1498-46fe-b7d2-fad429585880",
   "metadata": {},
   "outputs": [
    {
     "name": "stdout",
     "output_type": "stream",
     "text": [
      "5\n",
      "5.0\n",
      "5\n",
      "5\n",
      "(5+11j)\n"
     ]
    }
   ],
   "source": [
    "num = int('5')\n",
    "print(num)\n",
    "num = float(5.0)\n",
    "print(num)\n",
    "num = int(5.0)\n",
    "print(num)\n",
    "num = str(5)\n",
    "print(num)\n",
    "num =complex (5+11j)\n",
    "print(num)"
   ]
  },
  {
   "cell_type": "markdown",
   "id": "70ffb94c-32cd-4b0e-a078-cee8eac190e1",
   "metadata": {},
   "source": [
    "## Python Random Module"
   ]
  },
  {
   "cell_type": "markdown",
   "id": "26e492b8-207b-417d-8b2f-958b047efc20",
   "metadata": {},
   "source": [
    "Python offers the **random** module to generate random numbers or to pick a random item from an iterator."
   ]
  },
  {
   "cell_type": "code",
   "execution_count": 93,
   "id": "e1bd1b47-64b6-4488-a510-96546d1b80d8",
   "metadata": {},
   "outputs": [
    {
     "name": "stdout",
     "output_type": "stream",
     "text": [
      "19\n",
      "d\n",
      "['b', 'c', 'a', 'w', 'd']\n",
      "0.3913917200471664\n",
      "46\n"
     ]
    }
   ],
   "source": [
    "import random\n",
    "print(random.randrange(10,30))\n",
    "list1 = ['a','b','c','d','w']\n",
    "print(random.choice(list1))\n",
    "random.shuffle(list1)\n",
    "print(list1)\n",
    "print(random.random())"
   ]
  },
  {
   "cell_type": "markdown",
   "id": "787ec4a4-d94e-4bda-ab67-6640bd20749a",
   "metadata": {},
   "source": [
    "## Python Mathematics"
   ]
  },
  {
   "cell_type": "markdown",
   "id": "48eb8a6d-8ee2-4d9c-96f4-5a7dcb8936be",
   "metadata": {},
   "source": []
  }
 ],
 "metadata": {
  "kernelspec": {
   "display_name": "Python 3 (ipykernel)",
   "language": "python",
   "name": "python3"
  },
  "language_info": {
   "codemirror_mode": {
    "name": "ipython",
    "version": 3
   },
   "file_extension": ".py",
   "mimetype": "text/x-python",
   "name": "python",
   "nbconvert_exporter": "python",
   "pygments_lexer": "ipython3",
   "version": "3.12.4"
  }
 },
 "nbformat": 4,
 "nbformat_minor": 5
}
