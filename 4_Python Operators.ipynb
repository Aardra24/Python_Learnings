{
 "cells": [
  {
   "cell_type": "markdown",
   "id": "3d5b7660-201f-4c76-af4f-c809af0b3582",
   "metadata": {},
   "source": [
    "### Types of Python Operators\n",
    "\r",
    "1. Arithmetic Operators\r",
    "2. Assignment Operators\n",
    "3. Comparison Operators\r",
    "4. Logical Operators\n",
    "5. Bitwise Operators\n",
    "6. \n",
    "Special Operators"
   ]
  },
  {
   "cell_type": "markdown",
   "id": "7d8ada55-536a-483d-8d8c-f733d5308508",
   "metadata": {},
   "source": [
    "### Arithmetic Operators in Python"
   ]
  },
  {
   "cell_type": "code",
   "execution_count": 17,
   "id": "2ad12076-7dde-46e6-b9c9-4b49d37de7e0",
   "metadata": {},
   "outputs": [
    {
     "name": "stdout",
     "output_type": "stream",
     "text": [
      "Sum: 16\n",
      "subtract: -6\n",
      "multiplication: 55\n",
      "Division 0.45454545454545453\n",
      "modulus 5\n",
      "floor division 0\n",
      "power of y to x is: 161051\n"
     ]
    }
   ],
   "source": [
    "x = 5\n",
    "y = 11\n",
    "\n",
    "#Addition\n",
    "print(\"Sum:\" , x+y)\n",
    "\n",
    "#subtraction\n",
    "print(\"subtract:\", x-y)\n",
    "\n",
    "#multiplication\n",
    "print(\"multiplication:\", x*y)\n",
    "\n",
    "#divison\n",
    "print(\"Division\", x/y)\n",
    "\n",
    "#modulus\n",
    "print(\"modulus\", x%y)\n",
    "\n",
    "#floor division\n",
    "print(\"floor division\", x//y)\n",
    "\n",
    "#power\n",
    "print(\"power of y to x is:\", y**x)"
   ]
  },
  {
   "cell_type": "markdown",
   "id": "3c912577-7b73-4ea7-b5a4-ffd63f6684e6",
   "metadata": {},
   "source": [
    "### Assignment Operators"
   ]
  },
  {
   "cell_type": "code",
   "execution_count": 20,
   "id": "50f53edf-01d5-4fdf-95f9-b5da7f063ba5",
   "metadata": {},
   "outputs": [
    {
     "name": "stdout",
     "output_type": "stream",
     "text": [
      "15\n"
     ]
    }
   ],
   "source": [
    "a = 10\n",
    "b = 5\n",
    "a +=b               #a =a + b\n",
    "print(a)\n"
   ]
  },
  {
   "cell_type": "raw",
   "id": "25906cb7-97c1-4f3c-b768-cf0622f586b0",
   "metadata": {},
   "source": [
    "Here, we have used the += operator to assign the sum of a and b to a."
   ]
  },
  {
   "cell_type": "markdown",
   "id": "1765c793-1380-4d62-9914-7312d2eee361",
   "metadata": {},
   "source": [
    "### Python Comparison Operators"
   ]
  },
  {
   "cell_type": "raw",
   "id": "77e4e086-fdf3-437e-bd05-adb5519a4708",
   "metadata": {},
   "source": [
    "Comparison operators compare two values/variables and return a boolean result: True or False"
   ]
  },
  {
   "cell_type": "code",
   "execution_count": 24,
   "id": "94359602-9bba-43cf-b7b5-090da9c00efc",
   "metadata": {},
   "outputs": [
    {
     "name": "stdout",
     "output_type": "stream",
     "text": [
      "True\n"
     ]
    }
   ],
   "source": [
    "a = 10\n",
    "b = 5\n",
    "print(a>b)"
   ]
  },
  {
   "cell_type": "code",
   "execution_count": 28,
   "id": "789aac87-cd6c-42ef-a0b6-a41708195e9a",
   "metadata": {},
   "outputs": [
    {
     "name": "stdout",
     "output_type": "stream",
     "text": [
      "a==b= False\n",
      "a!=b= True\n",
      "a>b False\n",
      "a<=b True\n"
     ]
    }
   ],
   "source": [
    "a = 11\n",
    "b = 20\n",
    "print(\"a==b=\", a==b)\n",
    "print(\"a!=b=\", a!=b)\n",
    "print(\"a>b\", a>b)\n",
    "print(\"a<=b\", a<=b)"
   ]
  },
  {
   "cell_type": "markdown",
   "id": "593c0e88-22cc-4e23-8547-ecc3df9bfa79",
   "metadata": {},
   "source": [
    "### Python Logical Operators"
   ]
  },
  {
   "cell_type": "code",
   "execution_count": 41,
   "id": "e113278e-bcaa-428a-a251-bdf6f41c217c",
   "metadata": {},
   "outputs": [
    {
     "name": "stdout",
     "output_type": "stream",
     "text": [
      "False\n",
      "False\n",
      "True\n"
     ]
    }
   ],
   "source": [
    "a = 5\n",
    "b = 6\n",
    "print((a == b) and ( a > b))\n",
    "print((a!=b) and (a>b))\n",
    "print((a!=b) and (a<b))"
   ]
  },
  {
   "cell_type": "code",
   "execution_count": 47,
   "id": "884d335d-63a2-43ca-86b5-a09c15d83e55",
   "metadata": {},
   "outputs": [
    {
     "name": "stdout",
     "output_type": "stream",
     "text": [
      "True\n",
      "True\n",
      "False\n"
     ]
    }
   ],
   "source": [
    "a = 5\n",
    "b = 6\n",
    "print((a==b) or (a<b))\n",
    "print((a!=b) or (a<b))\n",
    "print((a==b) or (a>b))"
   ]
  },
  {
   "cell_type": "code",
   "execution_count": 51,
   "id": "cdb558be-3597-4837-96dd-189960d49472",
   "metadata": {},
   "outputs": [
    {
     "name": "stdout",
     "output_type": "stream",
     "text": [
      "True\n",
      "False\n"
     ]
    }
   ],
   "source": [
    "a = 5\n",
    "b = 6\n",
    "print(a!=b)\n",
    "print(a==b)"
   ]
  },
  {
   "cell_type": "markdown",
   "id": "202d0518-2ac3-471e-a22e-f57a21fc86ca",
   "metadata": {},
   "source": [
    "## Identity operators in Python\n"
   ]
  },
  {
   "cell_type": "markdown",
   "id": "97c1e604-eb40-4592-8865-4da24a7025fa",
   "metadata": {},
   "source": [
    "is and is not are used to check if two values are located at the same memory location."
   ]
  },
  {
   "cell_type": "code",
   "execution_count": 55,
   "id": "bcdad0b7-8c21-4ee4-a2a4-04b9b84bb514",
   "metadata": {},
   "outputs": [
    {
     "name": "stdout",
     "output_type": "stream",
     "text": [
      "False\n",
      "True\n",
      "False\n"
     ]
    }
   ],
   "source": [
    "x1 = 11\n",
    "y1 = 11\n",
    "x2 = 'Navalt'\n",
    "y2 = 'Navalt'\n",
    "x3 = [1,2,3]\n",
    "y3 = [1,2,3]\n",
    "\n",
    "print(x1 is not y1)\n",
    "print(x2 is y2)\n",
    "print(x3 is y3)"
   ]
  },
  {
   "cell_type": "markdown",
   "id": "b03aec17-5d41-41c0-94e2-fddbd5281296",
   "metadata": {},
   "source": [
    "Here, x1 and y1 are integers of the same values, so they are equal as well as identical. The same is the case with x2 and y2 (strings).\n",
    "\n",
    "**But x3 and y3 are lists. They are equal but not identical. It is because the interpreter locates them separately in memory, although they are equal.**"
   ]
  },
  {
   "cell_type": "markdown",
   "id": "d83dd39e-9ce4-49d5-9dda-969c4cbf73ef",
   "metadata": {},
   "source": [
    "## Membership operators"
   ]
  },
  {
   "cell_type": "markdown",
   "id": "c98879ad-233b-4224-bd45-0091b5dd7443",
   "metadata": {},
   "source": [
    "In Python, in and not in are the membership operators. They are used to test whether a value or variable is found in a sequence (string, list, tuple, set and dictionary)."
   ]
  },
  {
   "cell_type": "code",
   "execution_count": 71,
   "id": "2052dea5-7947-4433-bca6-3ed2521c71b0",
   "metadata": {},
   "outputs": [
    {
     "name": "stdout",
     "output_type": "stream",
     "text": [
      "True\n",
      "False\n",
      "True\n",
      "False\n"
     ]
    }
   ],
   "source": [
    "a = 'Navalt'\n",
    "b = {1:'x', 2:'y'}\n",
    "print('N' in a)\n",
    "print('navalt' in a)\n",
    "print(1 in b)\n",
    "print(y in b)\n"
   ]
  },
  {
   "cell_type": "markdown",
   "id": "c5a90572-c61e-45af-94bf-53436d94b22c",
   "metadata": {},
   "source": [
    "Here, 'N' is in Navalt, but 'navalt' is not present in Navalt **(remember, Python is case-sensitive)**.\r\n",
    "\r\n",
    "Similarly, 1 is key, andx'a' is the value in dictionary dict1. Hence,x'a' in y returns False"
   ]
  }
 ],
 "metadata": {
  "kernelspec": {
   "display_name": "Python 3 (ipykernel)",
   "language": "python",
   "name": "python3"
  },
  "language_info": {
   "codemirror_mode": {
    "name": "ipython",
    "version": 3
   },
   "file_extension": ".py",
   "mimetype": "text/x-python",
   "name": "python",
   "nbconvert_exporter": "python",
   "pygments_lexer": "ipython3",
   "version": "3.12.4"
  }
 },
 "nbformat": 4,
 "nbformat_minor": 5
}
