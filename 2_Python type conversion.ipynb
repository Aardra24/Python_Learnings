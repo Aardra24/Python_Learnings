{
  "metadata": {
    "kernelspec": {
      "name": "python",
      "display_name": "Python (Pyodide)",
      "language": "python"
    },
    "language_info": {
      "codemirror_mode": {
        "name": "python",
        "version": 3
      },
      "file_extension": ".py",
      "mimetype": "text/x-python",
      "name": "python",
      "nbconvert_exporter": "python",
      "pygments_lexer": "ipython3",
      "version": "3.8"
    }
  },
  "nbformat_minor": 4,
  "nbformat": 4,
  "cells": [
    {
      "cell_type": "code",
      "source": "integer_number = 11\nfloat_number =11.11\nnew_number = integer_number + float_number\nprint(\"value:\",new_number)\nprint(\"Data type:\",type(new_number))",
      "metadata": {
        "trusted": true
      },
      "outputs": [
        {
          "name": "stdout",
          "text": "value: 22.11\nData type: <class 'float'>\n",
          "output_type": "stream"
        }
      ],
      "execution_count": 3
    },
    {
      "cell_type": "code",
      "source": "x = '12'\ny = 13\nprint(\"data type of x before typecasting:\",type(x))\nx = int(x)\nprint(\"data type of y after typecasting:\",type(y))\nsum = x + y\nprint(sum)\nprint(\"data type of sum:\",type(sum))",
      "metadata": {
        "trusted": true
      },
      "outputs": [
        {
          "name": "stdout",
          "text": "data type of x before typecasting: <class 'str'>\ndata type of y after typecasting: <class 'int'>\n25\ndata type of sum: <class 'int'>\n",
          "output_type": "stream"
        }
      ],
      "execution_count": 9
    },
    {
      "cell_type": "code",
      "source": "",
      "metadata": {
        "trusted": true
      },
      "outputs": [],
      "execution_count": null
    }
  ]
}