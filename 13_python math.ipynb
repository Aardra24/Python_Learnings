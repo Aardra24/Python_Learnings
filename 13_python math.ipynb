{
 "cells": [
  {
   "cell_type": "markdown",
   "id": "74a9145a-f4e7-4728-934d-851531754264",
   "metadata": {},
   "source": [
    "# Math Module"
   ]
  },
  {
   "cell_type": "markdown",
   "id": "6ef539ad-9a83-4d15-8fc0-2caa25f1f4c7",
   "metadata": {},
   "source": [
    "## math.cos()"
   ]
  },
  {
   "cell_type": "markdown",
   "id": "2a1bbfd8-cf02-4981-9540-5bf06e93fc19",
   "metadata": {},
   "source": [
    "**Cosine of a number**"
   ]
  },
  {
   "cell_type": "code",
   "execution_count": 330,
   "id": "17d7b21f-f420-4343-a43e-48b787a6b4a8",
   "metadata": {},
   "outputs": [
    {
     "name": "stdout",
     "output_type": "stream",
     "text": [
      "0.9649660284921133\n"
     ]
    }
   ],
   "source": [
    "import math\n",
    "print(math.cos(50))"
   ]
  },
  {
   "cell_type": "markdown",
   "id": "c38d7c6b-fc63-4de8-b715-b3b582e2796b",
   "metadata": {},
   "source": [
    "## math.acos()"
   ]
  },
  {
   "cell_type": "markdown",
   "id": "0fa5c2c3-2b7f-473c-b92a-9e1b4d2eb4bb",
   "metadata": {},
   "source": [
    "**The math.acos() method returns the arc cosine value of a number.**"
   ]
  },
  {
   "cell_type": "code",
   "execution_count": 34,
   "id": "7b6d3a86-19b5-4306-8ae8-87090181b499",
   "metadata": {},
   "outputs": [
    {
     "name": "stdout",
     "output_type": "stream",
     "text": [
      "2.0943951023931957\n"
     ]
    }
   ],
   "source": [
    "import math\n",
    "print(math.acos(-0.5))"
   ]
  },
  {
   "cell_type": "markdown",
   "id": "be713443-f255-4970-87ee-b63f75a2bf12",
   "metadata": {},
   "source": [
    "**Note:** The parameter passed in math.acos() must lie between -1 to 1."
   ]
  },
  {
   "cell_type": "markdown",
   "id": "797b21bc-e91c-4f2f-b7ac-7c0f9996fde6",
   "metadata": {},
   "source": [
    "## math.cosh()"
   ]
  },
  {
   "cell_type": "markdown",
   "id": "779c8e0f-1041-41d8-a52f-615faaad12d7",
   "metadata": {},
   "source": [
    "**hyperbolic cosine of a number**"
   ]
  },
  {
   "cell_type": "code",
   "execution_count": 74,
   "id": "d1a879a8-fe1b-4c5a-8c13-51abdce9f86a",
   "metadata": {},
   "outputs": [
    {
     "name": "stdout",
     "output_type": "stream",
     "text": [
      "74.20994852478785\n"
     ]
    }
   ],
   "source": [
    "import math\n",
    "print(math.cosh(-5))"
   ]
  },
  {
   "cell_type": "markdown",
   "id": "934342ea-10a5-4454-87c6-2d4f1406be3f",
   "metadata": {},
   "source": [
    "## math.acosh()"
   ]
  },
  {
   "cell_type": "markdown",
   "id": "19d29228-d107-4620-821a-930eca1083a5",
   "metadata": {},
   "source": [
    "**The math.acosh() method returns the inverse hyperbolic cosine of a number.**"
   ]
  },
  {
   "cell_type": "code",
   "execution_count": 37,
   "id": "91707426-3097-41bd-874d-2c045871905e",
   "metadata": {},
   "outputs": [
    {
     "name": "stdout",
     "output_type": "stream",
     "text": [
      "2.8872709503576206\n"
     ]
    }
   ],
   "source": [
    "import math\n",
    "print(math.acosh(9))"
   ]
  },
  {
   "cell_type": "markdown",
   "id": "e22f1ad8-d6a8-41e2-8ca3-e50cf2da4df1",
   "metadata": {},
   "source": [
    "**Note:** Required. A positive number >= 1. If x is not a number, it returns a TypeError"
   ]
  },
  {
   "cell_type": "markdown",
   "id": "80c2f393-e1d7-49fb-963a-c61c3d93416c",
   "metadata": {},
   "source": [
    "## math.sin"
   ]
  },
  {
   "cell_type": "code",
   "execution_count": 67,
   "id": "a71e139c-d6b5-4fd1-8747-002bec06b29b",
   "metadata": {},
   "outputs": [
    {
     "name": "stdout",
     "output_type": "stream",
     "text": [
      "0.8939966636005579\n"
     ]
    }
   ],
   "source": [
    "import math\n",
    "print(math.sin(90))"
   ]
  },
  {
   "cell_type": "markdown",
   "id": "595c7b4b-0d27-4fbc-9fe5-34fd270f70eb",
   "metadata": {},
   "source": [
    "## math.asin()"
   ]
  },
  {
   "cell_type": "code",
   "execution_count": 48,
   "id": "32d92d2e-cd47-4593-88ac-ef76e80af58e",
   "metadata": {},
   "outputs": [
    {
     "name": "stdout",
     "output_type": "stream",
     "text": [
      "-0.5235987755982989\n"
     ]
    }
   ],
   "source": [
    "import math\n",
    "print(math.asin(-0.5))"
   ]
  },
  {
   "cell_type": "markdown",
   "id": "dc56da6f-6869-4459-bcbf-2b277e62ff8b",
   "metadata": {},
   "source": [
    "## math.asinh()"
   ]
  },
  {
   "cell_type": "code",
   "execution_count": 78,
   "id": "ed940f8e-56c3-494d-a947-456e209ea6da",
   "metadata": {},
   "outputs": [
    {
     "name": "stdout",
     "output_type": "stream",
     "text": [
      "2.312438341272753\n"
     ]
    }
   ],
   "source": [
    "import math\n",
    "print(math.asinh(5))"
   ]
  },
  {
   "cell_type": "markdown",
   "id": "f407cbdb-c9f6-43cf-9d5e-8c8f1d1fed12",
   "metadata": {},
   "source": [
    "## math.tan()"
   ]
  },
  {
   "cell_type": "code",
   "execution_count": 111,
   "id": "10d00d3d-9bc4-47b9-b1d9-0c3a43bfddf7",
   "metadata": {},
   "outputs": [
    {
     "name": "stdout",
     "output_type": "stream",
     "text": [
      "9.00365494560708\n"
     ]
    }
   ],
   "source": [
    "import math\n",
    "print(math.tan(80))"
   ]
  },
  {
   "cell_type": "markdown",
   "id": "ed0da76e-a68f-46a0-ad6c-2a508c86d1a9",
   "metadata": {},
   "source": [
    "## math.atan()"
   ]
  },
  {
   "cell_type": "code",
   "execution_count": 85,
   "id": "da41b544-7c15-42a9-95db-7ddfaec861fb",
   "metadata": {},
   "outputs": [
    {
     "name": "stdout",
     "output_type": "stream",
     "text": [
      "1.373400766945016\n"
     ]
    }
   ],
   "source": [
    "import math\n",
    "print(math.atan(5))"
   ]
  },
  {
   "cell_type": "markdown",
   "id": "d0c1a492-a337-4d40-a7b9-f388f35290c7",
   "metadata": {},
   "source": [
    "## math.tanh()"
   ]
  },
  {
   "cell_type": "code",
   "execution_count": 87,
   "id": "e89c11ac-47ee-4034-b6da-e364c14f886b",
   "metadata": {},
   "outputs": [
    {
     "name": "stdout",
     "output_type": "stream",
     "text": [
      "0.9999092042625951\n"
     ]
    }
   ],
   "source": [
    "import math\n",
    "print(math.tanh(5))"
   ]
  },
  {
   "cell_type": "markdown",
   "id": "8ab02b06-f10e-4f68-a40e-7611b73e8503",
   "metadata": {},
   "source": [
    "## math.atanh()"
   ]
  },
  {
   "cell_type": "code",
   "execution_count": 93,
   "id": "c270f1e6-f2ba-4ad8-9e1d-40d1ede5b53d",
   "metadata": {},
   "outputs": [
    {
     "name": "stdout",
     "output_type": "stream",
     "text": [
      "0.0\n"
     ]
    }
   ],
   "source": [
    "import math\n",
    "print(math.atanh(0))"
   ]
  },
  {
   "cell_type": "markdown",
   "id": "d25fdbba-e1d3-4820-b78e-7e772b849f1e",
   "metadata": {},
   "source": [
    "**Note:** The parameter passed in math.atanh() must lie between -0.99 to 0.99."
   ]
  },
  {
   "cell_type": "markdown",
   "id": "8ea69a71-6b3b-4602-afcb-75e6d96f4dd2",
   "metadata": {},
   "source": [
    "## math.atan2()"
   ]
  },
  {
   "cell_type": "code",
   "execution_count": 107,
   "id": "b1739ef4-52cd-43d2-bfdd-cd7a7a23d52b",
   "metadata": {},
   "outputs": [
    {
     "name": "stdout",
     "output_type": "stream",
     "text": [
      "0.09966865249116202\n"
     ]
    }
   ],
   "source": [
    "import math\n",
    "print(math.atan2(5,50))"
   ]
  },
  {
   "cell_type": "markdown",
   "id": "cc66e673-9fa7-42ac-94cf-20c4b85c7fa9",
   "metadata": {},
   "source": [
    "**The math.atan2() method returns the arc tangent of y/x, in radians. Where x and y are the coordinates of a point (x,y).**\n",
    "\n",
    "The returned value is between PI and -PI."
   ]
  },
  {
   "cell_type": "markdown",
   "id": "bafdbfaa-8c3f-4239-a6f7-045d99418ff2",
   "metadata": {},
   "source": [
    "## math.log()"
   ]
  },
  {
   "cell_type": "markdown",
   "id": "de7f3dc5-6837-4ca5-ad5d-5594b2d3336a",
   "metadata": {},
   "source": [
    "**Returns the natural logarithm of a number, or the logarithm of number to base**"
   ]
  },
  {
   "cell_type": "code",
   "execution_count": 173,
   "id": "9cb63982-c17f-422b-8988-ec72a089a488",
   "metadata": {},
   "outputs": [
    {
     "name": "stdout",
     "output_type": "stream",
     "text": [
      "0.6931471805599453\n"
     ]
    }
   ],
   "source": [
    "import math\n",
    "print(math.log(2))"
   ]
  },
  {
   "cell_type": "markdown",
   "id": "c75d02f1-1182-477a-93bb-80d8126b72d2",
   "metadata": {},
   "source": [
    "## math.log10()"
   ]
  },
  {
   "cell_type": "markdown",
   "id": "30571c52-7993-4aee-b104-4fb075b0bb46",
   "metadata": {},
   "source": [
    "**Returns the base-10 logarithm of x**"
   ]
  },
  {
   "cell_type": "code",
   "execution_count": 171,
   "id": "06ec4f48-ce18-48db-b69d-636360e07876",
   "metadata": {},
   "outputs": [
    {
     "name": "stdout",
     "output_type": "stream",
     "text": [
      "2.0969100130080562\n"
     ]
    }
   ],
   "source": [
    "import math\n",
    "print(math.log10(125))"
   ]
  },
  {
   "cell_type": "markdown",
   "id": "ba81f223-80db-41fa-b882-d79dff8cfab5",
   "metadata": {},
   "source": [
    "## math.log1p()"
   ]
  },
  {
   "cell_type": "markdown",
   "id": "37881555-1ce3-4e1a-a734-2878703f371a",
   "metadata": {},
   "source": [
    "**Returns the natural logarithm of 1+x**"
   ]
  },
  {
   "cell_type": "code",
   "execution_count": 159,
   "id": "debbcbbf-e372-4c4e-bb97-553d1c7b379b",
   "metadata": {},
   "outputs": [
    {
     "name": "stdout",
     "output_type": "stream",
     "text": [
      "-0.6931471805599453\n",
      "1.791759469228055\n"
     ]
    }
   ],
   "source": [
    "import math\n",
    "print(math.log1p(-0.5))\n",
    "print(math.log1p(5))"
   ]
  },
  {
   "cell_type": "markdown",
   "id": "0e8f70f3-5838-4f28-8f17-217a91421e28",
   "metadata": {},
   "source": [
    "## math.log2()"
   ]
  },
  {
   "cell_type": "markdown",
   "id": "09b47aea-8578-4bfa-bfab-7f0938119763",
   "metadata": {},
   "source": [
    "**Returns the base-2 logarithm of x**"
   ]
  },
  {
   "cell_type": "code",
   "execution_count": 175,
   "id": "dd464230-e575-473d-8c8b-6c00b6db6cd4",
   "metadata": {},
   "outputs": [
    {
     "name": "stdout",
     "output_type": "stream",
     "text": [
      "2.321928094887362\n"
     ]
    }
   ],
   "source": [
    "import math\n",
    "print(math.log2(5))"
   ]
  },
  {
   "cell_type": "markdown",
   "id": "e53e655b-1f4e-485d-b1a2-4d70749a3134",
   "metadata": {},
   "source": [
    "## math.pow()"
   ]
  },
  {
   "cell_type": "markdown",
   "id": "8b2ca3aa-10b7-4a3b-aff1-1ed2b0508dd3",
   "metadata": {},
   "source": [
    "**The math.pow() method returns the value of x raised to power y.**\n",
    "\n",
    "**If x is negative and y is not an integer, it returns a ValueError.**"
   ]
  },
  {
   "cell_type": "code",
   "execution_count": 180,
   "id": "cac44a4d-c6ca-4076-8e93-428e2f172fc7",
   "metadata": {},
   "outputs": [
    {
     "name": "stdout",
     "output_type": "stream",
     "text": [
      "125.0\n"
     ]
    }
   ],
   "source": [
    "import math\n",
    "print(math.pow(5,3))"
   ]
  },
  {
   "cell_type": "markdown",
   "id": "06fccdca-fe38-4daa-a59b-6f403f03b931",
   "metadata": {},
   "source": [
    "## math.sqrt()"
   ]
  },
  {
   "cell_type": "code",
   "execution_count": 183,
   "id": "d7c92cfd-0f8c-4fa7-81a7-e04145ce3e1f",
   "metadata": {},
   "outputs": [
    {
     "name": "stdout",
     "output_type": "stream",
     "text": [
      "2.23606797749979\n"
     ]
    }
   ],
   "source": [
    "import math\n",
    "print(math.sqrt(5))"
   ]
  },
  {
   "cell_type": "markdown",
   "id": "22b2d0ce-3ad8-4ef7-a17d-0b9d006826dc",
   "metadata": {},
   "source": [
    "## math.isqrt()"
   ]
  },
  {
   "cell_type": "markdown",
   "id": "2b9dbdc5-ebd4-401d-a1ab-83bff3bd22a9",
   "metadata": {},
   "source": [
    "**The math.isqrt() method rounds a square root number downwards to the nearest integer.**"
   ]
  },
  {
   "cell_type": "code",
   "execution_count": 194,
   "id": "0ba4b844-c0dc-479b-a190-08ca883b1c7f",
   "metadata": {},
   "outputs": [
    {
     "name": "stdout",
     "output_type": "stream",
     "text": [
      "3.1622776601683795\n",
      "3\n"
     ]
    }
   ],
   "source": [
    "import math\n",
    "print(math.sqrt(10))\n",
    "print(math.isqrt(10))"
   ]
  },
  {
   "cell_type": "markdown",
   "id": "0adf685f-1959-4337-94c9-be0da4233d73",
   "metadata": {},
   "source": [
    "## math.ceil()"
   ]
  },
  {
   "cell_type": "markdown",
   "id": "a576440c-6146-40be-94f0-3169bd8f1d81",
   "metadata": {},
   "source": [
    "**The math.ceil() method rounds a number UP to the nearest integer, if necessary, and returns the result.**"
   ]
  },
  {
   "cell_type": "code",
   "execution_count": 200,
   "id": "44842c19-49c8-40e8-b2e3-77e80bc6f7bc",
   "metadata": {},
   "outputs": [
    {
     "name": "stdout",
     "output_type": "stream",
     "text": [
      "6\n"
     ]
    }
   ],
   "source": [
    "import math\n",
    "print(math.ceil(5.5))"
   ]
  },
  {
   "cell_type": "markdown",
   "id": "3c1f9371-2edf-4360-b2ec-450394317b08",
   "metadata": {},
   "source": [
    "## math.floor()"
   ]
  },
  {
   "cell_type": "code",
   "execution_count": 209,
   "id": "a0a33948-4ee5-4b8b-9639-a184cdecd401",
   "metadata": {},
   "outputs": [
    {
     "name": "stdout",
     "output_type": "stream",
     "text": [
      "5\n",
      "5\n"
     ]
    }
   ],
   "source": [
    "import math\n",
    "print(math.floor(5.8))\n",
    "print(math.floor(5.5))"
   ]
  },
  {
   "cell_type": "markdown",
   "id": "e5145558-d5ca-4444-95d7-98c64f718336",
   "metadata": {},
   "source": [
    "## math.prod()"
   ]
  },
  {
   "cell_type": "markdown",
   "id": "c9d4bc40-82db-487a-9b7c-1e551b01c1d1",
   "metadata": {},
   "source": [
    "**The math.prod() method returns the product of the elements from the given iterable.**\n",
    "\n"
   ]
  },
  {
   "cell_type": "code",
   "execution_count": 218,
   "id": "3f2f79b3-2b43-40dc-8df8-3f258169e4a1",
   "metadata": {},
   "outputs": [
    {
     "name": "stdout",
     "output_type": "stream",
     "text": [
      "891\n"
     ]
    }
   ],
   "source": [
    "import math\n",
    "n = (1,11,81)\n",
    "print(math.prod(n))"
   ]
  },
  {
   "cell_type": "markdown",
   "id": "dbc999d2-e414-4d6f-be4f-bb16dcec39f8",
   "metadata": {},
   "source": [
    "## math.factorial()"
   ]
  },
  {
   "cell_type": "markdown",
   "id": "d790316b-c6b7-4fa4-b170-72ae2248873b",
   "metadata": {},
   "source": [
    "**The math.factorial() method returns the factorial of a number.**"
   ]
  },
  {
   "cell_type": "code",
   "execution_count": 227,
   "id": "19abc00f-bd44-48eb-892e-eb626051fc14",
   "metadata": {},
   "outputs": [
    {
     "name": "stdout",
     "output_type": "stream",
     "text": [
      "120\n"
     ]
    }
   ],
   "source": [
    "import math\n",
    "print(math.factorial(5))"
   ]
  },
  {
   "cell_type": "markdown",
   "id": "c0446746-5741-4d35-b106-49c5df807117",
   "metadata": {},
   "source": [
    "## math.trunc()"
   ]
  },
  {
   "cell_type": "markdown",
   "id": "e03f50ed-15a6-46e5-8ced-b7782b922235",
   "metadata": {},
   "source": [
    "**The math.trunc() method returns the truncated integer part of a number.**"
   ]
  },
  {
   "cell_type": "code",
   "execution_count": 237,
   "id": "f57857b1-2609-4d89-9a75-bfc18e4e0ad2",
   "metadata": {},
   "outputs": [
    {
     "name": "stdout",
     "output_type": "stream",
     "text": [
      "6\n"
     ]
    }
   ],
   "source": [
    "import math\n",
    "print(math.trunc(6.58))"
   ]
  },
  {
   "cell_type": "markdown",
   "id": "f650791f-0534-4b00-b665-81077d3e4965",
   "metadata": {},
   "source": [
    "## math.remainder()"
   ]
  },
  {
   "cell_type": "markdown",
   "id": "7a0f5a8e-a8a4-4e94-b6ae-6bb33c99a777",
   "metadata": {},
   "source": [
    "**The math.remainder() method returns the remainder of x with respect to y.**"
   ]
  },
  {
   "cell_type": "code",
   "execution_count": 249,
   "id": "fdbb2239-6cda-4ed8-8532-2a08e99244fe",
   "metadata": {},
   "outputs": [
    {
     "name": "stdout",
     "output_type": "stream",
     "text": [
      "1.0\n"
     ]
    }
   ],
   "source": [
    "import math\n",
    "print(math.remainder(10,3))"
   ]
  },
  {
   "cell_type": "markdown",
   "id": "52cea6a7-cc31-4e33-86b7-e6cb6a01c477",
   "metadata": {},
   "source": [
    "## math.radians()"
   ]
  },
  {
   "cell_type": "markdown",
   "id": "378eba2d-a6e5-4b41-be1f-70a597f499f3",
   "metadata": {},
   "source": [
    "**converts degree to radian**"
   ]
  },
  {
   "cell_type": "code",
   "execution_count": 252,
   "id": "a727a5ff-4cfd-4125-8bcc-308c0a0ab202",
   "metadata": {},
   "outputs": [
    {
     "name": "stdout",
     "output_type": "stream",
     "text": [
      "1.7453292519943295\n"
     ]
    }
   ],
   "source": [
    "import math\n",
    "print(math.radians(100))"
   ]
  },
  {
   "cell_type": "markdown",
   "id": "fa0b8a81-3233-483d-941d-12762ba9e96d",
   "metadata": {},
   "source": [
    "## math.degree()"
   ]
  },
  {
   "cell_type": "markdown",
   "id": "2d5523da-4aa4-41c0-8ecb-1d706291df7f",
   "metadata": {},
   "source": [
    "**Converts radian to degree**"
   ]
  },
  {
   "cell_type": "code",
   "execution_count": 258,
   "id": "03f77977-f171-4642-8fdb-e35b4fdfb123",
   "metadata": {},
   "outputs": [
    {
     "name": "stdout",
     "output_type": "stream",
     "text": [
      "71.6197243913529\n"
     ]
    }
   ],
   "source": [
    "import math\n",
    "print(math.degrees(1.25))\n"
   ]
  },
  {
   "cell_type": "markdown",
   "id": "319c5d7f-4ad9-414e-b36e-a2fefc3329ad",
   "metadata": {},
   "source": [
    "## math.dist()"
   ]
  },
  {
   "cell_type": "markdown",
   "id": "2d48294b-49a0-4e0d-9173-cbf9b951213c",
   "metadata": {},
   "source": [
    "**The math.dist() method returns the Euclidean distance between two points (p and q), where p and q are the coordinates of that point.**\n",
    "\n",
    "**Note:** The two points (p and q) must be of the same dimensions."
   ]
  },
  {
   "cell_type": "code",
   "execution_count": 267,
   "id": "584fedad-76e0-457e-a237-6d2dff1c187c",
   "metadata": {},
   "outputs": [
    {
     "name": "stdout",
     "output_type": "stream",
     "text": [
      "6.928203230275509\n"
     ]
    }
   ],
   "source": [
    "import math\n",
    "\n",
    "p=[1,2,3]\n",
    "q=[5,6,7]\n",
    "\n",
    "print(math.dist(p,q))"
   ]
  },
  {
   "cell_type": "markdown",
   "id": "8168732d-1584-4a92-8593-893505f5ff62",
   "metadata": {},
   "source": [
    "## math.fabs()"
   ]
  },
  {
   "cell_type": "markdown",
   "id": "df83e70c-7eb1-48e6-b312-fb3246b35a4f",
   "metadata": {},
   "source": [
    "**absolute number**"
   ]
  },
  {
   "cell_type": "code",
   "execution_count": 271,
   "id": "cb239489-29d1-4d70-b924-3d2e0b0d410a",
   "metadata": {},
   "outputs": [
    {
     "name": "stdout",
     "output_type": "stream",
     "text": [
      "99.9\n"
     ]
    }
   ],
   "source": [
    "import math\n",
    "print(math.fabs(-99.90))"
   ]
  },
  {
   "cell_type": "markdown",
   "id": "1fded329-7d1b-40bb-a286-b9d2bf6b3297",
   "metadata": {},
   "source": [
    "## math.perm()"
   ]
  },
  {
   "cell_type": "markdown",
   "id": "81352ae4-dbb4-49d4-8b01-524158d27cbc",
   "metadata": {},
   "source": [
    "**The math.perm() method returns the number of ways to choose k items from n items with order and without repetition.**"
   ]
  },
  {
   "cell_type": "code",
   "execution_count": 321,
   "id": "522ade34-78da-4db6-abe3-22d16e479a02",
   "metadata": {},
   "outputs": [
    {
     "name": "stdout",
     "output_type": "stream",
     "text": [
      "6\n"
     ]
    }
   ],
   "source": [
    "import math\n",
    "n = 3\n",
    "k = 2\n",
    "print(math.perm(n,k))"
   ]
  },
  {
   "cell_type": "markdown",
   "id": "2de84994-2ab3-4fdb-b650-64a66099cd08",
   "metadata": {},
   "source": [
    "## math.comb()"
   ]
  },
  {
   "cell_type": "markdown",
   "id": "560f5585-a0ca-4271-adf7-d9c6e07cfb9d",
   "metadata": {},
   "source": [
    "**The math.comb() method returns the number of ways picking k unordered outcomes from n possibilities, without repetition, also known as combinations.**"
   ]
  },
  {
   "cell_type": "code",
   "execution_count": 325,
   "id": "1752bfa8-386e-4fe0-85b5-97d7c2d8a975",
   "metadata": {},
   "outputs": [
    {
     "name": "stdout",
     "output_type": "stream",
     "text": [
      "3\n"
     ]
    }
   ],
   "source": [
    "import math\n",
    "n = 3\n",
    "k = 2\n",
    "print(math.comb(n,k))"
   ]
  },
  {
   "cell_type": "markdown",
   "id": "abdab837-83f0-4abf-b65e-aa6d68e194ff",
   "metadata": {},
   "source": [
    "### Diff between permutation and combination"
   ]
  },
  {
   "cell_type": "markdown",
   "id": "66c75a79-c783-4d73-a9cd-cbb01838dcc5",
   "metadata": {},
   "source": [
    "**If the order is important, then the problem is related to permutation, and the possible number of samples will be, XY, YX, YZ, ZY, XZ, ZX. In this case, XY is distinct from the sample YX, YZ is distinct from the sample ZY and XZ is distinct from the sample ZX.**\n",
    "\n",
    "**If the order is unnecessary, then the question is relevant to the combination, and the possible samples will be XY, YZ and ZX.**"
   ]
  },
  {
   "cell_type": "markdown",
   "id": "fc4c2c1f-6341-4a6d-8a22-5614a5610e50",
   "metadata": {},
   "source": [
    "## math.exp()"
   ]
  },
  {
   "cell_type": "markdown",
   "id": "cc8fe85c-371b-4fde-ab4d-c09a1721f77e",
   "metadata": {},
   "source": [
    "**The math.exp() method returns E raised to the power of x (Ex).**\n",
    "\n",
    "**'E' is the base of the natural system of logarithms (approximately 2.718282) and x is the number passed to it.**"
   ]
  },
  {
   "cell_type": "code",
   "execution_count": 334,
   "id": "999e4bac-ff4b-4818-b200-6104c1845bff",
   "metadata": {},
   "outputs": [
    {
     "name": "stdout",
     "output_type": "stream",
     "text": [
      "7.38905609893065\n"
     ]
    }
   ],
   "source": [
    "import math\n",
    "print(math.exp(2))"
   ]
  },
  {
   "cell_type": "markdown",
   "id": "1c8757b0-0a79-44bb-a3bc-6706e515089f",
   "metadata": {},
   "source": [
    "## math.expm1()"
   ]
  },
  {
   "cell_type": "markdown",
   "id": "34987e5e-0690-48f2-8ef3-e8f98852416f",
   "metadata": {},
   "source": [
    "**The math.expm1() method returns Ex - 1.**"
   ]
  },
  {
   "cell_type": "code",
   "execution_count": 420,
   "id": "a614855d-1d32-4c3d-8f9d-b3488217550b",
   "metadata": {},
   "outputs": [
    {
     "name": "stdout",
     "output_type": "stream",
     "text": [
      "8.223012714622913e+36\n"
     ]
    }
   ],
   "source": [
    "import math\n",
    "print(math.expm1(85))"
   ]
  },
  {
   "cell_type": "markdown",
   "id": "6bd7be52-e90a-42c0-83de-0d103e1d1f5d",
   "metadata": {},
   "source": [
    "## math.fsum()"
   ]
  },
  {
   "cell_type": "code",
   "execution_count": 349,
   "id": "4742816f-653c-400f-8694-27d24d8aa57c",
   "metadata": {},
   "outputs": [
    {
     "name": "stdout",
     "output_type": "stream",
     "text": [
      "37.0\n",
      "90.2\n"
     ]
    }
   ],
   "source": [
    "import math\n",
    "print(math.fsum([15,2,5,5,5,5]))\n",
    "print(math.fsum((48,9,5,8,7,8.2,5)))"
   ]
  },
  {
   "cell_type": "markdown",
   "id": "43f8bb63-9142-4be3-a6b6-36df2f39b7d9",
   "metadata": {},
   "source": [
    "## math.gcd()"
   ]
  },
  {
   "cell_type": "markdown",
   "id": "e7360e79-3047-40eb-ab43-a5dea07a7eeb",
   "metadata": {},
   "source": [
    "**Greatest Common Divisor(HCF)**"
   ]
  },
  {
   "cell_type": "code",
   "execution_count": 362,
   "id": "eddafe7c-c643-4dd9-b8ac-1920d40fd254",
   "metadata": {},
   "outputs": [
    {
     "name": "stdout",
     "output_type": "stream",
     "text": [
      "1\n"
     ]
    }
   ],
   "source": [
    "import math\n",
    "print(math.gcd(2,5,8,8))"
   ]
  },
  {
   "cell_type": "markdown",
   "id": "18837a1c-cc29-4220-b439-b4847a99cc8f",
   "metadata": {},
   "source": [
    "## math.hypot()"
   ]
  },
  {
   "cell_type": "markdown",
   "id": "d352be72-a023-4587-b5b8-42945bae64e0",
   "metadata": {},
   "source": [
    "**The math.hypot() method returns the Euclidean norm. The Euclidian norm is the distance from the origin to the coordinates given.**"
   ]
  },
  {
   "cell_type": "code",
   "execution_count": 377,
   "id": "2ebe79c4-53cc-4036-8986-5e8f27ca2afb",
   "metadata": {},
   "outputs": [
    {
     "name": "stdout",
     "output_type": "stream",
     "text": [
      "7.3484692283495345\n"
     ]
    }
   ],
   "source": [
    "import math\n",
    "l1 = 5\n",
    "l2 = 2\n",
    "l3= 5\n",
    "l4 =6\n",
    "print(math.hypot(l1,l2,l3))"
   ]
  },
  {
   "cell_type": "code",
   "execution_count": 379,
   "id": "78412d4c-2481-452e-9c73-bd196467184b",
   "metadata": {},
   "outputs": [
    {
     "name": "stdout",
     "output_type": "stream",
     "text": [
      "Hypotenuse=  37.20215047547655\n"
     ]
    }
   ],
   "source": [
    "import math\n",
    "perpendicular = 22\n",
    "base = 30\n",
    "print(\"Hypotenuse= \",math.hypot(perpendicular,base))"
   ]
  },
  {
   "cell_type": "markdown",
   "id": "d56bc5e3-b760-4591-895d-e8971a7e5c7d",
   "metadata": {},
   "source": [
    "## math.isclose"
   ]
  },
  {
   "cell_type": "code",
   "execution_count": 387,
   "id": "bc4b1755-1e71-448e-b560-785fedbbfacb",
   "metadata": {},
   "outputs": [
    {
     "name": "stdout",
     "output_type": "stream",
     "text": [
      "False\n"
     ]
    }
   ],
   "source": [
    "import math\n",
    "print(math.isclose(6.55,65))"
   ]
  },
  {
   "cell_type": "markdown",
   "id": "4fb80fa6-ef8b-451f-990e-d2e23987ba0d",
   "metadata": {},
   "source": [
    "## math.isinf()"
   ]
  },
  {
   "cell_type": "code",
   "execution_count": 403,
   "id": "1ee19ecb-5ef6-4ddc-8a77-9d513a0da155",
   "metadata": {},
   "outputs": [
    {
     "name": "stdout",
     "output_type": "stream",
     "text": [
      "False\n"
     ]
    }
   ],
   "source": [
    "import math\n",
    "print(math.isinf(5))"
   ]
  },
  {
   "cell_type": "markdown",
   "id": "38d04c99-8ed1-4627-bccf-5bb42464c228",
   "metadata": {},
   "source": [
    "## math.isfinite()"
   ]
  },
  {
   "cell_type": "code",
   "execution_count": 409,
   "id": "c9d5f387-0190-4b1e-8d4a-f976d8f2bfd1",
   "metadata": {},
   "outputs": [
    {
     "name": "stdout",
     "output_type": "stream",
     "text": [
      "True\n"
     ]
    }
   ],
   "source": [
    "import math\n",
    "print(math.isfinite(5))"
   ]
  },
  {
   "cell_type": "markdown",
   "id": "515f87d2-301b-44a8-9f3e-53653e4d47ee",
   "metadata": {},
   "source": [
    "## math.fmod()"
   ]
  },
  {
   "cell_type": "markdown",
   "id": "a09a2ac7-ded3-4a49-b348-fd642d631ad7",
   "metadata": {},
   "source": [
    "**Reminder value**"
   ]
  },
  {
   "cell_type": "code",
   "execution_count": 414,
   "id": "78322547-9329-4c23-a8d2-d47a5e415b50",
   "metadata": {},
   "outputs": [
    {
     "name": "stdout",
     "output_type": "stream",
     "text": [
      "1.0\n"
     ]
    }
   ],
   "source": [
    "import math\n",
    "print(math.fmod(5,2))"
   ]
  },
  {
   "cell_type": "markdown",
   "id": "cbd766af-65c7-4b9c-b088-e76de7fe0cbd",
   "metadata": {},
   "source": [
    "## math.frexp()"
   ]
  },
  {
   "cell_type": "markdown",
   "id": "96a36526-8ed7-4c04-86eb-eb70e6f639f6",
   "metadata": {},
   "source": [
    "**The math.frexp() method returns the mantissa and the exponent of a specified number, as a pair (m,e).**\n",
    "\n",
    "The mathematical formula for this method is: number = m * 2**e."
   ]
  },
  {
   "cell_type": "code",
   "execution_count": 427,
   "id": "26575837-21f8-443b-8ad5-2639ae945153",
   "metadata": {},
   "outputs": [
    {
     "name": "stdout",
     "output_type": "stream",
     "text": [
      "(0.859375, 6)\n"
     ]
    }
   ],
   "source": [
    "import math\n",
    "print(math.frexp(55))"
   ]
  },
  {
   "cell_type": "markdown",
   "id": "36f6524e-df05-424e-bc93-f536e52a4225",
   "metadata": {},
   "source": [
    "## math.ldexp()"
   ]
  },
  {
   "cell_type": "markdown",
   "id": "40fec733-24c7-4b87-a688-153c5cd5550b",
   "metadata": {},
   "source": [
    "The math.ldexp() method returns  x * (2**i) of the given numbers x and i, which is the inverse of math.frexp()."
   ]
  },
  {
   "cell_type": "code",
   "execution_count": 431,
   "id": "e54ad895-9fc7-4e9e-b7bf-d1929be56ba1",
   "metadata": {},
   "outputs": [
    {
     "name": "stdout",
     "output_type": "stream",
     "text": [
      "320.0\n"
     ]
    }
   ],
   "source": [
    "import math\n",
    "print(math.ldexp(5,6))"
   ]
  },
  {
   "cell_type": "markdown",
   "id": "386345d7-2646-4d8c-a5ed-cec1f5db0703",
   "metadata": {},
   "source": [
    "## math.gama()"
   ]
  },
  {
   "cell_type": "markdown",
   "id": "b1d776f9-224f-42fd-bb92-cd6daa4ef35c",
   "metadata": {},
   "source": [
    "**The math.gamma() method returns the gamma function at a number.**"
   ]
  },
  {
   "cell_type": "code",
   "execution_count": 435,
   "id": "e09e09e6-55ea-4229-a139-848da56b06d4",
   "metadata": {},
   "outputs": [
    {
     "name": "stdout",
     "output_type": "stream",
     "text": [
      "24.0\n"
     ]
    }
   ],
   "source": [
    "import math\n",
    "print(math.gamma(5))"
   ]
  },
  {
   "cell_type": "markdown",
   "id": "318166a4-b606-434c-a4dd-180ab18374f5",
   "metadata": {},
   "source": [
    "## math.lgamma()"
   ]
  },
  {
   "cell_type": "markdown",
   "id": "3faa2719-6e59-4d2b-ada4-27233ad6204f",
   "metadata": {},
   "source": [
    "**The log gamma value of a number, use the math.lgamma() method.**"
   ]
  },
  {
   "cell_type": "code",
   "execution_count": 438,
   "id": "cd12d3e0-0a36-4ad8-b513-b7c6adf36c5f",
   "metadata": {},
   "outputs": [
    {
     "name": "stdout",
     "output_type": "stream",
     "text": [
      "3.178053830347945\n"
     ]
    }
   ],
   "source": [
    "import math\n",
    "print(math.lgamma(5))"
   ]
  },
  {
   "cell_type": "markdown",
   "id": "0ea7a615-7106-4b21-9312-ee65aae8f985",
   "metadata": {},
   "source": [
    "## math.copysign()"
   ]
  },
  {
   "cell_type": "markdown",
   "id": "191fcffe-51db-484d-b731-61ddebebf253",
   "metadata": {},
   "source": [
    "**The math.copysign() method returns a float consisting of the value of the first parameter and the sign(+/-) of the second parameter.**"
   ]
  },
  {
   "cell_type": "code",
   "execution_count": 450,
   "id": "89eae3e4-411a-4828-955f-dd87a18eb354",
   "metadata": {},
   "outputs": [
    {
     "name": "stdout",
     "output_type": "stream",
     "text": [
      "-4.0\n"
     ]
    }
   ],
   "source": [
    "import math\n",
    "print(math.copysign(4,-5))"
   ]
  },
  {
   "cell_type": "markdown",
   "id": "53437cbe-f25c-46e6-aecb-fd64141abd42",
   "metadata": {},
   "source": [
    "## math.erf()"
   ]
  },
  {
   "cell_type": "code",
   "execution_count": 459,
   "id": "67b0b33b-d6c9-44ad-92b5-9eb565c002ee",
   "metadata": {},
   "outputs": [
    {
     "name": "stdout",
     "output_type": "stream",
     "text": [
      "0.999593047982555\n"
     ]
    }
   ],
   "source": [
    "import math\n",
    "print(math.erf(2.5))"
   ]
  },
  {
   "cell_type": "markdown",
   "id": "ada11217-b2bd-437a-8d2f-ffd29b085f89",
   "metadata": {},
   "source": [
    "## math.erfc()"
   ]
  },
  {
   "cell_type": "markdown",
   "id": "2b4d84a6-c320-47a9-b892-588899c98276",
   "metadata": {},
   "source": [
    "**The math.erfc() method returns the complementary error function of a number.**"
   ]
  },
  {
   "cell_type": "code",
   "execution_count": 494,
   "id": "fd15f2a0-4a80-40e8-86fb-aff0dd768eed",
   "metadata": {},
   "outputs": [
    {
     "name": "stdout",
     "output_type": "stream",
     "text": [
      "0.004677734981047266\n"
     ]
    }
   ],
   "source": [
    "import math\n",
    "print(math.erfc(2))"
   ]
  }
 ],
 "metadata": {
  "kernelspec": {
   "display_name": "Python 3 (ipykernel)",
   "language": "python",
   "name": "python3"
  },
  "language_info": {
   "codemirror_mode": {
    "name": "ipython",
    "version": 3
   },
   "file_extension": ".py",
   "mimetype": "text/x-python",
   "name": "python",
   "nbconvert_exporter": "python",
   "pygments_lexer": "ipython3",
   "version": "3.12.4"
  }
 },
 "nbformat": 4,
 "nbformat_minor": 5
}
